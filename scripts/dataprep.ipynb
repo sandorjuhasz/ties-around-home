{
 "cells": [
  {
   "cell_type": "code",
   "execution_count": 1,
   "metadata": {},
   "outputs": [],
   "source": [
    "import pandas as pd\n",
    "import numpy as np\n",
    "import seaborn as sns\n",
    "import networkx as nx\n",
    "import matplotlib.pyplot as plt\n",
    "%matplotlib inline\n",
    "\n",
    "import geopandas as gpd\n",
    "import shapely\n",
    "from shapely.geometry import Point, Polygon, LineString\n",
    "\n",
    "import json\n",
    "import time"
   ]
  },
  {
   "source": [
    "## data prep (1) edgelist w/ home-home distance\n",
    "output : geo_edgelist_top50.csv.gz"
   ],
   "cell_type": "markdown",
   "metadata": {}
  },
  {
   "cell_type": "code",
   "execution_count": 11,
   "metadata": {},
   "outputs": [],
   "source": [
    "# follower network -- data\n",
    "edgelist = pd.read_csv('../data/usageousers_city_follower_networks.rpt.gz')\n",
    "\n",
    "# read in data about individuals -- data2\n",
    "userinfo = pd.read_csv('../data/usageousers_data_export_with_tract_geoid_top50.csv.gz', index_col=0)\n",
    "user_geo = userinfo.loc[:,[\"user_id\", \"lat_home\", \"lon_home\", \"lat_work\", \"lon_work\"]]"
   ]
  },
  {
   "cell_type": "code",
   "execution_count": 12,
   "metadata": {},
   "outputs": [],
   "source": [
    "# edgelist with geoinfo\n",
    "edgelist = pd.merge(pd.merge(edgelist, user_geo, left_on=\"user_id1\", right_on=\"user_id\", how=\"left\"),\\\n",
    "               user_geo, left_on=\"user_id2\", right_on=\"user_id\", how=\"left\", suffixes=(\"1\", \"2\"))\n",
    "\n",
    "# remove duplicate columns\n",
    "edgelist = edgelist.loc[:,~edgelist.columns.duplicated()]"
   ]
  },
  {
   "cell_type": "code",
   "execution_count": 13,
   "metadata": {},
   "outputs": [
    {
     "name": "stderr",
     "output_type": "stream",
     "text": [
      "/usr/local/lib/python3.8/site-packages/pyproj/crs/crs.py:53: FutureWarning: '+init=<authority>:<code>' syntax is deprecated. '<authority>:<code>' is the preferred initialization method. When making the change, be mindful of axis order changes: https://pyproj4.github.io/pyproj/stable/gotchas.html#axis-order-changes-in-proj-6\n",
      "  return _prepare_from_string(\" \".join(pjargs))\n"
     ]
    },
    {
     "name": "stdout",
     "output_type": "stream",
     "text": [
      "--- 390.20663619041443 seconds ---\n"
     ]
    }
   ],
   "source": [
    "# DISTANCE - home-home part\n",
    "\n",
    "start_time = time.time()\n",
    "\n",
    "# geometry cols\n",
    "edgelist[\"geometry1\"] = edgelist.apply(lambda r: Point(r[\"lon_home1\"],r[\"lat_home1\"]), axis=1)\n",
    "edgelist[\"geometry2\"] = edgelist.apply(lambda r: Point(r[\"lon_home2\"],r[\"lat_home2\"]), axis=1)\n",
    "\n",
    "geo_edgelist = gpd.GeoDataFrame(edgelist)\n",
    "\n",
    "# change crs\n",
    "geo_edgelist = geo_edgelist.set_geometry('geometry2')\n",
    "geo_edgelist.crs = {'init': 'epsg:4326'}\n",
    "geo_edgelist = geo_edgelist.to_crs({'init': 'epsg:3857'})\n",
    "\n",
    "geo_edgelist = geo_edgelist.set_geometry('geometry1')\n",
    "geo_edgelist.crs = {'init': 'epsg:4326'}\n",
    "geo_edgelist = geo_edgelist.to_crs({'init': 'epsg:3857'})\n",
    "\n",
    "# set geometry\n",
    "geo_edgelist = geo_edgelist.set_geometry('geometry1')\n",
    "\n",
    "# home-home distance calculation\n",
    "geo_edgelist['dist_hh'] = geo_edgelist['geometry1'].distance(geo_edgelist['geometry2'])\n",
    "\n",
    "print(\"--- %s seconds ---\" % (time.time() - start_time))"
   ]
  },
  {
   "cell_type": "code",
   "execution_count": 5,
   "metadata": {},
   "outputs": [
    {
     "name": "stderr",
     "output_type": "stream",
     "text": [
      "/usr/local/lib/python3.8/site-packages/pyproj/crs/crs.py:53: FutureWarning: '+init=<authority>:<code>' syntax is deprecated. '<authority>:<code>' is the preferred initialization method. When making the change, be mindful of axis order changes: https://pyproj4.github.io/pyproj/stable/gotchas.html#axis-order-changes-in-proj-6\n",
      "  return _prepare_from_string(\" \".join(pjargs))\n"
     ]
    },
    {
     "name": "stdout",
     "output_type": "stream",
     "text": [
      "--- 428.23562598228455 seconds ---\n"
     ]
    }
   ],
   "source": [
    "# DISTANCE - work-work part\n",
    "\n",
    "start_time = time.time()\n",
    "\n",
    "# geometry cols\n",
    "edgelist[\"geometry1\"] = edgelist.apply(lambda r: Point(r[\"lon_work1\"],r[\"lat_work1\"]), axis=1)\n",
    "edgelist[\"geometry2\"] = edgelist.apply(lambda r: Point(r[\"lon_work2\"],r[\"lat_work2\"]), axis=1)\n",
    "\n",
    "geo_edgelist2 = gpd.GeoDataFrame(edgelist)\n",
    "\n",
    "# change crs\n",
    "geo_edgelist2 = geo_edgelist2.set_geometry('geometry2')\n",
    "geo_edgelist2.crs = {'init': 'epsg:4326'}\n",
    "geo_edgelist2 = geo_edgelist2.to_crs({'init': 'epsg:3857'})\n",
    "\n",
    "geo_edgelist2 = geo_edgelist2.set_geometry('geometry1')\n",
    "geo_edgelist2.crs = {'init': 'epsg:4326'}\n",
    "geo_edgelist2 = geo_edgelist2.to_crs({'init': 'epsg:3857'})\n",
    "\n",
    "# set geometry\n",
    "geo_edgelist2 = geo_edgelist2.set_geometry('geometry1')\n",
    "\n",
    "# home-home distance calculation\n",
    "geo_edgelist2['dist_ww'] = geo_edgelist2['geometry1'].distance(geo_edgelist2['geometry2'])\n",
    "\n",
    "print(\"--- %s seconds ---\" % (time.time() - start_time))"
   ]
  },
  {
   "cell_type": "code",
   "execution_count": 18,
   "metadata": {},
   "outputs": [],
   "source": [
    "# combine..\n",
    "temp = geo_edgelist2.loc[:,[\"cbsacode\", \"user_id1\", \"user_id2\", \"dist_ww\"]]\n",
    "geo_edgelist = pd.merge(geo_edgelist, temp, on=[\"cbsacode\", \"user_id1\", \"user_id2\"], how=\"left\")"
   ]
  },
  {
   "cell_type": "code",
   "execution_count": 22,
   "metadata": {},
   "outputs": [],
   "source": [
    "# at this point, save the data!!\n",
    "export = geo_edgelist.drop(columns=['geometry1', 'geometry2'])\n",
    "export.to_csv(\"../data/geo_edgelist_top50.csv.gz\", compression=\"gzip\", index=False)"
   ]
  },
  {
   "source": [
    "## data prep (2) degree around home and tract info\n",
    "output : degree_tab_top50.csv.gz"
   ],
   "cell_type": "markdown",
   "metadata": {}
  },
  {
   "cell_type": "code",
   "execution_count": 45,
   "metadata": {},
   "outputs": [],
   "source": [
    "# census data\n",
    "census = pd.read_csv('../data/censusdata_top50_2012.csv')\n",
    "\n",
    "# short names for cbsas\n",
    "names = pd.read_csv('../data/cbsacode_shortname_tracts.csv', sep = \";\", index_col = 0)"
   ]
  },
  {
   "cell_type": "code",
   "execution_count": 46,
   "metadata": {},
   "outputs": [],
   "source": [
    "# function to create tract geoids\n",
    "def create_geoid(row):\n",
    "    state = str(int(row[\"state\"])).zfill(2)\n",
    "    county = str(int(row[\"county\"])).zfill(3)\n",
    "    tract = str(int(row[\"tract\"])).zfill(6)\n",
    "    return \"14000US\" +state+county+tract\n",
    "\n",
    "census['geoid'] = census.apply(create_geoid,axis=1)\n",
    "\n",
    "# add names\n",
    "census = pd.merge(census, names, on='geoid')"
   ]
  },
  {
   "cell_type": "code",
   "execution_count": 47,
   "metadata": {},
   "outputs": [
    {
     "output_type": "stream",
     "name": "stderr",
     "text": [
      "/usr/local/lib/python3.9/site-packages/pyproj/crs/crs.py:53: FutureWarning: '+init=<authority>:<code>' syntax is deprecated. '<authority>:<code>' is the preferred initialization method. When making the change, be mindful of axis order changes: https://pyproj4.github.io/pyproj/stable/gotchas.html#axis-order-changes-in-proj-6\n  return _prepare_from_string(\" \".join(pjargs))\n"
     ]
    }
   ],
   "source": [
    "# geojson data, converted to geopandas dataframe\n",
    "tract_geoms = gpd.GeoDataFrame.from_features(\n",
    "    [json.loads(e.strip('\\n')) for e in open('../data/censustract_geoms_top50.geojson').readlines()]\n",
    ")\n",
    "\n",
    "# change projection\n",
    "init_crs = 4326 # lon,lat\n",
    "project_crs = 3857 # Cartesian systems\n",
    "tract_geoms.crs = {'init': 'epsg:' + str(init_crs)}"
   ]
  },
  {
   "cell_type": "code",
   "execution_count": 48,
   "metadata": {},
   "outputs": [],
   "source": [
    "# merge census data and geometries of tracts\n",
    "tract_data = pd.merge(census[['geoid', 'cbsacode', 'short_name', 'population', 'education_bachelor', 'income']],\\\n",
    "    tract_geoms[['geometry', 'full_geoid']],\\\n",
    "    left_on='geoid', right_on='full_geoid', how='left')\n",
    "\n",
    "# drop those tracts where income < $1000\n",
    "tract_data = tract_data[(tract_data['income']>1000)]\n",
    "\n",
    "# median income by cbsacode\n",
    "tract_data['income_median'] = tract_data['cbsacode'].map(tract_data.groupby('cbsacode')['income'].median().to_dict())\n",
    "poor = (tract_data['income'] < tract_data[\"income_median\"])\n",
    "tract_data['poor'] = poor.astype(int).fillna(0)"
   ]
  },
  {
   "cell_type": "code",
   "execution_count": 49,
   "metadata": {},
   "outputs": [],
   "source": [
    "# variable manipulation\n",
    "tract_data['log_income'] = np.log(tract_data['income'])\n",
    "tract_data['log_population'] = np.log(tract_data['population'])\n",
    "tract_data['BA_share'] = tract_data['education_bachelor']/ tract_data['population']"
   ]
  },
  {
   "cell_type": "code",
   "execution_count": 50,
   "metadata": {},
   "outputs": [],
   "source": [
    "# read in data about individuals -- userinfo - filter on geoinfo -- user_geo\n",
    "userinfo = pd.read_csv('../data/usageousers_top50_common_data.csv.gz', index_col=0)\n",
    "user_geo = userinfo.loc[:,[\"user_id\", \"lat_home\", \"lon_home\"]]\n",
    "\n",
    "# geometry col\n",
    "user_geo[\"geometry_h\"] = user_geo.apply(lambda r: Point(r[\"lon_home\"],r[\"lat_home\"]), axis=1)\n",
    "\n",
    "# edgelist with distance\n",
    "geo_edgelist = pd.read_csv(\"../data/geo_edgelist_top50.csv.gz\")\n",
    "\n",
    "# filter on important columns\n",
    "geo_edgelist = geo_edgelist[[\"user_id1\", \"user_id2\", \"dist_hh\" ]]"
   ]
  },
  {
   "cell_type": "code",
   "execution_count": 51,
   "metadata": {},
   "outputs": [],
   "source": [
    "# bin distances\n",
    "binsize=500\n",
    "geo_edgelist[\"dh_bin\"] = binsize * (geo_edgelist[\"dist_hh\"] / binsize).map(int) + 500"
   ]
  },
  {
   "cell_type": "code",
   "execution_count": 52,
   "metadata": {},
   "outputs": [],
   "source": [
    "# degree table -- NOTE -- all ties are mutual\n",
    "degree_tab = geo_edgelist.groupby(\"user_id1\")[\"user_id2\"].count().reset_index()\n",
    "degree_tab.columns = [\"user_id\", \"degree\"]"
   ]
  },
  {
   "cell_type": "code",
   "execution_count": 53,
   "metadata": {},
   "outputs": [],
   "source": [
    "# remove users with less than 10 ties (!!!)\n",
    "degree_tab = degree_tab[degree_tab[\"degree\"] >= 10] "
   ]
  },
  {
   "cell_type": "code",
   "execution_count": 54,
   "metadata": {},
   "outputs": [],
   "source": [
    "# loop -- degree at distance around HOME\n",
    "for d in list(range(500, 10500, 500)):\n",
    "    \n",
    "    temp = geo_edgelist.loc[geo_edgelist.dh_bin == d,:].groupby(\"user_id1\")[\"user_id2\"].count().reset_index()\n",
    "    temp.columns = [\"user_id\", (\"d\"+str(d))]\n",
    "    \n",
    "    degree_tab = pd.merge(degree_tab, temp, on=\"user_id\", how=\"left\")\n",
    "\n",
    "# replace NA with 0\n",
    "degree_tab = degree_tab.fillna(0)"
   ]
  },
  {
   "cell_type": "code",
   "execution_count": 55,
   "metadata": {},
   "outputs": [],
   "source": [
    "# loop -- cummulative degree around HOME\n",
    "for d in list(range(500, 10500, 500)):\n",
    "    \n",
    "    temp = geo_edgelist.loc[geo_edgelist.dh_bin <= d,:].groupby(\"user_id1\")[\"user_id2\"].count().reset_index()\n",
    "    temp.columns = [\"user_id\", (\"dcum\"+str(d))]\n",
    "    \n",
    "    degree_tab = pd.merge(degree_tab, temp, on=\"user_id\", how=\"left\")\n",
    "\n",
    "# replace NA with 0\n",
    "degree_tab = degree_tab.fillna(0)"
   ]
  },
  {
   "cell_type": "code",
   "execution_count": 56,
   "metadata": {},
   "outputs": [],
   "source": [
    "# get the share of each degree\n",
    "for c in list(degree_tab.columns[22:,]):    \n",
    "    degree_tab[str(c) + \"_share\"] = round((degree_tab[str(c)] / degree_tab[\"degree\"]), 3)"
   ]
  },
  {
   "cell_type": "code",
   "execution_count": 57,
   "metadata": {},
   "outputs": [
    {
     "output_type": "stream",
     "name": "stderr",
     "text": [
      "/usr/local/lib/python3.9/site-packages/pyproj/crs/crs.py:53: FutureWarning: '+init=<authority>:<code>' syntax is deprecated. '<authority>:<code>' is the preferred initialization method. When making the change, be mindful of axis order changes: https://pyproj4.github.io/pyproj/stable/gotchas.html#axis-order-changes-in-proj-6\n  return _prepare_from_string(\" \".join(pjargs))\n"
     ]
    }
   ],
   "source": [
    "# add user geoinfo\n",
    "degree_tab = pd.merge(degree_tab, user_geo, on=\"user_id\", how=\"left\")\n",
    "degree_tab = gpd.GeoDataFrame(degree_tab)\n",
    "degree_tab = degree_tab.set_geometry('geometry_h')\n",
    "degree_tab.crs = {'init': 'epsg:' + str(init_crs)}"
   ]
  },
  {
   "cell_type": "code",
   "execution_count": 58,
   "metadata": {},
   "outputs": [],
   "source": [
    "# spatial join\n",
    "tract_data = gpd.GeoDataFrame(tract_data)\n",
    "tract_data = tract_data.set_geometry('geometry')\n",
    "degree_tab = gpd.sjoin(degree_tab, tract_data[['geometry', 'poor', 'cbsacode', 'short_name']], 'left', 'within')"
   ]
  },
  {
   "cell_type": "code",
   "execution_count": 61,
   "metadata": {},
   "outputs": [],
   "source": [
    "# clean up\n",
    "degree_tab = degree_tab.dropna(subset=[\"short_name\"])   # here we lost around 579 / 86.821 users\n",
    "degree_tab.drop(columns=[\"index_right\", \"geometry_h\"], inplace=True)\n",
    "\n",
    "# column reorder\n",
    "cols = degree_tab.columns.tolist()\n",
    "dcols = cols[1:62]\n",
    "newcols = [\"user_id\", \"cbsacode\", \"short_name\", \"poor\", \"lat_home\", \"lon_home\"] + dcols\n",
    "degree_tab = degree_tab[newcols]"
   ]
  },
  {
   "cell_type": "code",
   "execution_count": 83,
   "metadata": {},
   "outputs": [],
   "source": [
    "# at this point, save the data!!\n",
    "degree_tab.to_csv(\"../data/degree_tab_top50.csv.gz\", compression=\"gzip\", index=False)"
   ]
  },
  {
   "source": [
    "## data prep (3) local clustering around home\n",
    "output : clust_tab_top50.csv.gz"
   ],
   "cell_type": "markdown",
   "metadata": {}
  },
  {
   "source": [
    "# reopen degree_tab\n",
    "degree_tab = pd.read_csv(\"../data/degree_tab_top50.csv.gz\")\n",
    "users = list(set(list(degree_tab[\"user_id\"])))\n",
    "\n",
    "# edgelist with distance\n",
    "geo_edgelist = pd.read_csv(\"../data/geo_edgelist_top50.csv.gz\")\n",
    "geo_edgelist = geo_edgelist[[\"user_id1\", \"user_id2\", \"dist_hh\" ]]"
   ],
   "cell_type": "code",
   "metadata": {},
   "execution_count": 27,
   "outputs": []
  },
  {
   "cell_type": "code",
   "execution_count": 38,
   "metadata": {},
   "outputs": [
    {
     "output_type": "stream",
     "name": "stdout",
     "text": [
      "--- 9690.72845506668 seconds ---\n"
     ]
    }
   ],
   "source": [
    "# clustering around HOME\n",
    "start_time = time.time()\n",
    "\n",
    "temp_list = []\n",
    "\n",
    "for user in users:\n",
    "    time.sleep(.005)\n",
    "    r = {}\n",
    "    r['user_id'] = user\n",
    "    for dist in [1000, 5000, 10000]:\n",
    "        # get third edges\n",
    "        lista = list(geo_edgelist[(geo_edgelist['user_id1'] == user) & (geo_edgelist['dist_hh'] <= dist)]['user_id2'])\n",
    "        if len(lista) < 2:   # in case the user does not have at least 2 connections\n",
    "            r['clust' + str(dist)] = np.nan\n",
    "        else:\n",
    "            a = geo_edgelist[geo_edgelist['user_id1'].isin(lista)]\n",
    "            b = a[a['user_id2'].isin(lista)][['user_id1', 'user_id2']]\n",
    "            # get df with ego network and below the third edges\n",
    "            c = pd.concat([geo_edgelist[geo_edgelist['user_id1'] == user][['user_id1', 'user_id2']], b], ignore_index = True)\n",
    "\n",
    "            G = nx.from_pandas_edgelist(c, 'user_id1', 'user_id2')\n",
    "            #r['clust' + str(dist)] = nx.average_clustering(G)\n",
    "            r['clust' + str(dist)] = nx.transitivity(G)\n",
    "    temp_list.append(r)\n",
    "\n",
    "\n",
    "clust_table = pd.DataFrame(temp_list)\n",
    "\n",
    "print(\"--- %s seconds ---\" % (time.time() - start_time))"
   ]
  },
  {
   "cell_type": "code",
   "execution_count": 39,
   "metadata": {},
   "outputs": [],
   "source": [
    "# at this point, save the data!!\n",
    "clust_table.to_csv(\"../data/clust_tab_top50.csv.gz\", compression=\"gzip\", index=False)"
   ]
  },
  {
   "source": [
    "## data prep (4) supported ties around home\n",
    "output : support_tab_top50.csv.gz"
   ],
   "cell_type": "markdown",
   "metadata": {}
  },
  {
   "cell_type": "code",
   "execution_count": 2,
   "metadata": {},
   "outputs": [],
   "source": [
    "# reopen degree_tab\n",
    "degree_tab = pd.read_csv(\"../data/degree_tab_top50.csv.gz\")\n",
    "users = list(set(list(degree_tab[\"user_id\"])))\n",
    "\n",
    "# edgelist with distance\n",
    "geo_edgelist = pd.read_csv(\"../data/geo_edgelist_top50.csv.gz\")\n",
    "geo_edgelist = geo_edgelist[[\"user_id1\", \"user_id2\", \"dist_hh\" ]]"
   ]
  },
  {
   "cell_type": "code",
   "execution_count": 3,
   "metadata": {},
   "outputs": [
    {
     "output_type": "stream",
     "name": "stdout",
     "text": [
      "--- 3636.065819978714 seconds ---\n"
     ]
    }
   ],
   "source": [
    "# supported ties around HOME\n",
    "# NOTE -- this process only works in case ties are present both ways\n",
    "start_time = time.time()\n",
    "\n",
    "temp_list = []\n",
    "\n",
    "for user in users:\n",
    "    r = {}\n",
    "    r['user_id'] = user\n",
    "    for dist in [1000, 5000, 10000]:\n",
    "        # get third edges\n",
    "        lista = list(geo_edgelist[(geo_edgelist['user_id1'] == user) & (geo_edgelist['dist_hh'] <= dist)]['user_id2'])\n",
    "        if len(lista) < 2:\n",
    "            r['support' + str(dist)] = np.nan\n",
    "        else:\n",
    "            a = geo_edgelist[geo_edgelist['user_id1'].isin(lista)]\n",
    "            b = a[a['user_id2'].isin(lista)][['user_id1', 'user_id2']]\n",
    "                       \n",
    "            r['support' + str(dist)] = len(b['user_id1'].unique()) / len(lista) \n",
    "    temp_list.append(r)\n",
    "\n",
    "\n",
    "support_table = pd.DataFrame(temp_list)\n",
    "\n",
    "print(\"--- %s seconds ---\" % (time.time() - start_time))"
   ]
  },
  {
   "cell_type": "code",
   "execution_count": 5,
   "metadata": {},
   "outputs": [],
   "source": [
    "# at this point, save the data!!\n",
    "support_table.to_csv(\"../data/supp_tab_top50.csv.gz\", compression=\"gzip\", index=False)"
   ]
  },
  {
   "source": [
    "## data prep (5) census data for regression\n",
    "output : census_for_regression.csv.gz"
   ],
   "cell_type": "markdown",
   "metadata": {}
  },
  {
   "cell_type": "code",
   "execution_count": 9,
   "metadata": {},
   "outputs": [],
   "source": [
    "# census data\n",
    "census = pd.read_csv('../data/censusdata_top50_2012.csv')\n",
    "\n",
    "# short names for cbsas\n",
    "names = pd.read_csv('../data/cbsacode_shortname_tracts.csv', sep = \";\", index_col = 0)\n",
    "\n",
    "# home tract of users\n",
    "userinfo = pd.read_csv('../data/usageousers_data_export_with_tract_geoid_top50.csv.gz', index_col=0)\n",
    "userinfo = userinfo.loc[:,[\"user_id\", \"cbsacode\", \"tract_home\"]]"
   ]
  },
  {
   "cell_type": "code",
   "execution_count": 10,
   "metadata": {},
   "outputs": [],
   "source": [
    "# function to create tract geoids\n",
    "def create_geoid(row):\n",
    "    state = str(int(row[\"state\"])).zfill(2)\n",
    "    county = str(int(row[\"county\"])).zfill(3)\n",
    "    tract = str(int(row[\"tract\"])).zfill(6)\n",
    "    return \"14000US\" +state+county+tract\n",
    "\n",
    "census['geoid'] = census.apply(create_geoid,axis=1)\n",
    "\n",
    "# add names\n",
    "census = pd.merge(census, names, on='geoid')\n",
    "\n",
    "# keep the key columns\n",
    "census = census[[\"geoid\", \"cbsacode\", \"short_name\", \"population\", \"education_bachelor\", \"income\"]]"
   ]
  },
  {
   "cell_type": "code",
   "execution_count": 12,
   "metadata": {},
   "outputs": [],
   "source": [
    "# combine info on users\n",
    "full_userinfo = pd.merge(userinfo, census, left_on=[\"cbsacode\", \"tract_home\"], right_on=[\"cbsacode\", \"geoid\"], how=\"left\")"
   ]
  },
  {
   "cell_type": "code",
   "execution_count": 17,
   "metadata": {},
   "outputs": [],
   "source": [
    "# export\n",
    "full_userinfo.to_csv(\"../data/census_for_regression.csv.gz\", index=False)"
   ]
  },
  {
   "source": [
    "## data prep (6) income of friends\n",
    "output : edgelist_tractinfo.csv.gz"
   ],
   "cell_type": "markdown",
   "metadata": {}
  },
  {
   "cell_type": "code",
   "execution_count": 2,
   "metadata": {},
   "outputs": [],
   "source": [
    "# census data\n",
    "census = pd.read_csv('../data/censusdata_top50_2012.csv')\n",
    "\n",
    "# short names for cbsas\n",
    "names = pd.read_csv('../data/cbsacode_shortname_tracts.csv', sep = \";\", index_col = 0)"
   ]
  },
  {
   "cell_type": "code",
   "execution_count": 3,
   "metadata": {},
   "outputs": [],
   "source": [
    "# function to create tract geoids\n",
    "def create_geoid(row):\n",
    "    state = str(int(row[\"state\"])).zfill(2)\n",
    "    county = str(int(row[\"county\"])).zfill(3)\n",
    "    tract = str(int(row[\"tract\"])).zfill(6)\n",
    "    return \"14000US\" +state+county+tract\n",
    "\n",
    "census['geoid'] = census.apply(create_geoid,axis=1)\n",
    "\n",
    "# add names\n",
    "census = pd.merge(census, names, on='geoid')"
   ]
  },
  {
   "cell_type": "code",
   "execution_count": 4,
   "metadata": {},
   "outputs": [
    {
     "output_type": "stream",
     "name": "stderr",
     "text": [
      "/usr/local/lib/python3.9/site-packages/pyproj/crs/crs.py:53: FutureWarning: '+init=<authority>:<code>' syntax is deprecated. '<authority>:<code>' is the preferred initialization method. When making the change, be mindful of axis order changes: https://pyproj4.github.io/pyproj/stable/gotchas.html#axis-order-changes-in-proj-6\n  return _prepare_from_string(\" \".join(pjargs))\n"
     ]
    }
   ],
   "source": [
    "# geojson data, converted to geopandas dataframe\n",
    "tract_geoms = gpd.GeoDataFrame.from_features(\n",
    "    [json.loads(e.strip('\\n')) for e in open('../data/censustract_geoms_top50.geojson').readlines()]\n",
    ")\n",
    "\n",
    "# change projection\n",
    "init_crs = 4326 # lon,lat\n",
    "project_crs = 3857 # Cartesian systems\n",
    "tract_geoms.crs = {'init': 'epsg:' + str(init_crs)}"
   ]
  },
  {
   "cell_type": "code",
   "execution_count": 5,
   "metadata": {},
   "outputs": [],
   "source": [
    "# merge census data and geometries of tracts\n",
    "tract_data = pd.merge(census[['geoid', 'cbsacode', 'short_name', 'population', 'education_bachelor', 'income']],\\\n",
    "    tract_geoms[['geometry', 'full_geoid']],\\\n",
    "    left_on='geoid', right_on='full_geoid', how='left')\n",
    "\n",
    "# drop those tracts where income < $1000\n",
    "tract_data = tract_data[(tract_data['income']>1000)]\n",
    "\n",
    "# median income by cbsacode\n",
    "tract_data['income_median'] = tract_data['cbsacode'].map(tract_data.groupby('cbsacode')['income'].median().to_dict())\n",
    "poor = (tract_data['income'] < tract_data[\"income_median\"])\n",
    "tract_data['poor'] = poor.astype(int).fillna(0)"
   ]
  },
  {
   "cell_type": "code",
   "execution_count": 7,
   "metadata": {},
   "outputs": [],
   "source": [
    "# edgelist with distance\n",
    "geo_edgelist = pd.read_csv(\"../data/geo_edgelist_top50.csv.gz\")\n",
    "\n",
    "# filter on important columns\n",
    "geo_edgelist = geo_edgelist[[\"cbsacode\", \"user_id1\", \"user_id2\", \"lon_home1\", \"lat_home1\", \"lon_home2\", \"lat_home2\", \"dist_hh\"]]\n",
    "\n",
    "# create geometry\n",
    "geo_edgelist[\"home_point1\"] = geo_edgelist.apply(lambda r: Point(r[\"lon_home1\"],r[\"lat_home1\"]), axis=1)\n",
    "geo_edgelist[\"home_point2\"] = geo_edgelist.apply(lambda r: Point(r[\"lon_home2\"],r[\"lat_home2\"]), axis=1)\n",
    "geo_edgelist = gpd.GeoDataFrame(geo_edgelist)"
   ]
  },
  {
   "cell_type": "code",
   "execution_count": 8,
   "metadata": {},
   "outputs": [
    {
     "output_type": "execute_result",
     "data": {
      "text/plain": [
       "(2711185, 10)"
      ]
     },
     "metadata": {},
     "execution_count": 8
    }
   ],
   "source": [
    "geo_edgelist.shape"
   ]
  },
  {
   "cell_type": "code",
   "execution_count": 9,
   "metadata": {},
   "outputs": [
    {
     "output_type": "stream",
     "name": "stderr",
     "text": [
      "/usr/local/lib/python3.9/site-packages/pyproj/crs/crs.py:53: FutureWarning: '+init=<authority>:<code>' syntax is deprecated. '<authority>:<code>' is the preferred initialization method. When making the change, be mindful of axis order changes: https://pyproj4.github.io/pyproj/stable/gotchas.html#axis-order-changes-in-proj-6\n  return _prepare_from_string(\" \".join(pjargs))\n"
     ]
    }
   ],
   "source": [
    "# spatial join 1\n",
    "tract_data = gpd.GeoDataFrame(tract_data)\n",
    "tract_data = tract_data.set_geometry('geometry')\n",
    "\n",
    "geo_edgelist = geo_edgelist.set_geometry('home_point1')\n",
    "geo_edgelist.crs = {'init': 'epsg:' + str(init_crs)}\n",
    "\n",
    "geo_edgelist = gpd.sjoin(geo_edgelist, tract_data, 'left', 'within')"
   ]
  },
  {
   "cell_type": "code",
   "execution_count": 11,
   "metadata": {},
   "outputs": [],
   "source": [
    "# clean up -- 1\n",
    "geo_edgelist = geo_edgelist[[\"user_id1\", \"user_id2\", \"dist_hh\", \"home_point2\", \"geoid\", \"population\", \"education_bachelor\", \"income\", \"income_median\", \"poor\"]]\n",
    "geo_edgelist.columns = [\"user_id1\", \"user_id2\", \"dist_hh\", \"home_point2\", \"tract_id1\", \"population1\", \"education_bachelor1\", \"income1\", \"income_median1\", \"poor1\"]"
   ]
  },
  {
   "cell_type": "code",
   "execution_count": 13,
   "metadata": {},
   "outputs": [
    {
     "output_type": "stream",
     "name": "stderr",
     "text": [
      "/usr/local/lib/python3.9/site-packages/pyproj/crs/crs.py:53: FutureWarning: '+init=<authority>:<code>' syntax is deprecated. '<authority>:<code>' is the preferred initialization method. When making the change, be mindful of axis order changes: https://pyproj4.github.io/pyproj/stable/gotchas.html#axis-order-changes-in-proj-6\n  return _prepare_from_string(\" \".join(pjargs))\n"
     ]
    }
   ],
   "source": [
    "# spatial join 2\n",
    "tract_data = gpd.GeoDataFrame(tract_data)\n",
    "tract_data = tract_data.set_geometry('geometry')\n",
    "\n",
    "geo_edgelist = geo_edgelist.set_geometry('home_point2')\n",
    "geo_edgelist.crs = {'init': 'epsg:' + str(init_crs)}\n",
    "\n",
    "geo_edgelist = gpd.sjoin(geo_edgelist, tract_data, 'left', 'within')"
   ]
  },
  {
   "cell_type": "code",
   "execution_count": 15,
   "metadata": {},
   "outputs": [],
   "source": [
    "# clean up -- 2\n",
    "geo_edgelist = geo_edgelist[[\"cbsacode\", \"short_name\", \"user_id1\", \"user_id2\", \"dist_hh\", \"tract_id1\", \"population1\", \"education_bachelor1\", \"income1\", \"income_median1\", \"poor1\", \"geoid\", \"population\", \"education_bachelor\", \"income\", \"income_median\", \"poor\"]]\n",
    "geo_edgelist = geo_edgelist.rename(columns={\"geoid\": \"tract_id2\", \"population\": \"population2\", \"education_bachelor\": \"education_bachelor2\", \"income\": \"income2\", \"income_median\": \"income_median2\", \"poor\": \"poor2\"})\n",
    "\n",
    "# sort\n",
    "geo_edgelist = geo_edgelist.sort_values(by=['user_id1', 'user_id2'])"
   ]
  },
  {
   "cell_type": "code",
   "execution_count": 16,
   "metadata": {},
   "outputs": [],
   "source": [
    "# degree table\n",
    "degree_tab = pd.read_csv(\"../data/degree_tab_top50.csv.gz\")\n",
    "\n",
    "# filter geo_edgelist by degree_tab users\n",
    "dfilter = list(set(list(degree_tab.user_id)))"
   ]
  },
  {
   "cell_type": "code",
   "execution_count": 17,
   "metadata": {},
   "outputs": [],
   "source": [
    "# filter and keep relevant info\n",
    "geo_edgelist = geo_edgelist[geo_edgelist[\"user_id1\"].isin(dfilter)]\n",
    "geo_edgelist = geo_edgelist.dropna(subset=['income2'])"
   ]
  },
  {
   "cell_type": "code",
   "execution_count": 19,
   "metadata": {},
   "outputs": [],
   "source": [
    "# export\n",
    "geo_edgelist.to_csv(\"../data/edgelist_tractinfo.csv.gz\", index=False)"
   ]
  }
 ],
 "metadata": {
  "kernelspec": {
   "display_name": "Python 3",
   "language": "python",
   "name": "python3"
  },
  "language_info": {
   "codemirror_mode": {
    "name": "ipython",
    "version": 3
   },
   "file_extension": ".py",
   "mimetype": "text/x-python",
   "name": "python",
   "nbconvert_exporter": "python",
   "pygments_lexer": "ipython3",
   "version": "3.9.1"
  }
 },
 "nbformat": 4,
 "nbformat_minor": 2
}
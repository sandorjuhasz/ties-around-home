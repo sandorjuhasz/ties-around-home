{
 "cells": [
  {
   "cell_type": "markdown",
   "metadata": {},
   "source": [
    "### degree -- home and work locations"
   ]
  },
  {
   "cell_type": "code",
   "execution_count": 1,
   "metadata": {},
   "outputs": [],
   "source": [
    "%matplotlib inline\n",
    "import pandas as pd\n",
    "import matplotlib.pyplot as plt\n",
    "import numpy as np\n",
    "\n",
    "import geopandas as gpd\n",
    "import shapely\n",
    "from shapely.geometry import Point,Polygon,LineString\n",
    "\n",
    "import json\n",
    "import time\n",
    "from copy import deepcopy"
   ]
  },
  {
   "cell_type": "markdown",
   "metadata": {},
   "source": [
    "### data prep -- geo_edgelist saved in the end"
   ]
  },
  {
   "cell_type": "code",
   "execution_count": 11,
   "metadata": {},
   "outputs": [],
   "source": [
    "# follower network -- data\n",
    "edgelist = pd.read_csv('../data/usageousers_city_follower_networks.rpt.gz')\n",
    "\n",
    "# read in data about individuals -- data2\n",
    "userinfo = pd.read_csv('../data/usageousers_data_export_with_tract_geoid_top50.csv.gz', index_col=0)\n",
    "user_geo = userinfo.loc[:,[\"user_id\", \"lat_home\", \"lon_home\", \"lat_work\", \"lon_work\"]]"
   ]
  },
  {
   "cell_type": "raw",
   "metadata": {},
   "source": [
    "# remove bots\n",
    "bot_flags = json.load(open(\"../data/bot_flags.json\"))\n",
    "userdata['drop'] = userdata['user_id'].map(int).map(str).map(bot_flags)\n",
    "userdata = userdata[userdata['drop']==0]"
   ]
  },
  {
   "cell_type": "code",
   "execution_count": 12,
   "metadata": {},
   "outputs": [],
   "source": [
    "# edgelist with geoinfo\n",
    "edgelist = pd.merge(pd.merge(edgelist, user_geo, left_on=\"user_id1\", right_on=\"user_id\", how=\"left\"),\\\n",
    "               user_geo, left_on=\"user_id2\", right_on=\"user_id\", how=\"left\", suffixes=(\"1\", \"2\"))\n",
    "\n",
    "# remove duplicate columns\n",
    "edgelist = edgelist.loc[:,~edgelist.columns.duplicated()]"
   ]
  },
  {
   "cell_type": "code",
   "execution_count": 13,
   "metadata": {},
   "outputs": [
    {
     "name": "stderr",
     "output_type": "stream",
     "text": [
      "/usr/local/lib/python3.8/site-packages/pyproj/crs/crs.py:53: FutureWarning: '+init=<authority>:<code>' syntax is deprecated. '<authority>:<code>' is the preferred initialization method. When making the change, be mindful of axis order changes: https://pyproj4.github.io/pyproj/stable/gotchas.html#axis-order-changes-in-proj-6\n",
      "  return _prepare_from_string(\" \".join(pjargs))\n"
     ]
    },
    {
     "name": "stdout",
     "output_type": "stream",
     "text": [
      "--- 390.20663619041443 seconds ---\n"
     ]
    }
   ],
   "source": [
    "# DISTANCE - home-home part\n",
    "\n",
    "start_time = time.time()\n",
    "\n",
    "# geometry cols\n",
    "edgelist[\"geometry1\"] = edgelist.apply(lambda r: Point(r[\"lon_home1\"],r[\"lat_home1\"]), axis=1)\n",
    "edgelist[\"geometry2\"] = edgelist.apply(lambda r: Point(r[\"lon_home2\"],r[\"lat_home2\"]), axis=1)\n",
    "\n",
    "geo_edgelist = gpd.GeoDataFrame(edgelist)\n",
    "\n",
    "# change crs\n",
    "geo_edgelist = geo_edgelist.set_geometry('geometry2')\n",
    "geo_edgelist.crs = {'init': 'epsg:4326'}\n",
    "geo_edgelist = geo_edgelist.to_crs({'init': 'epsg:3857'})\n",
    "\n",
    "geo_edgelist = geo_edgelist.set_geometry('geometry1')\n",
    "geo_edgelist.crs = {'init': 'epsg:4326'}\n",
    "geo_edgelist = geo_edgelist.to_crs({'init': 'epsg:3857'})\n",
    "\n",
    "# set geometry\n",
    "geo_edgelist = geo_edgelist.set_geometry('geometry1')\n",
    "\n",
    "# home-home distance calculation\n",
    "geo_edgelist['dist_hh'] = geo_edgelist['geometry1'].distance(geo_edgelist['geometry2'])\n",
    "\n",
    "print(\"--- %s seconds ---\" % (time.time() - start_time))"
   ]
  },
  {
   "cell_type": "code",
   "execution_count": 5,
   "metadata": {},
   "outputs": [
    {
     "name": "stderr",
     "output_type": "stream",
     "text": [
      "/usr/local/lib/python3.8/site-packages/pyproj/crs/crs.py:53: FutureWarning: '+init=<authority>:<code>' syntax is deprecated. '<authority>:<code>' is the preferred initialization method. When making the change, be mindful of axis order changes: https://pyproj4.github.io/pyproj/stable/gotchas.html#axis-order-changes-in-proj-6\n",
      "  return _prepare_from_string(\" \".join(pjargs))\n"
     ]
    },
    {
     "name": "stdout",
     "output_type": "stream",
     "text": [
      "--- 428.23562598228455 seconds ---\n"
     ]
    }
   ],
   "source": [
    "# DISTANCE - work-work part\n",
    "\n",
    "start_time = time.time()\n",
    "\n",
    "# geometry cols\n",
    "edgelist[\"geometry1\"] = edgelist.apply(lambda r: Point(r[\"lon_work1\"],r[\"lat_work1\"]), axis=1)\n",
    "edgelist[\"geometry2\"] = edgelist.apply(lambda r: Point(r[\"lon_work2\"],r[\"lat_work2\"]), axis=1)\n",
    "\n",
    "geo_edgelist2 = gpd.GeoDataFrame(edgelist)\n",
    "\n",
    "# change crs\n",
    "geo_edgelist2 = geo_edgelist2.set_geometry('geometry2')\n",
    "geo_edgelist2.crs = {'init': 'epsg:4326'}\n",
    "geo_edgelist2 = geo_edgelist2.to_crs({'init': 'epsg:3857'})\n",
    "\n",
    "geo_edgelist2 = geo_edgelist2.set_geometry('geometry1')\n",
    "geo_edgelist2.crs = {'init': 'epsg:4326'}\n",
    "geo_edgelist2 = geo_edgelist2.to_crs({'init': 'epsg:3857'})\n",
    "\n",
    "# set geometry\n",
    "geo_edgelist2 = geo_edgelist2.set_geometry('geometry1')\n",
    "\n",
    "# home-home distance calculation\n",
    "geo_edgelist2['dist_ww'] = geo_edgelist2['geometry1'].distance(geo_edgelist2['geometry2'])\n",
    "\n",
    "print(\"--- %s seconds ---\" % (time.time() - start_time))"
   ]
  },
  {
   "cell_type": "code",
   "execution_count": 18,
   "metadata": {},
   "outputs": [],
   "source": [
    "# combine..\n",
    "temp = geo_edgelist2.loc[:,[\"cbsacode\", \"user_id1\", \"user_id2\", \"dist_ww\"]]\n",
    "geo_edgelist = pd.merge(geo_edgelist, temp, on=[\"cbsacode\", \"user_id1\", \"user_id2\"], how=\"left\")"
   ]
  },
  {
   "cell_type": "code",
   "execution_count": 22,
   "metadata": {},
   "outputs": [],
   "source": [
    "# at this point, save the data!!\n",
    "export = geo_edgelist.drop(columns=['geometry1', 'geometry2'])\n",
    "export.to_csv(\"../data/geo_edgelist_top50.csv.gz\", compression=\"gzip\", index=False)"
   ]
  },
  {
   "cell_type": "markdown",
   "metadata": {},
   "source": [
    "### spatial distribution of ego networks"
   ]
  },
  {
   "cell_type": "code",
   "execution_count": 2,
   "metadata": {},
   "outputs": [],
   "source": [
    "# data IN\n",
    "geo_edgelist = pd.read_csv(\"../data/geo_edgelist_top50.csv.gz\")"
   ]
  },
  {
   "cell_type": "code",
   "execution_count": 3,
   "metadata": {},
   "outputs": [],
   "source": [
    "# bin distances\n",
    "binsize=500\n",
    "\n",
    "geo_edgelist[\"dh_bin\"] = binsize*(geo_edgelist[\"dist_hh\"]/binsize).map(int)+500\n",
    "geo_edgelist[\"dw_bin\"] = binsize*(geo_edgelist[\"dist_ww\"]/binsize).map(int)+500"
   ]
  },
  {
   "cell_type": "code",
   "execution_count": 4,
   "metadata": {},
   "outputs": [],
   "source": [
    "# degree table -- NOTE -- all ties are mutual\n",
    "degree_tab = geo_edgelist.groupby(\"user_id1\")[\"user_id2\"].count().reset_index()\n",
    "degree_tab.columns = [\"user_id\", \"degree\"]"
   ]
  },
  {
   "cell_type": "code",
   "execution_count": 5,
   "metadata": {},
   "outputs": [],
   "source": [
    "# loop -- HOME\n",
    "dh_table = degree_tab\n",
    "\n",
    "for d in list(range(500, 10500, 500)):\n",
    "    \n",
    "    temp = geo_edgelist.loc[geo_edgelist.dh_bin == d,:].groupby(\"user_id1\")[\"user_id2\"].count().reset_index()\n",
    "    temp.columns = [\"user_id\", (\"dh\"+str(d))]\n",
    "    \n",
    "    dh_table = pd.merge(dh_table, temp, on=\"user_id\", how=\"left\")"
   ]
  },
  {
   "cell_type": "code",
   "execution_count": 6,
   "metadata": {},
   "outputs": [],
   "source": [
    "# loop -- WORK\n",
    "dw_table = degree_tab\n",
    "\n",
    "for d in list(range(500, 10500, 500)):\n",
    "    \n",
    "    temp = geo_edgelist.loc[geo_edgelist.dw_bin == d,:].groupby(\"user_id1\")[\"user_id2\"].count().reset_index()\n",
    "    temp.columns = [\"user_id\", (\"dw\"+str(d))]\n",
    "    \n",
    "    dw_table = pd.merge(dw_table, temp, on=\"user_id\", how=\"left\")"
   ]
  },
  {
   "cell_type": "code",
   "execution_count": 7,
   "metadata": {},
   "outputs": [],
   "source": [
    "# merge the resuls of the loops\n",
    "d_table = pd.merge(dh_table, dw_table, on=[\"user_id\", \"degree\"], how=\"left\")"
   ]
  },
  {
   "cell_type": "code",
   "execution_count": 8,
   "metadata": {
    "scrolled": true
   },
   "outputs": [],
   "source": [
    "# remove users with less than 10 ties (!!!) AND replace NANs\n",
    "d_table = d_table[d_table[\"degree\"]>=10] \n",
    "d_table = d_table.fillna(0)"
   ]
  },
  {
   "cell_type": "code",
   "execution_count": 9,
   "metadata": {},
   "outputs": [],
   "source": [
    "# get the share of each degree\n",
    "for c in list(d_table.columns[2:,]):    \n",
    "    d_table[str(c)+\"_share\"] = round((d_table[str(c)] / d_table[\"degree\"]), 3)"
   ]
  },
  {
   "cell_type": "code",
   "execution_count": 10,
   "metadata": {},
   "outputs": [],
   "source": [
    "# construct simple dataframe for plot\n",
    "rownames = []\n",
    "values = []\n",
    "type1 = [\"home\"] * 20 + [\"work\"] * 20\n",
    "\n",
    "for c in list(d_table.columns)[-40:]:\n",
    "    rownames.append(str(c))\n",
    "    values.append(np.mean(d_table[str(c)]))\n",
    "    \n",
    "frame = { 'dist': rownames , 'avg_degree_share': values, 'type': type1} \n",
    "result = pd.DataFrame(frame)"
   ]
  },
  {
   "cell_type": "code",
   "execution_count": 11,
   "metadata": {},
   "outputs": [],
   "source": [
    "# cumulative shares -- percent of ties by distance\n",
    "result[\"degree_share_cum\"] = result.groupby(\"type\")[\"avg_degree_share\"].cumsum()"
   ]
  },
  {
   "cell_type": "code",
   "execution_count": 36,
   "metadata": {},
   "outputs": [
    {
     "name": "stderr",
     "output_type": "stream",
     "text": [
      "<ipython-input-36-b6f498d067bf>:11: UserWarning: FixedFormatter should only be used together with FixedLocator\n",
      "  ax[0].set_xticklabels(labels)\n",
      "<ipython-input-36-b6f498d067bf>:20: UserWarning: FixedFormatter should only be used together with FixedLocator\n",
      "  ax[1].set_xticklabels(labels)\n"
     ]
    },
    {
     "data": {
      "image/png": "[encoded data removed]",
      "text/plain": [
       "<Figure size 1152x432 with 2 Axes>"
      ]
     },
     "metadata": {
      "needs_background": "light"
     },
     "output_type": "display_data"
    }
   ],
   "source": [
    "temp_home = result[result[\"type\"]==\"home\"][:10]\n",
    "temp_work = result[result[\"type\"]==\"work\"][:10]\n",
    "\n",
    "labels = list((np.linspace(0.5,5,10)))\n",
    "\n",
    "plt.rcParams['font.size']=18\n",
    "fig,ax = plt.subplots(1,2,figsize=(16,6), sharey=True)\n",
    "\n",
    "ax[0].bar(temp_home[\"dist\"], temp_home[\"degree_share_cum\"])\n",
    "ax[0].grid()\n",
    "ax[0].set_xticklabels(labels)\n",
    "ax[0].set_xlabel(\"Distance from home\", size=20)\n",
    "# ax[0].yaxis.set_major_formatter(mtick.PercentFormatter(1, decimals = 1)) \n",
    "ax[0].set_ylabel(\"Share of friends (average)\", size=20)\n",
    "\n",
    "\n",
    "\n",
    "ax[1].bar(temp_work[\"dist\"], temp_work[\"degree_share_cum\"], color=\"r\")\n",
    "ax[1].grid()\n",
    "ax[1].set_xticklabels(labels)\n",
    "ax[1].set_xlabel(\"Distance from work\", size=20)\n",
    "\n",
    "plt.show()"
   ]
  },
  {
   "cell_type": "code",
   "execution_count": null,
   "metadata": {},
   "outputs": [],
   "source": []
  },
  {
   "cell_type": "markdown",
   "metadata": {},
   "source": [
    "### futher issues\n",
    "* home-work definitions + social netwoks (example)\n",
    "* top50 metro areas average degree in 2km from H-W (similar to commuting)\n",
    "* boxplot on this - or boxplot + distribution (second y is too complicated..)\n",
    "* poor-rich users and their local degree"
   ]
  },
  {
   "cell_type": "code",
   "execution_count": null,
   "metadata": {},
   "outputs": [],
   "source": []
  },
  {
   "cell_type": "code",
   "execution_count": null,
   "metadata": {},
   "outputs": [],
   "source": []
  },
  {
   "cell_type": "code",
   "execution_count": null,
   "metadata": {},
   "outputs": [],
   "source": []
  },
  {
   "cell_type": "code",
   "execution_count": null,
   "metadata": {},
   "outputs": [],
   "source": []
  },
  {
   "cell_type": "markdown",
   "metadata": {},
   "source": [
    "### income and ego network distribution"
   ]
  },
  {
   "cell_type": "code",
   "execution_count": 21,
   "metadata": {},
   "outputs": [],
   "source": [
    "# tract info\n",
    "censusdata = pd.read_csv(\"../data/censusdata_top50_2012.csv\")\n",
    "\n",
    "# function to create tract geoids\n",
    "def create_geoid(row):\n",
    "    state = str(int(row[\"state\"])).zfill(2)\n",
    "    county = str(int(row[\"county\"])).zfill(3)\n",
    "    tract = str(int(row[\"tract\"])).zfill(6)\n",
    "    return \"14000US\" +state+county+tract\n",
    "\n",
    "# geoid creation\n",
    "censusdata['geoid'] = censusdata.apply(create_geoid,axis=1)"
   ]
  },
  {
   "cell_type": "code",
   "execution_count": 22,
   "metadata": {},
   "outputs": [],
   "source": [
    "# userdata IN\n",
    "userdata = pd.read_csv('../data/usageousers_data_export_with_tract_geoid_top50.csv.gz', index_col=0)\n",
    "\n",
    "# remove bots\n",
    "bot_flags = json.load(open(\"../data/bot_flags.json\"))\n",
    "userdata['drop'] = userdata['user_id'].map(int).map(str).map(bot_flags)\n",
    "userdata = userdata[userdata['drop']==0]"
   ]
  },
  {
   "cell_type": "code",
   "execution_count": 23,
   "metadata": {},
   "outputs": [
    {
     "data": {
      "text/plain": [
       "(38355, 23)"
      ]
     },
     "execution_count": 23,
     "metadata": {},
     "output_type": "execute_result"
    }
   ],
   "source": [
    "## add cbsacodes to census tract level dataframe\n",
    "temp = userdata.loc[:,['cbsacode', 'tract_home']].drop_duplicates()\n",
    "\n",
    "# merge cbsacodes\n",
    "census_df = pd.merge(censusdata, temp, left_on=\"geoid\", right_on=\"tract_home\", how=\"left\")\n",
    "census_df = census_df.drop(columns=(\"tract_home\"))\n",
    "\n",
    "# further filters\n",
    "census_df = census_df[(census_df['income'] > 0)]\n",
    "\n",
    "# remove NAs...\n",
    "census_df = census_df.dropna()\n",
    "census_df.shape"
   ]
  },
  {
   "cell_type": "code",
   "execution_count": 24,
   "metadata": {},
   "outputs": [],
   "source": [
    "# get income percentiles by cbsacode\n",
    "percentile = 25\n",
    "census_df[\"income_lim1\"] = census_df.cbsacode.map(census_df.groupby(\"cbsacode\")['income']\\\n",
    "                                                  .quantile(percentile/100).to_dict())\n",
    "\n",
    "census_df[\"income_lim2\"] = census_df.cbsacode.map(census_df.groupby(\"cbsacode\")['income']\\\n",
    "                                                  .quantile(1-percentile/100).to_dict())"
   ]
  },
  {
   "cell_type": "code",
   "execution_count": 25,
   "metadata": {},
   "outputs": [],
   "source": [
    "# merging the user data and census data both on home and work census tracts\n",
    "temp = pd.merge(userdata, census_df, left_on=[\"cbsacode\", \"tract_home\"], right_on=[\"cbsacode\", \"geoid\"], how=\"left\")\n",
    "\n",
    "# poor / rich dummies\n",
    "po = (temp['income'] < temp[\"income_lim1\"])\n",
    "temp['poor'] = po.astype(int)\n",
    "\n",
    "ri = (temp['income'] > temp[\"income_lim2\"])\n",
    "temp['rich'] = ri.astype(int)\n",
    "\n",
    "# keep the necessary cols\n",
    "temp = temp.loc[:,[\"user_id\", \"poor\", \"rich\"]]"
   ]
  },
  {
   "cell_type": "code",
   "execution_count": 26,
   "metadata": {},
   "outputs": [],
   "source": [
    "# data IN -- degree part\n",
    "geo_edgelist = pd.read_csv(\"../data/geo_edgelist_top50.csv.gz\")"
   ]
  },
  {
   "cell_type": "code",
   "execution_count": 27,
   "metadata": {},
   "outputs": [],
   "source": [
    "# bin distances\n",
    "binsize=500\n",
    "\n",
    "geo_edgelist[\"dh_bin\"] = binsize*(geo_edgelist[\"dist_hh\"]/binsize).map(int)+500\n",
    "geo_edgelist[\"dw_bin\"] = binsize*(geo_edgelist[\"dist_ww\"]/binsize).map(int)+500"
   ]
  },
  {
   "cell_type": "code",
   "execution_count": 28,
   "metadata": {},
   "outputs": [],
   "source": [
    "# degree table -- NOTE -- all ties are mutual\n",
    "degree_tab = geo_edgelist.groupby(\"user_id1\")[\"user_id2\"].count().reset_index()\n",
    "degree_tab.columns = [\"user_id\", \"degree\"]"
   ]
  },
  {
   "cell_type": "code",
   "execution_count": 32,
   "metadata": {},
   "outputs": [],
   "source": [
    "degree_tab = pd.merge(degree_tab, temp, on=\"user_id\", how=\"inner\")"
   ]
  },
  {
   "cell_type": "code",
   "execution_count": 56,
   "metadata": {},
   "outputs": [],
   "source": [
    "# loop -- HOME\n",
    "dh_table = degree_tab\n",
    "\n",
    "for d in list(range(500, 10500, 500)):\n",
    "    \n",
    "    temp = geo_edgelist.loc[geo_edgelist.dh_bin == d,:].groupby(\"user_id1\")[\"user_id2\"].count().reset_index()\n",
    "    temp.columns = [\"user_id\", (\"dh\"+str(d))]\n",
    "    \n",
    "    dh_table = pd.merge(dh_table, temp, on=\"user_id\", how=\"left\")"
   ]
  },
  {
   "cell_type": "code",
   "execution_count": 57,
   "metadata": {},
   "outputs": [],
   "source": [
    "# loop -- WORK\n",
    "dw_table = degree_tab\n",
    "\n",
    "for d in list(range(500, 10500, 500)):\n",
    "    \n",
    "    temp = geo_edgelist.loc[geo_edgelist.dw_bin == d,:].groupby(\"user_id1\")[\"user_id2\"].count().reset_index()\n",
    "    temp.columns = [\"user_id\", (\"dw\"+str(d))]\n",
    "    \n",
    "    dw_table = pd.merge(dw_table, temp, on=\"user_id\", how=\"left\")"
   ]
  },
  {
   "cell_type": "code",
   "execution_count": 58,
   "metadata": {},
   "outputs": [],
   "source": [
    "# merge the resuls of the loops\n",
    "dw_table = dw_table.drop(columns=[\"poor\", \"rich\"])\n",
    "d_table = pd.merge(dh_table, dw_table, on=[\"user_id\", \"degree\"], how=\"left\")"
   ]
  },
  {
   "cell_type": "code",
   "execution_count": 59,
   "metadata": {},
   "outputs": [
    {
     "data": {
      "text/plain": [
       "(85077, 44)"
      ]
     },
     "execution_count": 59,
     "metadata": {},
     "output_type": "execute_result"
    }
   ],
   "source": [
    "# remove users with less than 10 ties (!!!) AND replace NANs\n",
    "d_table = d_table[d_table[\"degree\"]>=10] \n",
    "d_table = d_table.fillna(0)\n",
    "d_table.shape"
   ]
  },
  {
   "cell_type": "code",
   "execution_count": 60,
   "metadata": {},
   "outputs": [],
   "source": [
    "# get the share of each degree\n",
    "for c in list(d_table.columns[2:,]):    \n",
    "    d_table[str(c)+\"_share\"] = round((d_table[str(c)] / d_table[\"degree\"]), 3)"
   ]
  },
  {
   "cell_type": "code",
   "execution_count": 65,
   "metadata": {},
   "outputs": [],
   "source": [
    "# poor users\n",
    "d_poor = d_table[d_table[\"poor\"]==1]\n",
    "\n",
    "# rich users\n",
    "d_rich = d_table[d_table[\"rich\"]==1]"
   ]
  },
  {
   "cell_type": "code",
   "execution_count": 66,
   "metadata": {},
   "outputs": [],
   "source": [
    "# construct simple dataframe for plot\n",
    "rownames = []\n",
    "values = []\n",
    "type1 = [\"home\"] * 20 + [\"work\"] * 20\n",
    "\n",
    "for c in list(d_poor.columns)[-40:]:\n",
    "    rownames.append(str(c))\n",
    "    values.append(np.mean(d_poor[str(c)]))\n",
    "    \n",
    "frame = { 'dist': rownames , 'avg_degree_share': values, 'type': type1} \n",
    "result_poor = pd.DataFrame(frame)"
   ]
  },
  {
   "cell_type": "code",
   "execution_count": 68,
   "metadata": {},
   "outputs": [],
   "source": [
    "# construct simple dataframe for plot\n",
    "rownames = []\n",
    "values = []\n",
    "type1 = [\"home\"] * 20 + [\"work\"] * 20\n",
    "\n",
    "for c in list(d_rich.columns)[-40:]:\n",
    "    rownames.append(str(c))\n",
    "    values.append(np.mean(d_rich[str(c)]))\n",
    "    \n",
    "frame = { 'dist': rownames , 'avg_degree_share': values, 'type': type1} \n",
    "result_rich = pd.DataFrame(frame)"
   ]
  },
  {
   "cell_type": "code",
   "execution_count": 70,
   "metadata": {},
   "outputs": [],
   "source": [
    "# cumulative shares -- percent of ties by distance\n",
    "result_poor[\"degree_share_cum\"] = result_poor.groupby(\"type\")[\"avg_degree_share\"].cumsum()\n",
    "result_rich[\"degree_share_cum\"] = result_rich.groupby(\"type\")[\"avg_degree_share\"].cumsum()"
   ]
  },
  {
   "cell_type": "code",
   "execution_count": 71,
   "metadata": {},
   "outputs": [
    {
     "data": {
      "text/html": [
       "<div>\n",
       "<style scoped>\n",
       "    .dataframe tbody tr th:only-of-type {\n",
       "        vertical-align: middle;\n",
       "    }\n",
       "\n",
       "    .dataframe tbody tr th {\n",
       "        vertical-align: top;\n",
       "    }\n",
       "\n",
       "    .dataframe thead th {\n",
       "        text-align: right;\n",
       "    }\n",
       "</style>\n",
       "<table border=\"1\" class=\"dataframe\">\n",
       "  <thead>\n",
       "    <tr style=\"text-align: right;\">\n",
       "      <th></th>\n",
       "      <th>dist</th>\n",
       "      <th>avg_degree_share</th>\n",
       "      <th>type</th>\n",
       "      <th>degree_share_cum</th>\n",
       "    </tr>\n",
       "  </thead>\n",
       "  <tbody>\n",
       "    <tr>\n",
       "      <th>0</th>\n",
       "      <td>dh500_share</td>\n",
       "      <td>0.017972</td>\n",
       "      <td>home</td>\n",
       "      <td>0.017972</td>\n",
       "    </tr>\n",
       "    <tr>\n",
       "      <th>1</th>\n",
       "      <td>dh1000_share</td>\n",
       "      <td>0.026370</td>\n",
       "      <td>home</td>\n",
       "      <td>0.044342</td>\n",
       "    </tr>\n",
       "    <tr>\n",
       "      <th>2</th>\n",
       "      <td>dh1500_share</td>\n",
       "      <td>0.028594</td>\n",
       "      <td>home</td>\n",
       "      <td>0.072936</td>\n",
       "    </tr>\n",
       "    <tr>\n",
       "      <th>3</th>\n",
       "      <td>dh2000_share</td>\n",
       "      <td>0.029672</td>\n",
       "      <td>home</td>\n",
       "      <td>0.102608</td>\n",
       "    </tr>\n",
       "    <tr>\n",
       "      <th>4</th>\n",
       "      <td>dh2500_share</td>\n",
       "      <td>0.031345</td>\n",
       "      <td>home</td>\n",
       "      <td>0.133953</td>\n",
       "    </tr>\n",
       "  </tbody>\n",
       "</table>\n",
       "</div>"
      ],
      "text/plain": [
       "           dist  avg_degree_share  type  degree_share_cum\n",
       "0   dh500_share          0.017972  home          0.017972\n",
       "1  dh1000_share          0.026370  home          0.044342\n",
       "2  dh1500_share          0.028594  home          0.072936\n",
       "3  dh2000_share          0.029672  home          0.102608\n",
       "4  dh2500_share          0.031345  home          0.133953"
      ]
     },
     "execution_count": 71,
     "metadata": {},
     "output_type": "execute_result"
    }
   ],
   "source": [
    "result_poor.head()"
   ]
  },
  {
   "cell_type": "code",
   "execution_count": 72,
   "metadata": {},
   "outputs": [
    {
     "data": {
      "text/html": [
       "<div>\n",
       "<style scoped>\n",
       "    .dataframe tbody tr th:only-of-type {\n",
       "        vertical-align: middle;\n",
       "    }\n",
       "\n",
       "    .dataframe tbody tr th {\n",
       "        vertical-align: top;\n",
       "    }\n",
       "\n",
       "    .dataframe thead th {\n",
       "        text-align: right;\n",
       "    }\n",
       "</style>\n",
       "<table border=\"1\" class=\"dataframe\">\n",
       "  <thead>\n",
       "    <tr style=\"text-align: right;\">\n",
       "      <th></th>\n",
       "      <th>dist</th>\n",
       "      <th>avg_degree_share</th>\n",
       "      <th>type</th>\n",
       "      <th>degree_share_cum</th>\n",
       "    </tr>\n",
       "  </thead>\n",
       "  <tbody>\n",
       "    <tr>\n",
       "      <th>0</th>\n",
       "      <td>dh500_share</td>\n",
       "      <td>0.020078</td>\n",
       "      <td>home</td>\n",
       "      <td>0.020078</td>\n",
       "    </tr>\n",
       "    <tr>\n",
       "      <th>1</th>\n",
       "      <td>dh1000_share</td>\n",
       "      <td>0.024763</td>\n",
       "      <td>home</td>\n",
       "      <td>0.044841</td>\n",
       "    </tr>\n",
       "    <tr>\n",
       "      <th>2</th>\n",
       "      <td>dh1500_share</td>\n",
       "      <td>0.022672</td>\n",
       "      <td>home</td>\n",
       "      <td>0.067513</td>\n",
       "    </tr>\n",
       "    <tr>\n",
       "      <th>3</th>\n",
       "      <td>dh2000_share</td>\n",
       "      <td>0.021608</td>\n",
       "      <td>home</td>\n",
       "      <td>0.089121</td>\n",
       "    </tr>\n",
       "    <tr>\n",
       "      <th>4</th>\n",
       "      <td>dh2500_share</td>\n",
       "      <td>0.021823</td>\n",
       "      <td>home</td>\n",
       "      <td>0.110944</td>\n",
       "    </tr>\n",
       "  </tbody>\n",
       "</table>\n",
       "</div>"
      ],
      "text/plain": [
       "           dist  avg_degree_share  type  degree_share_cum\n",
       "0   dh500_share          0.020078  home          0.020078\n",
       "1  dh1000_share          0.024763  home          0.044841\n",
       "2  dh1500_share          0.022672  home          0.067513\n",
       "3  dh2000_share          0.021608  home          0.089121\n",
       "4  dh2500_share          0.021823  home          0.110944"
      ]
     },
     "execution_count": 72,
     "metadata": {},
     "output_type": "execute_result"
    }
   ],
   "source": [
    "result_rich.head()"
   ]
  },
  {
   "cell_type": "code",
   "execution_count": null,
   "metadata": {},
   "outputs": [],
   "source": []
  },
  {
   "cell_type": "code",
   "execution_count": null,
   "metadata": {},
   "outputs": [],
   "source": []
  },
  {
   "cell_type": "code",
   "execution_count": null,
   "metadata": {},
   "outputs": [],
   "source": []
  },
  {
   "cell_type": "code",
   "execution_count": null,
   "metadata": {},
   "outputs": [],
   "source": []
  },
  {
   "cell_type": "code",
   "execution_count": null,
   "metadata": {},
   "outputs": [],
   "source": []
  },
  {
   "cell_type": "code",
   "execution_count": null,
   "metadata": {},
   "outputs": [],
   "source": []
  },
  {
   "cell_type": "code",
   "execution_count": null,
   "metadata": {},
   "outputs": [],
   "source": []
  },
  {
   "cell_type": "code",
   "execution_count": null,
   "metadata": {},
   "outputs": [],
   "source": []
  },
  {
   "cell_type": "code",
   "execution_count": null,
   "metadata": {},
   "outputs": [],
   "source": []
  },
  {
   "cell_type": "code",
   "execution_count": null,
   "metadata": {},
   "outputs": [],
   "source": []
  },
  {
   "cell_type": "code",
   "execution_count": null,
   "metadata": {},
   "outputs": [],
   "source": []
  },
  {
   "cell_type": "code",
   "execution_count": null,
   "metadata": {},
   "outputs": [],
   "source": []
  },
  {
   "cell_type": "code",
   "execution_count": null,
   "metadata": {},
   "outputs": [],
   "source": []
  },
  {
   "cell_type": "code",
   "execution_count": null,
   "metadata": {},
   "outputs": [],
   "source": []
  },
  {
   "cell_type": "code",
   "execution_count": null,
   "metadata": {},
   "outputs": [],
   "source": []
  },
  {
   "cell_type": "code",
   "execution_count": null,
   "metadata": {},
   "outputs": [],
   "source": []
  },
  {
   "cell_type": "code",
   "execution_count": null,
   "metadata": {},
   "outputs": [],
   "source": []
  },
  {
   "cell_type": "code",
   "execution_count": null,
   "metadata": {},
   "outputs": [],
   "source": []
  },
  {
   "cell_type": "code",
   "execution_count": 14,
   "metadata": {},
   "outputs": [],
   "source": [
    "#load dataframe\n",
    "table9 = pd.read_csv('../data/degree_inside_h3.csv', index_col = 0)"
   ]
  },
  {
   "cell_type": "code",
   "execution_count": 15,
   "metadata": {
    "scrolled": true
   },
   "outputs": [
    {
     "data": {
      "text/html": [
       "<div>\n",
       "<style scoped>\n",
       "    .dataframe tbody tr th:only-of-type {\n",
       "        vertical-align: middle;\n",
       "    }\n",
       "\n",
       "    .dataframe tbody tr th {\n",
       "        vertical-align: top;\n",
       "    }\n",
       "\n",
       "    .dataframe thead th {\n",
       "        text-align: right;\n",
       "    }\n",
       "</style>\n",
       "<table border=\"1\" class=\"dataframe\">\n",
       "  <thead>\n",
       "    <tr style=\"text-align: right;\">\n",
       "      <th></th>\n",
       "      <th>user_id</th>\n",
       "      <th>deg0.5</th>\n",
       "      <th>deg1</th>\n",
       "      <th>deg1.5</th>\n",
       "      <th>deg2</th>\n",
       "      <th>deg2.5</th>\n",
       "      <th>deg3</th>\n",
       "      <th>deg3.5</th>\n",
       "      <th>deg4</th>\n",
       "      <th>deg4.5</th>\n",
       "      <th>...</th>\n",
       "      <th>deg5.5</th>\n",
       "      <th>deg6</th>\n",
       "      <th>deg6.5</th>\n",
       "      <th>deg7</th>\n",
       "      <th>deg7.5</th>\n",
       "      <th>deg8</th>\n",
       "      <th>deg8.5</th>\n",
       "      <th>deg9</th>\n",
       "      <th>deg9.5</th>\n",
       "      <th>deg10</th>\n",
       "    </tr>\n",
       "  </thead>\n",
       "  <tbody>\n",
       "    <tr>\n",
       "      <th>0</th>\n",
       "      <td>4678</td>\n",
       "      <td>0</td>\n",
       "      <td>0</td>\n",
       "      <td>0</td>\n",
       "      <td>0</td>\n",
       "      <td>1</td>\n",
       "      <td>3</td>\n",
       "      <td>4</td>\n",
       "      <td>8</td>\n",
       "      <td>12</td>\n",
       "      <td>...</td>\n",
       "      <td>14</td>\n",
       "      <td>14</td>\n",
       "      <td>16</td>\n",
       "      <td>18</td>\n",
       "      <td>19</td>\n",
       "      <td>20</td>\n",
       "      <td>21</td>\n",
       "      <td>22</td>\n",
       "      <td>22</td>\n",
       "      <td>22</td>\n",
       "    </tr>\n",
       "    <tr>\n",
       "      <th>1</th>\n",
       "      <td>5212</td>\n",
       "      <td>0</td>\n",
       "      <td>1</td>\n",
       "      <td>5</td>\n",
       "      <td>15</td>\n",
       "      <td>19</td>\n",
       "      <td>27</td>\n",
       "      <td>29</td>\n",
       "      <td>30</td>\n",
       "      <td>38</td>\n",
       "      <td>...</td>\n",
       "      <td>49</td>\n",
       "      <td>52</td>\n",
       "      <td>55</td>\n",
       "      <td>61</td>\n",
       "      <td>73</td>\n",
       "      <td>81</td>\n",
       "      <td>88</td>\n",
       "      <td>93</td>\n",
       "      <td>98</td>\n",
       "      <td>99</td>\n",
       "    </tr>\n",
       "    <tr>\n",
       "      <th>2</th>\n",
       "      <td>794111</td>\n",
       "      <td>0</td>\n",
       "      <td>3</td>\n",
       "      <td>3</td>\n",
       "      <td>3</td>\n",
       "      <td>4</td>\n",
       "      <td>6</td>\n",
       "      <td>8</td>\n",
       "      <td>8</td>\n",
       "      <td>11</td>\n",
       "      <td>...</td>\n",
       "      <td>12</td>\n",
       "      <td>13</td>\n",
       "      <td>16</td>\n",
       "      <td>18</td>\n",
       "      <td>23</td>\n",
       "      <td>24</td>\n",
       "      <td>27</td>\n",
       "      <td>28</td>\n",
       "      <td>29</td>\n",
       "      <td>31</td>\n",
       "    </tr>\n",
       "    <tr>\n",
       "      <th>3</th>\n",
       "      <td>896221</td>\n",
       "      <td>0</td>\n",
       "      <td>0</td>\n",
       "      <td>2</td>\n",
       "      <td>2</td>\n",
       "      <td>3</td>\n",
       "      <td>5</td>\n",
       "      <td>6</td>\n",
       "      <td>6</td>\n",
       "      <td>9</td>\n",
       "      <td>...</td>\n",
       "      <td>10</td>\n",
       "      <td>14</td>\n",
       "      <td>15</td>\n",
       "      <td>15</td>\n",
       "      <td>16</td>\n",
       "      <td>16</td>\n",
       "      <td>18</td>\n",
       "      <td>19</td>\n",
       "      <td>19</td>\n",
       "      <td>20</td>\n",
       "    </tr>\n",
       "    <tr>\n",
       "      <th>4</th>\n",
       "      <td>963481</td>\n",
       "      <td>0</td>\n",
       "      <td>2</td>\n",
       "      <td>5</td>\n",
       "      <td>5</td>\n",
       "      <td>7</td>\n",
       "      <td>9</td>\n",
       "      <td>10</td>\n",
       "      <td>11</td>\n",
       "      <td>13</td>\n",
       "      <td>...</td>\n",
       "      <td>15</td>\n",
       "      <td>18</td>\n",
       "      <td>20</td>\n",
       "      <td>20</td>\n",
       "      <td>20</td>\n",
       "      <td>20</td>\n",
       "      <td>21</td>\n",
       "      <td>23</td>\n",
       "      <td>26</td>\n",
       "      <td>29</td>\n",
       "    </tr>\n",
       "  </tbody>\n",
       "</table>\n",
       "<p>5 rows × 21 columns</p>\n",
       "</div>"
      ],
      "text/plain": [
       "   user_id  deg0.5  deg1  deg1.5  deg2  deg2.5  deg3  deg3.5  deg4  deg4.5  \\\n",
       "0     4678       0     0       0     0       1     3       4     8      12   \n",
       "1     5212       0     1       5    15      19    27      29    30      38   \n",
       "2   794111       0     3       3     3       4     6       8     8      11   \n",
       "3   896221       0     0       2     2       3     5       6     6       9   \n",
       "4   963481       0     2       5     5       7     9      10    11      13   \n",
       "\n",
       "   ...  deg5.5  deg6  deg6.5  deg7  deg7.5  deg8  deg8.5  deg9  deg9.5  deg10  \n",
       "0  ...      14    14      16    18      19    20      21    22      22     22  \n",
       "1  ...      49    52      55    61      73    81      88    93      98     99  \n",
       "2  ...      12    13      16    18      23    24      27    28      29     31  \n",
       "3  ...      10    14      15    15      16    16      18    19      19     20  \n",
       "4  ...      15    18      20    20      20    20      21    23      26     29  \n",
       "\n",
       "[5 rows x 21 columns]"
      ]
     },
     "execution_count": 15,
     "metadata": {},
     "output_type": "execute_result"
    }
   ],
   "source": [
    "table9.head()"
   ]
  },
  {
   "cell_type": "code",
   "execution_count": 16,
   "metadata": {},
   "outputs": [],
   "source": [
    "#Get change in number of friends in next 500 meters\n",
    "table11 = deepcopy(table9)\n",
    "\n",
    "table11['deg10'] =  table11['deg10'] - table11['deg9.5']\n",
    "table11['deg9.5'] = table11['deg9.5'] - table11['deg9']\n",
    "table11['deg9'] = table11['deg9'] - table11['deg8.5']\n",
    "table11['deg8.5'] = table11['deg8.5'] - table11['deg8']\n",
    "table11['deg8'] = table11['deg8'] - table11['deg7.5']\n",
    "table11['deg7.5'] = table11['deg7.5'] - table11['deg7']\n",
    "table11['deg7'] = table11['deg7'] - table11['deg6.5']\n",
    "table11['deg6.5'] = table11['deg6.5'] - table11['deg6']\n",
    "table11['deg6'] = table11['deg6'] - table11['deg5.5']\n",
    "table11['deg5.5'] = table11['deg5.5'] - table11['deg5']\n",
    "table11['deg5'] =  table11['deg5'] - table11['deg4.5']\n",
    "table11['deg4.5'] = table11['deg4.5'] - table11['deg4']\n",
    "table11['deg4'] = table11['deg4'] - table11['deg3.5']\n",
    "table11['deg3.5'] = table11['deg3.5'] - table11['deg3']\n",
    "table11['deg3'] = table11['deg3'] - table11['deg2.5']\n",
    "table11['deg2.5'] = table11['deg2.5'] - table11['deg2']\n",
    "table11['deg2'] = table11['deg2'] - table11['deg1.5']\n",
    "table11['deg1.5'] = table11['deg1.5'] - table11['deg1']\n",
    "table11['deg1'] = table11['deg1'] - table11['deg0.5']"
   ]
  },
  {
   "cell_type": "code",
   "execution_count": 17,
   "metadata": {},
   "outputs": [],
   "source": [
    "#load dataframe\n",
    "table11 = pd.read_csv('../data/degree_add_inside_h3.csv', index_col = 0)"
   ]
  },
  {
   "cell_type": "code",
   "execution_count": 18,
   "metadata": {},
   "outputs": [],
   "source": [
    "#get degree ratio\n",
    "table11b = pd.merge(table11, table7, 'left', on = 'user_id')\n",
    "\n",
    "table11b['deg_r_0.5'] = table11b['deg0.5'] / table11b['degree_full']\n",
    "table11b['deg_r_1'] = table11b['deg1'] / table11b['degree_full']\n",
    "table11b['deg_r_1.5'] = table11b['deg1.5'] / table11b['degree_full']\n",
    "table11b['deg_r_2'] = table11b['deg2'] / table11b['degree_full']\n",
    "table11b['deg_r_2.5'] = table11b['deg2.5'] / table11b['degree_full']\n",
    "table11b['deg_r_3'] = table11b['deg3'] / table11b['degree_full']\n",
    "table11b['deg_r_3.5'] = table11b['deg3.5'] / table11b['degree_full']\n",
    "table11b['deg_r_4'] = table11b['deg4'] / table11b['degree_full']\n",
    "table11b['deg_r_4.5'] = table11b['deg4.5'] / table11b['degree_full']\n",
    "table11b['deg_r_5'] = table11b['deg5'] / table11b['degree_full']\n",
    "table11b['deg_r_5.5'] = table11b['deg5.5'] / table11b['degree_full']\n",
    "table11b['deg_r_6'] = table11b['deg6'] / table11b['degree_full']\n",
    "table11b['deg_r_6.5'] = table11b['deg6.5'] / table11b['degree_full']\n",
    "table11b['deg_r_7'] = table11b['deg7'] / table11b['degree_full']\n",
    "table11b['deg_r_7.5'] = table11b['deg7.5'] / table11b['degree_full']\n",
    "table11b['deg_r_8'] = table11b['deg8'] / table11b['degree_full']\n",
    "table11b['deg_r_8.5'] = table11b['deg8.5'] / table11b['degree_full']\n",
    "table11b['deg_r_9'] = table11b['deg9'] / table11b['degree_full']\n",
    "table11b['deg_r_9.5'] = table11b['deg9.5'] / table11b['degree_full']\n",
    "table11b['deg_r_10'] = table11b['deg10'] / table11b['degree_full']"
   ]
  },
  {
   "cell_type": "code",
   "execution_count": 19,
   "metadata": {},
   "outputs": [],
   "source": [
    "#get dataframe without user_id\n",
    "table11c = table11b[['deg_r_0.5','deg_r_1', 'deg_r_1.5', 'deg_r_2', 'deg_r_2.5', 'deg_r_3', 'deg_r_3.5', 'deg_r_4','deg_r_4.5', 'deg_r_5','deg_r_5.5', 'deg_r_6','deg_r_6.5', 'deg_r_7','deg_r_7.5', 'deg_r_8','deg_r_8.5', 'deg_r_9','deg_r_9.5', 'deg_r_10']]"
   ]
  },
  {
   "cell_type": "code",
   "execution_count": 20,
   "metadata": {},
   "outputs": [],
   "source": [
    "#save to dataframe\n",
    "table11c = pd.read_csv('../data/deg_r_h3.csv', index_col = 0)"
   ]
  },
  {
   "cell_type": "code",
   "execution_count": 21,
   "metadata": {},
   "outputs": [
    {
     "data": {
      "text/html": [
       "<div>\n",
       "<style scoped>\n",
       "    .dataframe tbody tr th:only-of-type {\n",
       "        vertical-align: middle;\n",
       "    }\n",
       "\n",
       "    .dataframe tbody tr th {\n",
       "        vertical-align: top;\n",
       "    }\n",
       "\n",
       "    .dataframe thead th {\n",
       "        text-align: right;\n",
       "    }\n",
       "</style>\n",
       "<table border=\"1\" class=\"dataframe\">\n",
       "  <thead>\n",
       "    <tr style=\"text-align: right;\">\n",
       "      <th></th>\n",
       "      <th>deg_r_0.5</th>\n",
       "      <th>deg_r_1</th>\n",
       "      <th>deg_r_1.5</th>\n",
       "      <th>deg_r_2</th>\n",
       "      <th>deg_r_2.5</th>\n",
       "      <th>deg_r_3</th>\n",
       "      <th>deg_r_3.5</th>\n",
       "      <th>deg_r_4</th>\n",
       "      <th>deg_r_4.5</th>\n",
       "      <th>deg_r_5</th>\n",
       "      <th>deg_r_5.5</th>\n",
       "      <th>deg_r_6</th>\n",
       "      <th>deg_r_6.5</th>\n",
       "      <th>deg_r_7</th>\n",
       "      <th>deg_r_7.5</th>\n",
       "      <th>deg_r_8</th>\n",
       "      <th>deg_r_8.5</th>\n",
       "      <th>deg_r_9</th>\n",
       "      <th>deg_r_9.5</th>\n",
       "      <th>deg_r_10</th>\n",
       "    </tr>\n",
       "  </thead>\n",
       "  <tbody>\n",
       "    <tr>\n",
       "      <th>0</th>\n",
       "      <td>0.0</td>\n",
       "      <td>0.000000</td>\n",
       "      <td>0.000000</td>\n",
       "      <td>0.000000</td>\n",
       "      <td>0.020000</td>\n",
       "      <td>0.040000</td>\n",
       "      <td>0.020000</td>\n",
       "      <td>0.080000</td>\n",
       "      <td>0.080000</td>\n",
       "      <td>0.000000</td>\n",
       "      <td>0.040000</td>\n",
       "      <td>0.000000</td>\n",
       "      <td>0.040000</td>\n",
       "      <td>0.040000</td>\n",
       "      <td>0.020000</td>\n",
       "      <td>0.020000</td>\n",
       "      <td>0.020000</td>\n",
       "      <td>0.020000</td>\n",
       "      <td>0.000000</td>\n",
       "      <td>0.000000</td>\n",
       "    </tr>\n",
       "    <tr>\n",
       "      <th>1</th>\n",
       "      <td>0.0</td>\n",
       "      <td>0.006061</td>\n",
       "      <td>0.024242</td>\n",
       "      <td>0.060606</td>\n",
       "      <td>0.024242</td>\n",
       "      <td>0.048485</td>\n",
       "      <td>0.012121</td>\n",
       "      <td>0.006061</td>\n",
       "      <td>0.048485</td>\n",
       "      <td>0.030303</td>\n",
       "      <td>0.036364</td>\n",
       "      <td>0.018182</td>\n",
       "      <td>0.018182</td>\n",
       "      <td>0.036364</td>\n",
       "      <td>0.072727</td>\n",
       "      <td>0.048485</td>\n",
       "      <td>0.042424</td>\n",
       "      <td>0.030303</td>\n",
       "      <td>0.030303</td>\n",
       "      <td>0.006061</td>\n",
       "    </tr>\n",
       "    <tr>\n",
       "      <th>2</th>\n",
       "      <td>0.0</td>\n",
       "      <td>0.071429</td>\n",
       "      <td>0.000000</td>\n",
       "      <td>0.000000</td>\n",
       "      <td>0.023810</td>\n",
       "      <td>0.047619</td>\n",
       "      <td>0.047619</td>\n",
       "      <td>0.000000</td>\n",
       "      <td>0.071429</td>\n",
       "      <td>0.023810</td>\n",
       "      <td>0.000000</td>\n",
       "      <td>0.023810</td>\n",
       "      <td>0.071429</td>\n",
       "      <td>0.047619</td>\n",
       "      <td>0.119048</td>\n",
       "      <td>0.023810</td>\n",
       "      <td>0.071429</td>\n",
       "      <td>0.023810</td>\n",
       "      <td>0.023810</td>\n",
       "      <td>0.047619</td>\n",
       "    </tr>\n",
       "    <tr>\n",
       "      <th>3</th>\n",
       "      <td>0.0</td>\n",
       "      <td>0.000000</td>\n",
       "      <td>0.046512</td>\n",
       "      <td>0.000000</td>\n",
       "      <td>0.023256</td>\n",
       "      <td>0.046512</td>\n",
       "      <td>0.023256</td>\n",
       "      <td>0.000000</td>\n",
       "      <td>0.069767</td>\n",
       "      <td>0.023256</td>\n",
       "      <td>0.000000</td>\n",
       "      <td>0.093023</td>\n",
       "      <td>0.023256</td>\n",
       "      <td>0.000000</td>\n",
       "      <td>0.023256</td>\n",
       "      <td>0.000000</td>\n",
       "      <td>0.046512</td>\n",
       "      <td>0.023256</td>\n",
       "      <td>0.000000</td>\n",
       "      <td>0.023256</td>\n",
       "    </tr>\n",
       "    <tr>\n",
       "      <th>4</th>\n",
       "      <td>0.0</td>\n",
       "      <td>0.040816</td>\n",
       "      <td>0.061224</td>\n",
       "      <td>0.000000</td>\n",
       "      <td>0.040816</td>\n",
       "      <td>0.040816</td>\n",
       "      <td>0.020408</td>\n",
       "      <td>0.020408</td>\n",
       "      <td>0.040816</td>\n",
       "      <td>0.020408</td>\n",
       "      <td>0.020408</td>\n",
       "      <td>0.061224</td>\n",
       "      <td>0.040816</td>\n",
       "      <td>0.000000</td>\n",
       "      <td>0.000000</td>\n",
       "      <td>0.000000</td>\n",
       "      <td>0.020408</td>\n",
       "      <td>0.040816</td>\n",
       "      <td>0.061224</td>\n",
       "      <td>0.061224</td>\n",
       "    </tr>\n",
       "  </tbody>\n",
       "</table>\n",
       "</div>"
      ],
      "text/plain": [
       "   deg_r_0.5   deg_r_1  deg_r_1.5   deg_r_2  deg_r_2.5   deg_r_3  deg_r_3.5  \\\n",
       "0        0.0  0.000000   0.000000  0.000000   0.020000  0.040000   0.020000   \n",
       "1        0.0  0.006061   0.024242  0.060606   0.024242  0.048485   0.012121   \n",
       "2        0.0  0.071429   0.000000  0.000000   0.023810  0.047619   0.047619   \n",
       "3        0.0  0.000000   0.046512  0.000000   0.023256  0.046512   0.023256   \n",
       "4        0.0  0.040816   0.061224  0.000000   0.040816  0.040816   0.020408   \n",
       "\n",
       "    deg_r_4  deg_r_4.5   deg_r_5  deg_r_5.5   deg_r_6  deg_r_6.5   deg_r_7  \\\n",
       "0  0.080000   0.080000  0.000000   0.040000  0.000000   0.040000  0.040000   \n",
       "1  0.006061   0.048485  0.030303   0.036364  0.018182   0.018182  0.036364   \n",
       "2  0.000000   0.071429  0.023810   0.000000  0.023810   0.071429  0.047619   \n",
       "3  0.000000   0.069767  0.023256   0.000000  0.093023   0.023256  0.000000   \n",
       "4  0.020408   0.040816  0.020408   0.020408  0.061224   0.040816  0.000000   \n",
       "\n",
       "   deg_r_7.5   deg_r_8  deg_r_8.5   deg_r_9  deg_r_9.5  deg_r_10  \n",
       "0   0.020000  0.020000   0.020000  0.020000   0.000000  0.000000  \n",
       "1   0.072727  0.048485   0.042424  0.030303   0.030303  0.006061  \n",
       "2   0.119048  0.023810   0.071429  0.023810   0.023810  0.047619  \n",
       "3   0.023256  0.000000   0.046512  0.023256   0.000000  0.023256  \n",
       "4   0.000000  0.000000   0.020408  0.040816   0.061224  0.061224  "
      ]
     },
     "execution_count": 21,
     "metadata": {},
     "output_type": "execute_result"
    }
   ],
   "source": [
    "table11c.head()"
   ]
  },
  {
   "cell_type": "code",
   "execution_count": 22,
   "metadata": {},
   "outputs": [],
   "source": [
    "#Get average value in each column and put it in a list\n",
    "values = list(table11c.apply(lambda column: np.mean(column[:]), axis = 0))"
   ]
  },
  {
   "cell_type": "code",
   "execution_count": 23,
   "metadata": {},
   "outputs": [
    {
     "data": {
      "text/plain": [
       "[0.02686312637088204,\n",
       " 0.05612042428255415,\n",
       " 0.08617216303371616,\n",
       " 0.11700871114196477,\n",
       " 0.145751640760416,\n",
       " 0.1767538630368926,\n",
       " 0.20837926156733957,\n",
       " 0.23666339930507835,\n",
       " 0.2664249438112825,\n",
       " 0.29459606470253297,\n",
       " 0.32049652064309536,\n",
       " 0.3451468105756136,\n",
       " 0.36991082757028626,\n",
       " 0.3945845152649447,\n",
       " 0.41713664993570027,\n",
       " 0.43827574762583016,\n",
       " 0.45777996699122847,\n",
       " 0.4740283647635448,\n",
       " 0.4906607310459037,\n",
       " 0.5063505993225307]"
      ]
     },
     "execution_count": 23,
     "metadata": {},
     "output_type": "execute_result"
    }
   ],
   "source": [
    "#get degree ratio cumulatively\n",
    "table11b2 = pd.merge(table9, table7, 'left', on = 'user_id')\n",
    "\n",
    "table11b2['deg_r_0.5'] = table11b2['deg0.5'] / table11b2['degree_full']\n",
    "table11b2['deg_r_1'] = table11b2['deg1'] / table11b2['degree_full']\n",
    "table11b2['deg_r_1.5'] = table11b2['deg1.5'] / table11b2['degree_full']\n",
    "table11b2['deg_r_2'] = table11b2['deg2'] / table11b2['degree_full']\n",
    "table11b2['deg_r_2.5'] = table11b2['deg2.5'] / table11b2['degree_full']\n",
    "table11b2['deg_r_3'] = table11b2['deg3'] / table11b2['degree_full']\n",
    "table11b2['deg_r_3.5'] = table11b2['deg3.5'] / table11b2['degree_full']\n",
    "table11b2['deg_r_4'] = table11b2['deg4'] / table11b2['degree_full']\n",
    "table11b2['deg_r_4.5'] = table11b2['deg4.5'] / table11b2['degree_full']\n",
    "table11b2['deg_r_5'] = table11b2['deg5'] / table11b2['degree_full']\n",
    "table11b2['deg_r_5.5'] = table11b2['deg5.5'] / table11b2['degree_full']\n",
    "table11b2['deg_r_6'] = table11b2['deg6'] / table11b2['degree_full']\n",
    "table11b2['deg_r_6.5'] = table11b2['deg6.5'] / table11b2['degree_full']\n",
    "table11b2['deg_r_7'] = table11b2['deg7'] / table11b2['degree_full']\n",
    "table11b2['deg_r_7.5'] = table11b2['deg7.5'] / table11b2['degree_full']\n",
    "table11b2['deg_r_8'] = table11b2['deg8'] / table11b2['degree_full']\n",
    "table11b2['deg_r_8.5'] = table11b2['deg8.5'] / table11b2['degree_full']\n",
    "table11b2['deg_r_9'] = table11b2['deg9'] / table11b2['degree_full']\n",
    "table11b2['deg_r_9.5'] = table11b2['deg9.5'] / table11b2['degree_full']\n",
    "table11b2['deg_r_10'] = table11b2['deg10'] / table11b2['degree_full']\n",
    "\n",
    "table11b2b = table11b2[['deg_r_0.5','deg_r_1', 'deg_r_1.5', 'deg_r_2', 'deg_r_2.5', 'deg_r_3', 'deg_r_3.5', 'deg_r_4', 'deg_r_4.5', 'deg_r_5', 'deg_r_5.5','deg_r_6', 'deg_r_6.5','deg_r_7', 'deg_r_7.5','deg_r_8', 'deg_r_8.5','deg_r_9', 'deg_r_9.5','deg_r_10']]\n",
    "\n",
    "valuesb = list(table11b2b.apply(lambda column: np.mean(column[:]), axis = 0))\n",
    "\n",
    "valuesb"
   ]
  },
  {
   "cell_type": "markdown",
   "metadata": {},
   "source": [
    "### Work"
   ]
  },
  {
   "cell_type": "code",
   "execution_count": 24,
   "metadata": {},
   "outputs": [],
   "source": [
    "#function to get egonetwork of ego with friends working inside dist meters\n",
    "def workgo(ego,dist):\n",
    "    m3h = m3.loc[m3['dist_from_friend_w'] < dist]\n",
    "    m42c = m3h.loc[m3h['user_id1'] == ego]\n",
    "    return m42c"
   ]
  },
  {
   "cell_type": "code",
   "execution_count": 83,
   "metadata": {},
   "outputs": [
    {
     "name": "stderr",
     "output_type": "stream",
     "text": [
      "C:\\Users\\T440s\\Anaconda3\\lib\\site-packages\\ipykernel_launcher.py:4: TqdmDeprecationWarning:\n",
      "\n",
      "This function will be removed in tqdm==5.0.0\n",
      "Please use `tqdm.notebook.tqdm` instead of `tqdm.tqdm_notebook`\n",
      "\n"
     ]
    },
    {
     "data": {
      "application/vnd.jupyter.widget-view+json": {
       "model_id": "794c6d1a2c354493810f4755dd89d259",
       "version_major": 2,
       "version_minor": 0
      },
      "text/plain": [
       "HBox(children=(FloatProgress(value=0.0, max=11399.0), HTML(value='')))"
      ]
     },
     "metadata": {},
     "output_type": "display_data"
    },
    {
     "name": "stdout",
     "output_type": "stream",
     "text": [
      "\n"
     ]
    }
   ],
   "source": [
    "# build dataframe of individuals' degrees inside 500 meters - 10 kms\n",
    "listaproba2=[]\n",
    "\n",
    "for user in tqdm_notebook(data['user_id1'].unique()):\n",
    "    time.sleep(.01)\n",
    "    r={}\n",
    "    r['user_id'] = user\n",
    "    for x in range(500, 10500, 500):\n",
    "        r['deg' + str(x)] = len(workgo(user, x))\n",
    "    listaproba2.append(r)   \n",
    "tableproba2 = pd.DataFrame(listaproba2)"
   ]
  },
  {
   "cell_type": "code",
   "execution_count": 87,
   "metadata": {},
   "outputs": [],
   "source": [
    "#rename colums for shorter names\n",
    "new_columns = tableproba2.columns.values  \n",
    "new_columns[1:21] = ['deg0.5','deg1','deg1.5','deg2', 'deg2.5', 'deg3','deg3.5', 'deg4','deg4.5','deg5','deg5.5','deg6','deg6.5','deg7','deg7.5','deg8','deg8.5','deg9','deg9.5','deg10'] \n",
    "tableproba2.columns  = new_columns"
   ]
  },
  {
   "cell_type": "code",
   "execution_count": 89,
   "metadata": {},
   "outputs": [],
   "source": [
    "#save dataframe\n",
    "tableproba2.to_csv('../data/degree_inside_w3.csv')"
   ]
  },
  {
   "cell_type": "code",
   "execution_count": 25,
   "metadata": {},
   "outputs": [],
   "source": [
    "#load dataframe\n",
    "table9b = pd.read_csv('../data/degree_inside_w3.csv', index_col = 0)"
   ]
  },
  {
   "cell_type": "code",
   "execution_count": 26,
   "metadata": {},
   "outputs": [
    {
     "data": {
      "text/html": [
       "<div>\n",
       "<style scoped>\n",
       "    .dataframe tbody tr th:only-of-type {\n",
       "        vertical-align: middle;\n",
       "    }\n",
       "\n",
       "    .dataframe tbody tr th {\n",
       "        vertical-align: top;\n",
       "    }\n",
       "\n",
       "    .dataframe thead th {\n",
       "        text-align: right;\n",
       "    }\n",
       "</style>\n",
       "<table border=\"1\" class=\"dataframe\">\n",
       "  <thead>\n",
       "    <tr style=\"text-align: right;\">\n",
       "      <th></th>\n",
       "      <th>user_id</th>\n",
       "      <th>deg0.5</th>\n",
       "      <th>deg1</th>\n",
       "      <th>deg1.5</th>\n",
       "      <th>deg2</th>\n",
       "      <th>deg2.5</th>\n",
       "      <th>deg3</th>\n",
       "      <th>deg3.5</th>\n",
       "      <th>deg4</th>\n",
       "      <th>deg4.5</th>\n",
       "      <th>...</th>\n",
       "      <th>deg5.5</th>\n",
       "      <th>deg6</th>\n",
       "      <th>deg6.5</th>\n",
       "      <th>deg7</th>\n",
       "      <th>deg7.5</th>\n",
       "      <th>deg8</th>\n",
       "      <th>deg8.5</th>\n",
       "      <th>deg9</th>\n",
       "      <th>deg9.5</th>\n",
       "      <th>deg10</th>\n",
       "    </tr>\n",
       "  </thead>\n",
       "  <tbody>\n",
       "    <tr>\n",
       "      <th>0</th>\n",
       "      <td>4678</td>\n",
       "      <td>0</td>\n",
       "      <td>0</td>\n",
       "      <td>0</td>\n",
       "      <td>1</td>\n",
       "      <td>1</td>\n",
       "      <td>1</td>\n",
       "      <td>1</td>\n",
       "      <td>2</td>\n",
       "      <td>2</td>\n",
       "      <td>...</td>\n",
       "      <td>2</td>\n",
       "      <td>2</td>\n",
       "      <td>2</td>\n",
       "      <td>2</td>\n",
       "      <td>2</td>\n",
       "      <td>3</td>\n",
       "      <td>3</td>\n",
       "      <td>3</td>\n",
       "      <td>4</td>\n",
       "      <td>6</td>\n",
       "    </tr>\n",
       "    <tr>\n",
       "      <th>1</th>\n",
       "      <td>5212</td>\n",
       "      <td>2</td>\n",
       "      <td>4</td>\n",
       "      <td>14</td>\n",
       "      <td>20</td>\n",
       "      <td>24</td>\n",
       "      <td>32</td>\n",
       "      <td>48</td>\n",
       "      <td>59</td>\n",
       "      <td>69</td>\n",
       "      <td>...</td>\n",
       "      <td>86</td>\n",
       "      <td>91</td>\n",
       "      <td>98</td>\n",
       "      <td>99</td>\n",
       "      <td>102</td>\n",
       "      <td>105</td>\n",
       "      <td>113</td>\n",
       "      <td>115</td>\n",
       "      <td>118</td>\n",
       "      <td>122</td>\n",
       "    </tr>\n",
       "    <tr>\n",
       "      <th>2</th>\n",
       "      <td>794111</td>\n",
       "      <td>4</td>\n",
       "      <td>5</td>\n",
       "      <td>7</td>\n",
       "      <td>9</td>\n",
       "      <td>12</td>\n",
       "      <td>19</td>\n",
       "      <td>31</td>\n",
       "      <td>32</td>\n",
       "      <td>32</td>\n",
       "      <td>...</td>\n",
       "      <td>32</td>\n",
       "      <td>33</td>\n",
       "      <td>33</td>\n",
       "      <td>37</td>\n",
       "      <td>37</td>\n",
       "      <td>37</td>\n",
       "      <td>38</td>\n",
       "      <td>39</td>\n",
       "      <td>39</td>\n",
       "      <td>39</td>\n",
       "    </tr>\n",
       "    <tr>\n",
       "      <th>3</th>\n",
       "      <td>896221</td>\n",
       "      <td>0</td>\n",
       "      <td>0</td>\n",
       "      <td>0</td>\n",
       "      <td>0</td>\n",
       "      <td>0</td>\n",
       "      <td>1</td>\n",
       "      <td>2</td>\n",
       "      <td>2</td>\n",
       "      <td>4</td>\n",
       "      <td>...</td>\n",
       "      <td>11</td>\n",
       "      <td>14</td>\n",
       "      <td>17</td>\n",
       "      <td>20</td>\n",
       "      <td>22</td>\n",
       "      <td>24</td>\n",
       "      <td>28</td>\n",
       "      <td>29</td>\n",
       "      <td>29</td>\n",
       "      <td>30</td>\n",
       "    </tr>\n",
       "    <tr>\n",
       "      <th>4</th>\n",
       "      <td>963481</td>\n",
       "      <td>0</td>\n",
       "      <td>3</td>\n",
       "      <td>7</td>\n",
       "      <td>18</td>\n",
       "      <td>24</td>\n",
       "      <td>27</td>\n",
       "      <td>28</td>\n",
       "      <td>29</td>\n",
       "      <td>32</td>\n",
       "      <td>...</td>\n",
       "      <td>32</td>\n",
       "      <td>34</td>\n",
       "      <td>35</td>\n",
       "      <td>36</td>\n",
       "      <td>37</td>\n",
       "      <td>37</td>\n",
       "      <td>37</td>\n",
       "      <td>38</td>\n",
       "      <td>38</td>\n",
       "      <td>38</td>\n",
       "    </tr>\n",
       "  </tbody>\n",
       "</table>\n",
       "<p>5 rows × 21 columns</p>\n",
       "</div>"
      ],
      "text/plain": [
       "   user_id  deg0.5  deg1  deg1.5  deg2  deg2.5  deg3  deg3.5  deg4  deg4.5  \\\n",
       "0     4678       0     0       0     1       1     1       1     2       2   \n",
       "1     5212       2     4      14    20      24    32      48    59      69   \n",
       "2   794111       4     5       7     9      12    19      31    32      32   \n",
       "3   896221       0     0       0     0       0     1       2     2       4   \n",
       "4   963481       0     3       7    18      24    27      28    29      32   \n",
       "\n",
       "   ...  deg5.5  deg6  deg6.5  deg7  deg7.5  deg8  deg8.5  deg9  deg9.5  deg10  \n",
       "0  ...       2     2       2     2       2     3       3     3       4      6  \n",
       "1  ...      86    91      98    99     102   105     113   115     118    122  \n",
       "2  ...      32    33      33    37      37    37      38    39      39     39  \n",
       "3  ...      11    14      17    20      22    24      28    29      29     30  \n",
       "4  ...      32    34      35    36      37    37      37    38      38     38  \n",
       "\n",
       "[5 rows x 21 columns]"
      ]
     },
     "execution_count": 26,
     "metadata": {},
     "output_type": "execute_result"
    }
   ],
   "source": [
    "table9b.head()"
   ]
  },
  {
   "cell_type": "code",
   "execution_count": 27,
   "metadata": {},
   "outputs": [],
   "source": [
    "#Get change in number of friends in next 500 meters\n",
    "table10 = deepcopy(table9b)\n",
    "\n",
    "table10['deg10'] = table10['deg10'] - table10['deg9.5']\n",
    "table10['deg9.5'] = table10['deg9.5'] - table10['deg9']\n",
    "table10['deg9'] = table10['deg9'] - table10['deg8.5']\n",
    "table10['deg8.5'] = table10['deg8.5'] - table10['deg8']\n",
    "table10['deg8'] = table10['deg8'] - table10['deg7.5']\n",
    "table10['deg7.5'] = table10['deg7.5'] - table10['deg7']\n",
    "table10['deg7'] = table10['deg7'] - table10['deg6.5']\n",
    "table10['deg6.5'] = table10['deg6.5'] - table10['deg6']\n",
    "table10['deg6'] = table10['deg6'] - table10['deg5.5']\n",
    "table10['deg5.5'] = table10['deg5.5'] - table10['deg5']\n",
    "table10['deg5'] = table10['deg5'] - table10['deg4.5']\n",
    "table10['deg4.5'] = table10['deg4.5'] - table10['deg4']\n",
    "table10['deg4'] = table10['deg4'] - table10['deg3.5']\n",
    "table10['deg3.5'] = table10['deg3.5'] - table10['deg3']\n",
    "table10['deg3'] = table10['deg3'] - table10['deg2.5']\n",
    "table10['deg2.5'] = table10['deg2.5'] - table10['deg2']\n",
    "table10['deg2'] = table10['deg2'] - table10['deg1.5']\n",
    "table10['deg1.5'] = table10['deg1.5'] - table10['deg1']\n",
    "table10['deg1'] = table10['deg1'] - table10['deg0.5']"
   ]
  },
  {
   "cell_type": "code",
   "execution_count": 28,
   "metadata": {},
   "outputs": [],
   "source": [
    "#load dataframe\n",
    "table10 = pd.read_csv('../data/degree_add_inside_w3.csv', index_col = 0)"
   ]
  },
  {
   "cell_type": "code",
   "execution_count": 29,
   "metadata": {},
   "outputs": [],
   "source": [
    "#Get degree ratios\n",
    "table9c = pd.merge(table10, table7, 'left', on = 'user_id')\n",
    "\n",
    "table9c['deg_r_0.5'] = table9c['deg0.5'] / table9c['degree_full']\n",
    "table9c['deg_r_1'] = table9c['deg1'] / table9c['degree_full']\n",
    "table9c['deg_r_1.5'] = table9c['deg1.5'] / table9c['degree_full']\n",
    "table9c['deg_r_2'] = table9c['deg2'] / table9c['degree_full']\n",
    "table9c['deg_r_2.5'] = table9c['deg2.5'] / table9c['degree_full']\n",
    "table9c['deg_r_3'] = table9c['deg3'] / table9c['degree_full']\n",
    "table9c['deg_r_3.5'] = table9c['deg3.5'] / table9c['degree_full']\n",
    "table9c['deg_r_4'] = table9c['deg4'] / table9c['degree_full']\n",
    "table9c['deg_r_4.5'] = table9c['deg4.5'] / table9c['degree_full']\n",
    "table9c['deg_r_5'] = table9c['deg5'] / table9c['degree_full']\n",
    "table9c['deg_r_5.5'] = table9c['deg5.5'] / table9c['degree_full']\n",
    "table9c['deg_r_6'] = table9c['deg6'] / table9c['degree_full']\n",
    "table9c['deg_r_6.5'] = table9c['deg6.5'] / table9c['degree_full']\n",
    "table9c['deg_r_7'] = table9c['deg7'] / table9c['degree_full']\n",
    "table9c['deg_r_7.5'] = table9c['deg7.5'] / table9c['degree_full']\n",
    "table9c['deg_r_8'] = table9c['deg8'] / table9c['degree_full']\n",
    "table9c['deg_r_8.5'] = table9c['deg8.5'] / table9c['degree_full']\n",
    "table9c['deg_r_9'] = table9c['deg9'] / table9c['degree_full']\n",
    "table9c['deg_r_9.5'] = table9c['deg9.5'] / table9c['degree_full']\n",
    "table9c['deg_r_10'] = table9c['deg10'] / table9c['degree_full']\n"
   ]
  },
  {
   "cell_type": "code",
   "execution_count": 30,
   "metadata": {},
   "outputs": [],
   "source": [
    "# create dataframe without user_id\n",
    "table9d = table9c[['deg_r_0.5','deg_r_1', 'deg_r_1.5', 'deg_r_2', 'deg_r_2.5', 'deg_r_3', 'deg_r_3.5', 'deg_r_4', 'deg_r_4.5', 'deg_r_5', 'deg_r_5.5','deg_r_6', 'deg_r_6.5','deg_r_7', 'deg_r_7.5','deg_r_8', 'deg_r_8.5','deg_r_9', 'deg_r_9.5','deg_r_10']]"
   ]
  },
  {
   "cell_type": "code",
   "execution_count": 31,
   "metadata": {},
   "outputs": [],
   "source": [
    "#load dataframe\n",
    "table9d = pd.read_csv('../data/deg_r_w3.csv', index_col = 0)"
   ]
  },
  {
   "cell_type": "code",
   "execution_count": 32,
   "metadata": {},
   "outputs": [],
   "source": [
    "#create list of average values in each column\n",
    "values2 = list(table9d.apply(lambda column: np.mean(column[:]), axis = 0))"
   ]
  },
  {
   "cell_type": "code",
   "execution_count": 33,
   "metadata": {},
   "outputs": [
    {
     "data": {
      "text/plain": [
       "[0.04098882530475021,\n",
       " 0.07689374202784034,\n",
       " 0.10850007135794633,\n",
       " 0.13699312480170922,\n",
       " 0.161096201855696,\n",
       " 0.1888702577880006,\n",
       " 0.21361461179072105,\n",
       " 0.23975429332704573,\n",
       " 0.26488061326785833,\n",
       " 0.2900502723757943,\n",
       " 0.31536723347148915,\n",
       " 0.33819966130060936,\n",
       " 0.35993056643506155,\n",
       " 0.38147156319993836,\n",
       " 0.4011833421989836,\n",
       " 0.42133391043388435,\n",
       " 0.43912005341475674,\n",
       " 0.4536952016024208,\n",
       " 0.46901502365829933,\n",
       " 0.4837580177412227]"
      ]
     },
     "execution_count": 33,
     "metadata": {},
     "output_type": "execute_result"
    }
   ],
   "source": [
    "#cumulative degree ratio\n",
    "table9b2 = pd.merge(table9b, table7, 'left', on = 'user_id')\n",
    "\n",
    "table9b2['deg_r_0.5'] = table9b2['deg0.5'] / table9b2['degree_full']\n",
    "table9b2['deg_r_1'] = table9b2['deg1'] / table9b2['degree_full']\n",
    "table9b2['deg_r_1.5'] = table9b2['deg1.5'] / table9b2['degree_full']\n",
    "table9b2['deg_r_2'] = table9b2['deg2'] / table9b2['degree_full']\n",
    "table9b2['deg_r_2.5'] = table9b2['deg2.5'] / table9b2['degree_full']\n",
    "table9b2['deg_r_3'] = table9b2['deg3'] / table9b2['degree_full']\n",
    "table9b2['deg_r_3.5'] = table9b2['deg3.5'] / table9b2['degree_full']\n",
    "table9b2['deg_r_4'] = table9b2['deg4'] / table9b2['degree_full']\n",
    "table9b2['deg_r_4.5'] = table9b2['deg4.5'] / table9b2['degree_full']\n",
    "table9b2['deg_r_5'] = table9b2['deg5'] / table9b2['degree_full']\n",
    "table9b2['deg_r_5.5'] = table9b2['deg5.5'] / table9b2['degree_full']\n",
    "table9b2['deg_r_6'] = table9b2['deg6'] / table9b2['degree_full']\n",
    "table9b2['deg_r_6.5'] = table9b2['deg6.5'] / table9b2['degree_full']\n",
    "table9b2['deg_r_7'] = table9b2['deg7'] / table9b2['degree_full']\n",
    "table9b2['deg_r_7.5'] = table9b2['deg7.5'] / table9b2['degree_full']\n",
    "table9b2['deg_r_8'] = table9b2['deg8'] / table9b2['degree_full']\n",
    "table9b2['deg_r_8.5'] = table9b2['deg8.5'] / table9b2['degree_full']\n",
    "table9b2['deg_r_9'] = table9b2['deg9'] / table9b2['degree_full']\n",
    "table9b2['deg_r_9.5'] = table9b2['deg9.5'] / table9b2['degree_full']\n",
    "table9b2['deg_r_10'] = table9b2['deg10'] / table9b2['degree_full']\n",
    "\n",
    "table9b2b = table9b2[['deg_r_0.5','deg_r_1', 'deg_r_1.5', 'deg_r_2', 'deg_r_2.5', 'deg_r_3', 'deg_r_3.5', 'deg_r_4', 'deg_r_4.5', 'deg_r_5', 'deg_r_5.5','deg_r_6', 'deg_r_6.5','deg_r_7', 'deg_r_7.5','deg_r_8', 'deg_r_8.5','deg_r_9', 'deg_r_9.5','deg_r_10']]\n",
    "\n",
    "values2b = list(table9b2b.apply(lambda column: np.mean(column[:]), axis = 0))\n",
    "\n",
    "values2b"
   ]
  },
  {
   "cell_type": "markdown",
   "metadata": {},
   "source": [
    "### Create summary dataframe and plot"
   ]
  },
  {
   "cell_type": "code",
   "execution_count": 34,
   "metadata": {},
   "outputs": [],
   "source": [
    "titles = [0.5, 1, 1.5, 2, 2.5, 3, 3.5, 4, 4.5, 5, 5.5, 6, 6.5, 7, 7.5, 8, 8.5, 9, 9.5, 10]"
   ]
  },
  {
   "cell_type": "code",
   "execution_count": 35,
   "metadata": {},
   "outputs": [],
   "source": [
    "#Degree ratio around home\n",
    "frame = { 'distance (km)': titles , 'degree ratio': values, 'type': 'home'} \n",
    "  \n",
    "result = pd.DataFrame(frame) "
   ]
  },
  {
   "cell_type": "code",
   "execution_count": 36,
   "metadata": {},
   "outputs": [],
   "source": [
    "#Degree ratio around work\n",
    "frame2 = { 'distance (km)': titles , 'degree ratio': values2, 'type': 'work'} \n",
    "  \n",
    "result2 = pd.DataFrame(frame2) "
   ]
  },
  {
   "cell_type": "code",
   "execution_count": 37,
   "metadata": {},
   "outputs": [],
   "source": [
    "result3 = pd.concat([result, result2])"
   ]
  },
  {
   "cell_type": "code",
   "execution_count": 38,
   "metadata": {},
   "outputs": [
    {
     "data": {
      "text/plain": [
       "MannwhitneyuResult(statistic=62761811.0, pvalue=8.992058508888681e-15)"
      ]
     },
     "execution_count": 38,
     "metadata": {},
     "output_type": "execute_result"
    }
   ],
   "source": [
    "sp.stats.mannwhitneyu(table11c['deg_r_0.5'], table9d['deg_r_0.5'])"
   ]
  },
  {
   "cell_type": "code",
   "execution_count": 39,
   "metadata": {},
   "outputs": [
    {
     "data": {
      "text/plain": [
       "MannwhitneyuResult(statistic=63966791.0, pvalue=0.0006354020174003667)"
      ]
     },
     "execution_count": 39,
     "metadata": {},
     "output_type": "execute_result"
    }
   ],
   "source": [
    "sp.stats.mannwhitneyu(table11c['deg_r_1'], table9d['deg_r_1'])"
   ]
  },
  {
   "cell_type": "code",
   "execution_count": 155,
   "metadata": {},
   "outputs": [
    {
     "data": {
      "image/png": "[encoded data removed]",
      "text/plain": [
       "<Figure size 864x432 with 1 Axes>"
      ]
     },
     "metadata": {
      "needs_background": "light"
     },
     "output_type": "display_data"
    }
   ],
   "source": [
    "#parameters of chart\n",
    "fig, ax = plt.subplots(1,1, figsize=(12, 6))\n",
    "\n",
    "#color of lines\n",
    "colorsList = [(0.0, 0.5019607843137255, 0.0),(1.0, 0.6470588235294118, 0.0)]\n",
    "\n",
    "#lineplot created\n",
    "ax = sns.lineplot(result3['distance (km)'], result3['degree ratio'], hue = result3['type'], style = result3['type'], palette = colorsList, dashes=False, ax = ax, markers=[\"^\", \"o\"], markersize = 10)\n",
    "\n",
    "#customize labels and legends\n",
    "handles, labels = ax.get_legend_handles_labels()\n",
    "ax.legend(handles=handles[1:], labels=['Home ties', 'Work ties'], fontsize = 20)\n",
    "ax.set(xlabel='Distance (km)', ylabel='Degree ratio')\n",
    "ax.xaxis.label.set_fontsize(20)\n",
    "ax.yaxis.label.set_fontsize(20)\n",
    "ax.yaxis.set_major_formatter(mtick.PercentFormatter(1, decimals = 1)) \n",
    "ax.tick_params(axis='both', which='major', labelsize=15)\n",
    "ax.xaxis.set_major_locator(ticker.MultipleLocator(0.5))\n",
    "ax.axvline(x=5.0,  linestyle='--')\n",
    "\n",
    "#save chart\n",
    "plt.savefig('../figures/gravitation32.jpg')"
   ]
  },
  {
   "cell_type": "markdown",
   "metadata": {},
   "source": [
    "The chart shows that people in general make more of their ties in the direct neighborhood of their workplace compared to their home. Also, the decline of the ratio of ties is steeper in the distance from workplace case, it basically stagnates for a while in the distance from home case."
   ]
  },
  {
   "cell_type": "markdown",
   "metadata": {},
   "source": [
    "### Income at home - WORK ties"
   ]
  },
  {
   "cell_type": "code",
   "execution_count": 47,
   "metadata": {},
   "outputs": [],
   "source": [
    "#Get dataframe with only user_id and degree ratios\n",
    "table9db = table9c[['user_id', 'deg_r_0.5','deg_r_1', 'deg_r_1.5', 'deg_r_2', 'deg_r_2.5', 'deg_r_3', 'deg_r_3.5', 'deg_r_4', 'deg_r_4.5', 'deg_r_5', 'deg_r_5.5','deg_r_6', 'deg_r_6.5','deg_r_7', 'deg_r_7.5','deg_r_8', 'deg_r_8.5','deg_r_9', 'deg_r_9.5','deg_r_10']]"
   ]
  },
  {
   "cell_type": "code",
   "execution_count": 48,
   "metadata": {},
   "outputs": [],
   "source": [
    "#Read in data about individuals merged with census data i.e. income and education group, ethnicity in home and work tract\n",
    "tabmer2_all = pd.read_csv('../data/tabmer2_all.csv', index_col = 0)"
   ]
  },
  {
   "cell_type": "code",
   "execution_count": 49,
   "metadata": {},
   "outputs": [
    {
     "data": {
      "text/html": [
       "<div>\n",
       "<style scoped>\n",
       "    .dataframe tbody tr th:only-of-type {\n",
       "        vertical-align: middle;\n",
       "    }\n",
       "\n",
       "    .dataframe tbody tr th {\n",
       "        vertical-align: top;\n",
       "    }\n",
       "\n",
       "    .dataframe thead th {\n",
       "        text-align: right;\n",
       "    }\n",
       "</style>\n",
       "<table border=\"1\" class=\"dataframe\">\n",
       "  <thead>\n",
       "    <tr style=\"text-align: right;\">\n",
       "      <th></th>\n",
       "      <th>user_id</th>\n",
       "      <th>degree_w</th>\n",
       "      <th>degree_h</th>\n",
       "      <th>deg_ratio_h</th>\n",
       "      <th>deg_ratio_w</th>\n",
       "      <th>degree_full</th>\n",
       "      <th>distance</th>\n",
       "      <th>geometry_h</th>\n",
       "      <th>geometry_w</th>\n",
       "      <th>income_h</th>\n",
       "      <th>...</th>\n",
       "      <th>asian_w</th>\n",
       "      <th>has_bach_h</th>\n",
       "      <th>has_bach_w</th>\n",
       "      <th>educ_group_h_3</th>\n",
       "      <th>educ_group_w_3</th>\n",
       "      <th>income_group_h_3</th>\n",
       "      <th>income_group_w_3</th>\n",
       "      <th>income_group_h_10</th>\n",
       "      <th>income_group_w_10</th>\n",
       "      <th>PR</th>\n",
       "    </tr>\n",
       "  </thead>\n",
       "  <tbody>\n",
       "    <tr>\n",
       "      <th>0</th>\n",
       "      <td>4678</td>\n",
       "      <td>1</td>\n",
       "      <td>0</td>\n",
       "      <td>0.000000</td>\n",
       "      <td>0.020000</td>\n",
       "      <td>50</td>\n",
       "      <td>3.48</td>\n",
       "      <td>POINT (-71.126 42.42100000000001)</td>\n",
       "      <td>POINT (-71.139 42.451)</td>\n",
       "      <td>40840.0</td>\n",
       "      <td>...</td>\n",
       "      <td>123.0</td>\n",
       "      <td>0.195882</td>\n",
       "      <td>0.196721</td>\n",
       "      <td>in_between_educated</td>\n",
       "      <td>in_between_educated</td>\n",
       "      <td>in_between</td>\n",
       "      <td>rich</td>\n",
       "      <td>ig6</td>\n",
       "      <td>ig9</td>\n",
       "      <td>NaN</td>\n",
       "    </tr>\n",
       "    <tr>\n",
       "      <th>1</th>\n",
       "      <td>5212</td>\n",
       "      <td>20</td>\n",
       "      <td>15</td>\n",
       "      <td>0.090909</td>\n",
       "      <td>0.121212</td>\n",
       "      <td>165</td>\n",
       "      <td>3.22</td>\n",
       "      <td>POINT (-71.123 42.386)</td>\n",
       "      <td>POINT (-71.093 42.368)</td>\n",
       "      <td>71123.0</td>\n",
       "      <td>...</td>\n",
       "      <td>210.0</td>\n",
       "      <td>0.227968</td>\n",
       "      <td>0.189746</td>\n",
       "      <td>well_educated</td>\n",
       "      <td>in_between_educated</td>\n",
       "      <td>rich</td>\n",
       "      <td>poor</td>\n",
       "      <td>ig9</td>\n",
       "      <td>ig2</td>\n",
       "      <td>RP</td>\n",
       "    </tr>\n",
       "    <tr>\n",
       "      <th>2</th>\n",
       "      <td>794111</td>\n",
       "      <td>9</td>\n",
       "      <td>3</td>\n",
       "      <td>0.071429</td>\n",
       "      <td>0.214286</td>\n",
       "      <td>42</td>\n",
       "      <td>2.58</td>\n",
       "      <td>POINT (-71.077 42.346)</td>\n",
       "      <td>POINT (-71.077 42.369)</td>\n",
       "      <td>69840.0</td>\n",
       "      <td>...</td>\n",
       "      <td>523.0</td>\n",
       "      <td>0.166301</td>\n",
       "      <td>0.354798</td>\n",
       "      <td>in_between_educated</td>\n",
       "      <td>well_educated</td>\n",
       "      <td>rich</td>\n",
       "      <td>rich</td>\n",
       "      <td>ig9</td>\n",
       "      <td>ig9</td>\n",
       "      <td>RR</td>\n",
       "    </tr>\n",
       "    <tr>\n",
       "      <th>3</th>\n",
       "      <td>896221</td>\n",
       "      <td>0</td>\n",
       "      <td>2</td>\n",
       "      <td>0.046512</td>\n",
       "      <td>0.000000</td>\n",
       "      <td>43</td>\n",
       "      <td>0.00</td>\n",
       "      <td>POINT (-71.128 42.347)</td>\n",
       "      <td>POINT (-71.128 42.347)</td>\n",
       "      <td>62825.0</td>\n",
       "      <td>...</td>\n",
       "      <td>626.0</td>\n",
       "      <td>0.222095</td>\n",
       "      <td>0.222095</td>\n",
       "      <td>well_educated</td>\n",
       "      <td>well_educated</td>\n",
       "      <td>rich</td>\n",
       "      <td>rich</td>\n",
       "      <td>ig9</td>\n",
       "      <td>ig9</td>\n",
       "      <td>RR</td>\n",
       "    </tr>\n",
       "    <tr>\n",
       "      <th>4</th>\n",
       "      <td>963481</td>\n",
       "      <td>18</td>\n",
       "      <td>5</td>\n",
       "      <td>0.102041</td>\n",
       "      <td>0.367347</td>\n",
       "      <td>49</td>\n",
       "      <td>6.32</td>\n",
       "      <td>POINT (-71.123 42.4)</td>\n",
       "      <td>POINT (-71.07600000000001 42.355)</td>\n",
       "      <td>47743.0</td>\n",
       "      <td>...</td>\n",
       "      <td>305.0</td>\n",
       "      <td>0.282781</td>\n",
       "      <td>0.302183</td>\n",
       "      <td>well_educated</td>\n",
       "      <td>well_educated</td>\n",
       "      <td>rich</td>\n",
       "      <td>rich</td>\n",
       "      <td>ig7</td>\n",
       "      <td>ig9</td>\n",
       "      <td>RR</td>\n",
       "    </tr>\n",
       "  </tbody>\n",
       "</table>\n",
       "<p>5 rows × 34 columns</p>\n",
       "</div>"
      ],
      "text/plain": [
       "   user_id  degree_w  degree_h  deg_ratio_h  deg_ratio_w  degree_full  \\\n",
       "0     4678         1         0     0.000000     0.020000           50   \n",
       "1     5212        20        15     0.090909     0.121212          165   \n",
       "2   794111         9         3     0.071429     0.214286           42   \n",
       "3   896221         0         2     0.046512     0.000000           43   \n",
       "4   963481        18         5     0.102041     0.367347           49   \n",
       "\n",
       "   distance                         geometry_h  \\\n",
       "0      3.48  POINT (-71.126 42.42100000000001)   \n",
       "1      3.22             POINT (-71.123 42.386)   \n",
       "2      2.58             POINT (-71.077 42.346)   \n",
       "3      0.00             POINT (-71.128 42.347)   \n",
       "4      6.32               POINT (-71.123 42.4)   \n",
       "\n",
       "                          geometry_w  income_h  ...  asian_w  has_bach_h  \\\n",
       "0             POINT (-71.139 42.451)   40840.0  ...    123.0    0.195882   \n",
       "1             POINT (-71.093 42.368)   71123.0  ...    210.0    0.227968   \n",
       "2             POINT (-71.077 42.369)   69840.0  ...    523.0    0.166301   \n",
       "3             POINT (-71.128 42.347)   62825.0  ...    626.0    0.222095   \n",
       "4  POINT (-71.07600000000001 42.355)   47743.0  ...    305.0    0.282781   \n",
       "\n",
       "   has_bach_w       educ_group_h_3       educ_group_w_3  income_group_h_3  \\\n",
       "0    0.196721  in_between_educated  in_between_educated        in_between   \n",
       "1    0.189746        well_educated  in_between_educated              rich   \n",
       "2    0.354798  in_between_educated        well_educated              rich   \n",
       "3    0.222095        well_educated        well_educated              rich   \n",
       "4    0.302183        well_educated        well_educated              rich   \n",
       "\n",
       "   income_group_w_3  income_group_h_10  income_group_w_10   PR  \n",
       "0              rich                ig6                ig9  NaN  \n",
       "1              poor                ig9                ig2   RP  \n",
       "2              rich                ig9                ig9   RR  \n",
       "3              rich                ig9                ig9   RR  \n",
       "4              rich                ig7                ig9   RR  \n",
       "\n",
       "[5 rows x 34 columns]"
      ]
     },
     "execution_count": 49,
     "metadata": {},
     "output_type": "execute_result"
    }
   ],
   "source": [
    "tabmer2_all.head()"
   ]
  },
  {
   "cell_type": "code",
   "execution_count": 50,
   "metadata": {},
   "outputs": [],
   "source": [
    "#merge degree ratios with census data\n",
    "group = pd.merge(table9db, tabmer2_all[['user_id', 'income_group_h_3', 'income_group_w_3', 'income_group_h_10', 'income_group_w_10']], 'left', on = 'user_id')"
   ]
  },
  {
   "cell_type": "code",
   "execution_count": 51,
   "metadata": {},
   "outputs": [],
   "source": [
    "#drop na values\n",
    "group = group.dropna()"
   ]
  },
  {
   "cell_type": "code",
   "execution_count": 52,
   "metadata": {
    "scrolled": true
   },
   "outputs": [],
   "source": [
    "# get average degree ration for thos living in rich tracts\n",
    "values3c = list(group.loc[group['income_group_h_3'] == 'rich'].iloc[:,1:21].apply(lambda column: np.mean(column[:]), axis = 0))"
   ]
  },
  {
   "cell_type": "code",
   "execution_count": 53,
   "metadata": {
    "scrolled": true
   },
   "outputs": [],
   "source": [
    "# get average degree ration for thos living in poor tracts\n",
    "values4c = list(group.loc[group['income_group_h_3'] == 'poor'].iloc[:,1:21].apply(lambda column: np.mean(column[:]), axis = 0))"
   ]
  },
  {
   "cell_type": "code",
   "execution_count": 54,
   "metadata": {
    "scrolled": true
   },
   "outputs": [],
   "source": [
    "# get average degree ration for thos living in in_between tracts\n",
    "values5c = list(group.loc[group['income_group_h_3'] == 'in_between'].iloc[:,1:21].apply(lambda column: np.mean(column[:]), axis = 0))"
   ]
  },
  {
   "cell_type": "code",
   "execution_count": 55,
   "metadata": {},
   "outputs": [],
   "source": [
    "#put in dataframe\n",
    "a3 = pd.DataFrame(values3c)\n",
    "a3['income_group'] = 'rich'\n",
    "a3['distance (km)'] = titles"
   ]
  },
  {
   "cell_type": "code",
   "execution_count": 56,
   "metadata": {},
   "outputs": [],
   "source": [
    "b3 = pd.DataFrame(values4c)\n",
    "b3['income_group'] = 'poor'\n",
    "b3['distance (km)'] = titles"
   ]
  },
  {
   "cell_type": "code",
   "execution_count": 57,
   "metadata": {},
   "outputs": [],
   "source": [
    "c3 = pd.DataFrame(values5c)\n",
    "c3['income_group'] = 'in_between'\n",
    "c3['distance (km)'] = titles"
   ]
  },
  {
   "cell_type": "code",
   "execution_count": 58,
   "metadata": {},
   "outputs": [],
   "source": [
    "#concatenate dataframes into one\n",
    "d3 = pd.concat([a3,b3,c3])\n",
    "d3.columns = ['degree ratio', 'income_group', 'distance (km)']"
   ]
  },
  {
   "cell_type": "code",
   "execution_count": 59,
   "metadata": {
    "scrolled": false
   },
   "outputs": [
    {
     "data": {
      "text/plain": [
       "Text(0.5, 1.0, 'Work ties by income group')"
      ]
     },
     "execution_count": 59,
     "metadata": {},
     "output_type": "execute_result"
    },
    {
     "data": {
      "image/png": "[encoded data removed]",
      "text/plain": [
       "<Figure size 864x432 with 1 Axes>"
      ]
     },
     "metadata": {
      "needs_background": "light"
     },
     "output_type": "display_data"
    }
   ],
   "source": [
    "fig, ax = plt.subplots(1,1, figsize=(12, 6))\n",
    "sns.lineplot('distance (km)', 'degree ratio', hue = 'income_group', style = 'income_group', data= d3, dashes=False, ax = ax, markers = True).set_title(\"Work ties by income group\")\n",
    "#plt.savefig('../figures/gravitation_inc_w.jpg')"
   ]
  },
  {
   "cell_type": "code",
   "execution_count": 60,
   "metadata": {},
   "outputs": [],
   "source": [
    "#fiter on only rich and poor\n",
    "d32 = pd.concat([a3,b3])\n",
    "d32.columns = ['degree ratio', 'income_group', 'distance (km)']"
   ]
  },
  {
   "cell_type": "code",
   "execution_count": 61,
   "metadata": {},
   "outputs": [],
   "source": [
    "group_mw = group.loc[group['income_group_h_3'] == 'rich']"
   ]
  },
  {
   "cell_type": "code",
   "execution_count": 62,
   "metadata": {},
   "outputs": [],
   "source": [
    "group_mw2 = group.loc[group['income_group_h_3'] == 'poor']"
   ]
  },
  {
   "cell_type": "code",
   "execution_count": 63,
   "metadata": {},
   "outputs": [
    {
     "data": {
      "text/plain": [
       "MannwhitneyuResult(statistic=5594891.5, pvalue=2.9862026551827905e-05)"
      ]
     },
     "execution_count": 63,
     "metadata": {},
     "output_type": "execute_result"
    }
   ],
   "source": [
    "#calculate Mann-Whitnes test to see whether inside 0.5 km poor and rich degree ratios are really different from each other\n",
    "sp.stats.mannwhitneyu(group_mw['deg_r_0.5'], group_mw2['deg_r_0.5'])"
   ]
  },
  {
   "cell_type": "code",
   "execution_count": 156,
   "metadata": {
    "scrolled": false
   },
   "outputs": [
    {
     "data": {
      "image/png": "[encoded data removed]",
      "text/plain": [
       "<Figure size 864x432 with 1 Axes>"
      ]
     },
     "metadata": {
      "needs_background": "light"
     },
     "output_type": "display_data"
    }
   ],
   "source": [
    "#parameters of chart\n",
    "fig, ax = plt.subplots(1,1, figsize=(12, 6))\n",
    "\n",
    "#colors of lines\n",
    "colorsList = [(1.0, 0.0, 0.0,0.5),(0.0, 0.0, 1.0,0.5)]\n",
    "\n",
    "#lineplot created\n",
    "sns.lineplot('distance (km)', 'degree ratio', hue = 'income_group', style = 'income_group',palette = colorsList, data= d32, dashes=False, ax = ax, markers=[\"o\", \"o\"], markersize = 10)\n",
    "\n",
    "#customize labels and legends\n",
    "handles, labels = ax.get_legend_handles_labels()\n",
    "ax.legend(handles=handles[1:], labels=['rich', 'poor'], fontsize = 20)\n",
    "ax.set(xlabel='Distance (km)', ylabel='Degree ratio')\n",
    "ax.xaxis.label.set_fontsize(20)\n",
    "ax.yaxis.label.set_fontsize(20)\n",
    "ax.yaxis.set_major_formatter(mtick.PercentFormatter(1, decimals = 1))\n",
    "ax.tick_params(axis='both', which='major', labelsize=15)\n",
    "ax.xaxis.set_major_locator(ticker.MultipleLocator(0.5))\n",
    "leg = ax.get_legend()\n",
    "leg.get_texts()[0].set_text('Rich users')\n",
    "leg.get_texts()[1].set_text('Poor users')\n",
    "ax.xaxis.set_major_locator(ticker.MultipleLocator(0.5))\n",
    "\n",
    "#save chart\n",
    "plt.savefig('../figures/gravitation_inc_w2.jpg')"
   ]
  },
  {
   "cell_type": "markdown",
   "metadata": {},
   "source": [
    "By breaking down the ties around work by income groups, we can see that around work, the gravitatation rule is much stronger for rich people (lives in rich tract) than for poor people, they make more of their ties around their workplace and the share of their ties declines significantly as we go further from their workplace"
   ]
  },
  {
   "cell_type": "markdown",
   "metadata": {},
   "source": [
    "Cumulative degree ratio"
   ]
  },
  {
   "cell_type": "code",
   "execution_count": 65,
   "metadata": {},
   "outputs": [],
   "source": [
    "table9b2c = table9b2[['user_id','deg_r_0.5','deg_r_1', 'deg_r_1.5', 'deg_r_2', 'deg_r_2.5', 'deg_r_3', 'deg_r_3.5', 'deg_r_4', 'deg_r_4.5', 'deg_r_5', 'deg_r_5.5','deg_r_6', 'deg_r_6.5','deg_r_7', 'deg_r_7.5','deg_r_8', 'deg_r_8.5','deg_r_9', 'deg_r_9.5','deg_r_10']]"
   ]
  },
  {
   "cell_type": "code",
   "execution_count": 66,
   "metadata": {},
   "outputs": [],
   "source": [
    "groupb = pd.merge(table9b2c, tabmer2_all[['user_id', 'income_group_h_3', 'income_group_w_3', 'income_group_h_10', 'income_group_w_10']], 'left', on = 'user_id')"
   ]
  },
  {
   "cell_type": "code",
   "execution_count": 67,
   "metadata": {},
   "outputs": [],
   "source": [
    "groupb = groupb.dropna()"
   ]
  },
  {
   "cell_type": "code",
   "execution_count": 68,
   "metadata": {
    "scrolled": true
   },
   "outputs": [],
   "source": [
    "valuesb3c = list(groupb.loc[groupb['income_group_h_3'] == 'rich'].iloc[:,1:21].apply(lambda column: np.mean(column[:]), axis = 0))"
   ]
  },
  {
   "cell_type": "code",
   "execution_count": 70,
   "metadata": {
    "scrolled": true
   },
   "outputs": [
    {
     "data": {
      "text/plain": [
       "[0.03400889537169638,\n",
       " 0.07044045520782236,\n",
       " 0.10356312318213755,\n",
       " 0.13733198486411366,\n",
       " 0.16535244720342607,\n",
       " 0.1969176991525135,\n",
       " 0.2249482441810057,\n",
       " 0.2566847832639818,\n",
       " 0.2839458841428967,\n",
       " 0.3124792185369792,\n",
       " 0.33912235535655444,\n",
       " 0.36296267001771965,\n",
       " 0.38592708141035553,\n",
       " 0.4085111621269842,\n",
       " 0.43022307894159256,\n",
       " 0.4508721310151584,\n",
       " 0.46892267310175895,\n",
       " 0.482723901625816,\n",
       " 0.49772762659399306,\n",
       " 0.5130607796955224]"
      ]
     },
     "execution_count": 70,
     "metadata": {},
     "output_type": "execute_result"
    }
   ],
   "source": [
    "valuesb4c = list(groupb.loc[groupb['income_group_h_3'] == 'poor'].iloc[:,1:21].apply(lambda column: np.mean(column[:]), axis = 0))\n",
    "valuesb4c"
   ]
  },
  {
   "cell_type": "markdown",
   "metadata": {},
   "source": [
    "### Ratio of people with bachelor at home - WORK ties"
   ]
  },
  {
   "cell_type": "code",
   "execution_count": 71,
   "metadata": {},
   "outputs": [],
   "source": [
    "group4 = pd.merge(table9db, tabmer2_all[['user_id', 'educ_group_h_3', 'educ_group_w_3']], 'left', on = 'user_id')"
   ]
  },
  {
   "cell_type": "code",
   "execution_count": 72,
   "metadata": {},
   "outputs": [],
   "source": [
    "group4 = group4.dropna()"
   ]
  },
  {
   "cell_type": "code",
   "execution_count": 73,
   "metadata": {
    "scrolled": true
   },
   "outputs": [],
   "source": [
    "values3f = list(group4.loc[group4['educ_group_h_3'] == 'well_educated'].iloc[:,1:21].apply(lambda column: np.mean(column[:]), axis = 0))"
   ]
  },
  {
   "cell_type": "code",
   "execution_count": 74,
   "metadata": {
    "scrolled": true
   },
   "outputs": [],
   "source": [
    "values4f = list(group4.loc[group4['educ_group_h_3'] == 'poorly_educated'].iloc[:,1:21].apply(lambda column: np.mean(column[:]), axis = 0))"
   ]
  },
  {
   "cell_type": "code",
   "execution_count": 75,
   "metadata": {
    "scrolled": true
   },
   "outputs": [],
   "source": [
    "values5f = list(group4.loc[group4['educ_group_h_3'] == 'in_between_educated'].iloc[:,1:21].apply(lambda column: np.mean(column[:]), axis = 0))"
   ]
  },
  {
   "cell_type": "code",
   "execution_count": 76,
   "metadata": {},
   "outputs": [],
   "source": [
    "a6 = pd.DataFrame(values3f)\n",
    "a6['educ_group_h_3'] = 'well_educated'\n",
    "a6['distance (km)'] = titles"
   ]
  },
  {
   "cell_type": "code",
   "execution_count": 77,
   "metadata": {},
   "outputs": [],
   "source": [
    "b6 = pd.DataFrame(values4f)\n",
    "b6['educ_group_h_3'] = 'poorly_educated'\n",
    "b6['distance (km)'] = titles"
   ]
  },
  {
   "cell_type": "code",
   "execution_count": 78,
   "metadata": {},
   "outputs": [],
   "source": [
    "c6 = pd.DataFrame(values5f)\n",
    "c6['educ_group_h_3'] = 'in_between_educated'\n",
    "c6['distance (km)'] = titles"
   ]
  },
  {
   "cell_type": "code",
   "execution_count": 79,
   "metadata": {},
   "outputs": [],
   "source": [
    "d6 = pd.concat([a6, b6, c6])\n",
    "d6.columns = ['degree ratio', 'educated_group', 'distance (km)']"
   ]
  },
  {
   "cell_type": "code",
   "execution_count": 80,
   "metadata": {
    "scrolled": false
   },
   "outputs": [
    {
     "data": {
      "text/plain": [
       "<matplotlib.axes._subplots.AxesSubplot at 0x1c3bac1cdd8>"
      ]
     },
     "execution_count": 80,
     "metadata": {},
     "output_type": "execute_result"
    },
    {
     "data": {
      "image/png": "[encoded data removed]",
      "text/plain": [
       "<Figure size 864x432 with 1 Axes>"
      ]
     },
     "metadata": {
      "needs_background": "light"
     },
     "output_type": "display_data"
    }
   ],
   "source": [
    "fig, ax = plt.subplots(1,1, figsize=(12, 6))\n",
    "sns.lineplot('distance (km)', 'degree ratio', hue = 'educated_group', style = 'educated_group', data= d6, dashes=False, ax = ax, markers=True)\n",
    "#plt.savefig('../figures/gravitation_educ_h.jpg')"
   ]
  },
  {
   "cell_type": "code",
   "execution_count": 81,
   "metadata": {},
   "outputs": [],
   "source": [
    "d62 = pd.concat([a6, b6])\n",
    "d62.columns = ['degree ratio', 'educated_group', 'distance (km)']"
   ]
  },
  {
   "cell_type": "code",
   "execution_count": 82,
   "metadata": {
    "scrolled": false
   },
   "outputs": [
    {
     "data": {
      "image/png": "[encoded data removed]",
      "text/plain": [
       "<Figure size 864x432 with 1 Axes>"
      ]
     },
     "metadata": {
      "needs_background": "light"
     },
     "output_type": "display_data"
    }
   ],
   "source": [
    "fig, ax = plt.subplots(1,1, figsize=(12, 6))\n",
    "sns.lineplot('distance (km)', 'degree ratio', hue = 'educated_group', style = 'educated_group', data= d62, dashes=False, ax = ax, markers=True)\n",
    "#plt.savefig('../figures/gravitation_educ_h2.jpg')"
   ]
  },
  {
   "cell_type": "markdown",
   "metadata": {},
   "source": [
    "If we break down the ties around work by educated groups, we can see that those living in well educated neighborhoods (defined as the ratio of the bachelor degree holders to the population of the tract being above the 70th percentile), make more friends close to their workplace, though the effect seems to be a bit smaller than it was for the income case."
   ]
  },
  {
   "cell_type": "markdown",
   "metadata": {},
   "source": [
    "### PR people - WORK ties"
   ]
  },
  {
   "cell_type": "code",
   "execution_count": 83,
   "metadata": {},
   "outputs": [],
   "source": [
    "group6 = pd.merge(table9db, tabmer2_all[['user_id', 'PR']], 'left', on = 'user_id')"
   ]
  },
  {
   "cell_type": "code",
   "execution_count": 84,
   "metadata": {},
   "outputs": [],
   "source": [
    "group6 = group6.dropna()"
   ]
  },
  {
   "cell_type": "code",
   "execution_count": 85,
   "metadata": {
    "scrolled": true
   },
   "outputs": [],
   "source": [
    "values3h = list(group6.loc[group6['PR'] == 'PR'].iloc[:,1:21].apply(lambda column: np.mean(column[:]), axis = 0))"
   ]
  },
  {
   "cell_type": "code",
   "execution_count": 86,
   "metadata": {
    "scrolled": true
   },
   "outputs": [],
   "source": [
    "values4h = list(group6.loc[group6['PR'] == 'PP'].iloc[:,1:21].apply(lambda column: np.mean(column[:]), axis = 0))"
   ]
  },
  {
   "cell_type": "code",
   "execution_count": 87,
   "metadata": {
    "scrolled": true
   },
   "outputs": [],
   "source": [
    "values5h = list(group6.loc[group6['PR'] == 'RP'].iloc[:,1:21].apply(lambda column: np.mean(column[:]), axis = 0))"
   ]
  },
  {
   "cell_type": "code",
   "execution_count": 88,
   "metadata": {},
   "outputs": [],
   "source": [
    "values6h = list(group6.loc[group6['PR'] == 'RR'].iloc[:,1:21].apply(lambda column: np.mean(column[:]), axis = 0))"
   ]
  },
  {
   "cell_type": "code",
   "execution_count": 89,
   "metadata": {},
   "outputs": [],
   "source": [
    "a8 = pd.DataFrame(values3h)\n",
    "a8['PR'] = 'PR'\n",
    "a8['distance (km)'] = titles"
   ]
  },
  {
   "cell_type": "code",
   "execution_count": 90,
   "metadata": {},
   "outputs": [],
   "source": [
    "b8 = pd.DataFrame(values4h)\n",
    "b8['PR'] = 'PP'\n",
    "b8['distance (km)'] = titles"
   ]
  },
  {
   "cell_type": "code",
   "execution_count": 91,
   "metadata": {},
   "outputs": [],
   "source": [
    "c8 = pd.DataFrame(values5h)\n",
    "c8['PR'] = 'RP'\n",
    "c8['distance (km)'] = titles"
   ]
  },
  {
   "cell_type": "code",
   "execution_count": 92,
   "metadata": {},
   "outputs": [],
   "source": [
    "e8 = pd.DataFrame(values6h)\n",
    "e8['PR'] = 'RR'\n",
    "e8['distance (km)'] = titles"
   ]
  },
  {
   "cell_type": "code",
   "execution_count": 93,
   "metadata": {},
   "outputs": [],
   "source": [
    "d8 = pd.concat([a8, b8, c8, e8])\n",
    "d8.columns = ['degree ratio', 'commute_type', 'distance (km)']"
   ]
  },
  {
   "cell_type": "code",
   "execution_count": 94,
   "metadata": {
    "scrolled": false
   },
   "outputs": [
    {
     "data": {
      "image/png": "[encoded data removed]",
      "text/plain": [
       "<Figure size 864x432 with 1 Axes>"
      ]
     },
     "metadata": {
      "needs_background": "light"
     },
     "output_type": "display_data"
    }
   ],
   "source": [
    "fig, ax = plt.subplots(1,1, figsize=(12, 6))\n",
    "sns.lineplot('distance (km)', 'degree ratio', hue = 'commute_type', style = 'commute_type', data= d8, dashes=False, ax = ax, markers=True)\n",
    "#plt.savefig('../figures/PR_plot_w.jpg')"
   ]
  },
  {
   "cell_type": "markdown",
   "metadata": {},
   "source": [
    "If we break down the ties around work by commute type (e.g. PR = from poor tract to rich), we can see that those people who live in rich tract, but commute to poor make the most of their ties around their workplace and the gravitation rule is strong in their case, while those who both live and work in rich tracts also make a significant ratio. For those living and working in poor tracts, the gravitation rule is very weak. For those commuting from a poor tract to a rich tract, the ratio of the ties directly around the workplace is the lowest, there is an upswing right afterwards however, but then the gravitation rule applies to them as well."
   ]
  },
  {
   "cell_type": "markdown",
   "metadata": {},
   "source": [
    "### Income at home - HOME ties"
   ]
  },
  {
   "cell_type": "code",
   "execution_count": 95,
   "metadata": {},
   "outputs": [],
   "source": [
    "table11cb = table11b[['user_id', 'deg_r_0.5','deg_r_1', 'deg_r_1.5', 'deg_r_2', 'deg_r_2.5', 'deg_r_3', 'deg_r_3.5', 'deg_r_4', 'deg_r_4.5', 'deg_r_5', 'deg_r_5.5','deg_r_6', 'deg_r_6.5','deg_r_7', 'deg_r_7.5','deg_r_8', 'deg_r_8.5','deg_r_9', 'deg_r_9.5','deg_r_10']]"
   ]
  },
  {
   "cell_type": "code",
   "execution_count": 96,
   "metadata": {},
   "outputs": [],
   "source": [
    "group2 = pd.merge(table11cb, tabmer2_all[['user_id', 'income_group_h_3', 'income_group_w_3']], 'left', on = 'user_id')"
   ]
  },
  {
   "cell_type": "code",
   "execution_count": 97,
   "metadata": {},
   "outputs": [],
   "source": [
    "group2 = group2.dropna()"
   ]
  },
  {
   "cell_type": "code",
   "execution_count": 98,
   "metadata": {
    "scrolled": true
   },
   "outputs": [],
   "source": [
    "values3d = list(group2.loc[group2['income_group_h_3'] == 'rich'].iloc[:,1:21].apply(lambda column: np.mean(column[:]), axis = 0))"
   ]
  },
  {
   "cell_type": "code",
   "execution_count": 99,
   "metadata": {
    "scrolled": true
   },
   "outputs": [],
   "source": [
    "values4d = list(group2.loc[group2['income_group_h_3'] == 'poor'].iloc[:,1:21].apply(lambda column: np.mean(column[:]), axis = 0))"
   ]
  },
  {
   "cell_type": "code",
   "execution_count": 100,
   "metadata": {
    "scrolled": true
   },
   "outputs": [],
   "source": [
    "values5d = list(group2.loc[group2['income_group_h_3'] == 'in_between'].iloc[:,1:21].apply(lambda column: np.mean(column[:]), axis = 0))"
   ]
  },
  {
   "cell_type": "code",
   "execution_count": 101,
   "metadata": {},
   "outputs": [],
   "source": [
    "a4 = pd.DataFrame(values3d)\n",
    "a4['income_group'] = 'rich'\n",
    "a4['distance (km)'] = titles"
   ]
  },
  {
   "cell_type": "code",
   "execution_count": 102,
   "metadata": {},
   "outputs": [],
   "source": [
    "b4 = pd.DataFrame(values4d)\n",
    "b4['income_group'] = 'poor'\n",
    "b4['distance (km)'] = titles"
   ]
  },
  {
   "cell_type": "code",
   "execution_count": 103,
   "metadata": {},
   "outputs": [],
   "source": [
    "c4 = pd.DataFrame(values5d)\n",
    "c4['income_group'] = 'in_between'\n",
    "c4['distance (km)'] = titles"
   ]
  },
  {
   "cell_type": "code",
   "execution_count": 104,
   "metadata": {},
   "outputs": [],
   "source": [
    "d4 = pd.concat([a4,b4,c4])\n",
    "d4.columns = ['degree ratio', 'income_group', 'distance (km)']"
   ]
  },
  {
   "cell_type": "code",
   "execution_count": 105,
   "metadata": {
    "scrolled": false
   },
   "outputs": [
    {
     "data": {
      "image/png": "[encoded data removed]",
      "text/plain": [
       "<Figure size 864x432 with 1 Axes>"
      ]
     },
     "metadata": {
      "needs_background": "light"
     },
     "output_type": "display_data"
    }
   ],
   "source": [
    "fig, ax = plt.subplots(1,1, figsize=(12, 6))\n",
    "sns.lineplot('distance (km)', 'degree ratio', hue = 'income_group', style = 'income_group', data = d4, dashes=False, ax = ax, markers=True)\n",
    "#plt.savefig('../figures/gravitation_inc_h.jpg')"
   ]
  },
  {
   "cell_type": "code",
   "execution_count": 106,
   "metadata": {},
   "outputs": [],
   "source": [
    "d42 = pd.concat([a4,b4])\n",
    "d42.columns = ['degree ratio', 'income_group', 'distance (km)']"
   ]
  },
  {
   "cell_type": "code",
   "execution_count": 157,
   "metadata": {
    "scrolled": false
   },
   "outputs": [
    {
     "data": {
      "image/png": "[encoded data removed]",
      "text/plain": [
       "<Figure size 864x432 with 1 Axes>"
      ]
     },
     "metadata": {
      "needs_background": "light"
     },
     "output_type": "display_data"
    }
   ],
   "source": [
    "#parameters of chart\n",
    "fig, ax = plt.subplots(1,1, figsize=(12, 6))\n",
    "\n",
    "#set color\n",
    "colorsList = [(1.0, 0.0, 0.0,0.5),(0.0, 0.0, 1.0,0.5)]\n",
    "\n",
    "#create lineplot\n",
    "sns.lineplot('distance (km)', 'degree ratio', hue = 'income_group', style = 'income_group', palette = colorsList, data = d42, dashes=False, ax = ax, markers=[\"^\", \"^\"], markersize = 10)\n",
    "\n",
    "#customize labels and legends\n",
    "handles, labels = ax.get_legend_handles_labels()\n",
    "ax.legend(handles=handles[1:], labels=['rich', 'poor'], fontsize = 20)\n",
    "ax.set(xlabel='Distance (km)', ylabel='Degree ratio')\n",
    "ax.xaxis.label.set_fontsize(20)\n",
    "ax.yaxis.label.set_fontsize(20)\n",
    "ax.yaxis.set_major_formatter(mtick.PercentFormatter(1, decimals = 1))\n",
    "ax.tick_params(axis='both', which='major', labelsize=15)\n",
    "ax.xaxis.set_major_locator(ticker.MultipleLocator(0.5))\n",
    "leg = ax.get_legend()\n",
    "leg.get_texts()[0].set_text('Rich users')\n",
    "leg.get_texts()[1].set_text('Poor users')\n",
    "\n",
    "#save chart\n",
    "plt.savefig('../figures/gravitation_inc_h2.jpg')"
   ]
  },
  {
   "cell_type": "markdown",
   "metadata": {},
   "source": [
    "If we break down the ties arund home by income groups, we can see that those living in poor tracts develop much more of their ties close to their homes than the richer people, and the gravitation rule is stronger for them too. For richer people, the ratio of their ties is basically constant as we get further from their homes. It is also interesting that there is a little upswing at the beginning for poor people, which can be explained by the fact that those ties are made in the pastry shop, school etc. which are close to home, but are not made in the direct neighborhood, but a little bit farther."
   ]
  },
  {
   "cell_type": "markdown",
   "metadata": {},
   "source": [
    "Cumulative degree ratio"
   ]
  },
  {
   "cell_type": "code",
   "execution_count": 110,
   "metadata": {},
   "outputs": [],
   "source": [
    "table11b2c = table11b2[['user_id','deg_r_0.5','deg_r_1', 'deg_r_1.5', 'deg_r_2', 'deg_r_2.5', 'deg_r_3', 'deg_r_3.5', 'deg_r_4', 'deg_r_4.5', 'deg_r_5', 'deg_r_5.5','deg_r_6', 'deg_r_6.5','deg_r_7', 'deg_r_7.5','deg_r_8', 'deg_r_8.5','deg_r_9', 'deg_r_9.5','deg_r_10']]"
   ]
  },
  {
   "cell_type": "code",
   "execution_count": 111,
   "metadata": {},
   "outputs": [],
   "source": [
    "groupc = pd.merge(table11b2c, tabmer2_all[['user_id', 'income_group_h_3', 'income_group_w_3', 'income_group_h_10', 'income_group_w_10']], 'left', on = 'user_id')"
   ]
  },
  {
   "cell_type": "code",
   "execution_count": 112,
   "metadata": {},
   "outputs": [],
   "source": [
    "groupc = groupc.dropna()"
   ]
  },
  {
   "cell_type": "code",
   "execution_count": 113,
   "metadata": {
    "scrolled": true
   },
   "outputs": [],
   "source": [
    "valuesc3c = list(groupc.loc[groupc['income_group_h_3'] == 'rich'].iloc[:,1:21].apply(lambda column: np.mean(column[:]), axis = 0))"
   ]
  },
  {
   "cell_type": "code",
   "execution_count": 114,
   "metadata": {
    "scrolled": true
   },
   "outputs": [],
   "source": [
    "valuesc4c = list(groupc.loc[groupc['income_group_h_3'] == 'poor'].iloc[:,1:21].apply(lambda column: np.mean(column[:]), axis = 0))"
   ]
  },
  {
   "cell_type": "code",
   "execution_count": 115,
   "metadata": {},
   "outputs": [
    {
     "data": {
      "text/plain": [
       "[0.03379956282544048,\n",
       " 0.07570363696875687,\n",
       " 0.11734456803968615,\n",
       " 0.15804581075843474,\n",
       " 0.1958134501772532,\n",
       " 0.23436466197836783,\n",
       " 0.27383991287838916,\n",
       " 0.30862348051782584,\n",
       " 0.3414995010050726,\n",
       " 0.37130641913715895,\n",
       " 0.3981761014751608,\n",
       " 0.4220145004622918,\n",
       " 0.4445269995592464,\n",
       " 0.4672044861196739,\n",
       " 0.4888182131251786,\n",
       " 0.5071175953259458,\n",
       " 0.5238577172030833,\n",
       " 0.5371108449591686,\n",
       " 0.5523245770299375,\n",
       " 0.5665326831310072]"
      ]
     },
     "execution_count": 115,
     "metadata": {},
     "output_type": "execute_result"
    }
   ],
   "source": [
    "valuesc4c"
   ]
  },
  {
   "cell_type": "markdown",
   "metadata": {},
   "source": [
    "### Ratio of people with bachelor degree - HOME ties"
   ]
  },
  {
   "cell_type": "code",
   "execution_count": 116,
   "metadata": {},
   "outputs": [],
   "source": [
    "group3 = pd.merge(table11cb, tabmer2_all[['user_id', 'educ_group_h_3', 'educ_group_w_3']], 'left', on = 'user_id')"
   ]
  },
  {
   "cell_type": "code",
   "execution_count": 117,
   "metadata": {},
   "outputs": [],
   "source": [
    "group3 = group3.dropna()"
   ]
  },
  {
   "cell_type": "code",
   "execution_count": 118,
   "metadata": {
    "scrolled": true
   },
   "outputs": [],
   "source": [
    "values3e = list(group3.loc[group3['educ_group_w_3'] == 'well_educated'].iloc[:,1:21].apply(lambda column: np.mean(column[:]), axis = 0))"
   ]
  },
  {
   "cell_type": "code",
   "execution_count": 119,
   "metadata": {
    "scrolled": true
   },
   "outputs": [],
   "source": [
    "values4e = list(group3.loc[group3['educ_group_w_3'] == 'poorly_educated'].iloc[:,1:21].apply(lambda column: np.mean(column[:]), axis = 0))"
   ]
  },
  {
   "cell_type": "code",
   "execution_count": 120,
   "metadata": {
    "scrolled": true
   },
   "outputs": [],
   "source": [
    "values5e = list(group3.loc[group3['educ_group_w_3'] == 'in_between_educated'].iloc[:,1:21].apply(lambda column: np.mean(column[:]), axis = 0))"
   ]
  },
  {
   "cell_type": "code",
   "execution_count": 121,
   "metadata": {},
   "outputs": [],
   "source": [
    "a5 = pd.DataFrame(values3e)\n",
    "a5['educ_group_w_3'] = 'well_educated'\n",
    "a5['distance (km)'] = titles"
   ]
  },
  {
   "cell_type": "code",
   "execution_count": 122,
   "metadata": {},
   "outputs": [],
   "source": [
    "b5 = pd.DataFrame(values4e)\n",
    "b5['educ_group_w_3'] = 'poorly_educated'\n",
    "b5['distance (km)'] = titles"
   ]
  },
  {
   "cell_type": "code",
   "execution_count": 123,
   "metadata": {},
   "outputs": [],
   "source": [
    "c5 = pd.DataFrame(values5e)\n",
    "c5['educ_group_w_3'] = 'in_between_educated'\n",
    "c5['distance (km)'] = titles"
   ]
  },
  {
   "cell_type": "code",
   "execution_count": 124,
   "metadata": {},
   "outputs": [],
   "source": [
    "d5 = pd.concat([a5, b5, c5])\n",
    "d5.columns = ['degree ratio', 'educated_group', 'distance (km)']"
   ]
  },
  {
   "cell_type": "code",
   "execution_count": 125,
   "metadata": {
    "scrolled": false
   },
   "outputs": [
    {
     "data": {
      "image/png": "[encoded data removed]",
      "text/plain": [
       "<Figure size 864x432 with 1 Axes>"
      ]
     },
     "metadata": {
      "needs_background": "light"
     },
     "output_type": "display_data"
    }
   ],
   "source": [
    "fig, ax = plt.subplots(1,1, figsize=(12, 6))\n",
    "sns.lineplot('distance (km)', 'degree ratio', hue = 'educated_group', style = 'educated_group', data= d5, dashes=False, ax = ax, markers=True)\n",
    "#plt.savefig('../figures/gravitation_educ_w.jpg')"
   ]
  },
  {
   "cell_type": "code",
   "execution_count": 126,
   "metadata": {},
   "outputs": [],
   "source": [
    "d52 = pd.concat([a5, b5])\n",
    "d52.columns = ['degree ratio', 'educated_group', 'distance (km)']"
   ]
  },
  {
   "cell_type": "code",
   "execution_count": 127,
   "metadata": {
    "scrolled": false
   },
   "outputs": [
    {
     "data": {
      "image/png": "[encoded data removed]",
      "text/plain": [
       "<Figure size 864x432 with 1 Axes>"
      ]
     },
     "metadata": {
      "needs_background": "light"
     },
     "output_type": "display_data"
    }
   ],
   "source": [
    "fig, ax = plt.subplots(1,1, figsize=(12, 6))\n",
    "sns.lineplot('distance (km)', 'degree ratio', hue = 'educated_group', style = 'educated_group', data= d52, dashes=False, ax = ax, markers=True)\n",
    "#plt.savefig('../figures/gravitation_educ_w2.jpg')"
   ]
  },
  {
   "cell_type": "markdown",
   "metadata": {},
   "source": [
    "If we break down the ties arund home by educated groups, we can see that those working in poorly educated neighborhoods, defined as the ratio of the bachelor degree holders to the population of the tract being below the 30th percentile make more friends close to their homes, though the effect seems to be smaller than it was in the income case."
   ]
  },
  {
   "cell_type": "markdown",
   "metadata": {},
   "source": [
    "### PR people - HOME ties"
   ]
  },
  {
   "cell_type": "code",
   "execution_count": 128,
   "metadata": {},
   "outputs": [],
   "source": [
    "group5 = pd.merge(table11cb, tabmer2_all[['user_id', 'PR']], 'left', on = 'user_id')"
   ]
  },
  {
   "cell_type": "code",
   "execution_count": 129,
   "metadata": {},
   "outputs": [],
   "source": [
    "group5 = group5.dropna()"
   ]
  },
  {
   "cell_type": "code",
   "execution_count": 130,
   "metadata": {
    "scrolled": true
   },
   "outputs": [],
   "source": [
    "values3g = list(group5.loc[group5['PR'] == 'PR'].iloc[:,1:21].apply(lambda column: np.mean(column[:]), axis = 0))"
   ]
  },
  {
   "cell_type": "code",
   "execution_count": 131,
   "metadata": {
    "scrolled": true
   },
   "outputs": [],
   "source": [
    "values4g = list(group5.loc[group5['PR'] == 'PP'].iloc[:,1:21].apply(lambda column: np.mean(column[:]), axis = 0))"
   ]
  },
  {
   "cell_type": "code",
   "execution_count": 132,
   "metadata": {
    "scrolled": true
   },
   "outputs": [],
   "source": [
    "values5g = list(group5.loc[group5['PR'] == 'RP'].iloc[:,1:21].apply(lambda column: np.mean(column[:]), axis = 0))"
   ]
  },
  {
   "cell_type": "code",
   "execution_count": 133,
   "metadata": {},
   "outputs": [],
   "source": [
    "values6g = list(group5.loc[group5['PR'] == 'RR'].iloc[:,1:21].apply(lambda column: np.mean(column[:]), axis = 0))"
   ]
  },
  {
   "cell_type": "code",
   "execution_count": 134,
   "metadata": {},
   "outputs": [],
   "source": [
    "a7 = pd.DataFrame(values3g)\n",
    "a7['PR'] = 'PR'\n",
    "a7['distance (km)'] = titles"
   ]
  },
  {
   "cell_type": "code",
   "execution_count": 135,
   "metadata": {},
   "outputs": [],
   "source": [
    "b7 = pd.DataFrame(values4g)\n",
    "b7['PR'] = 'PP'\n",
    "b7['distance (km)'] = titles"
   ]
  },
  {
   "cell_type": "code",
   "execution_count": 136,
   "metadata": {},
   "outputs": [],
   "source": [
    "c7 = pd.DataFrame(values5g)\n",
    "c7['PR'] = 'RP'\n",
    "c7['distance (km)'] = titles"
   ]
  },
  {
   "cell_type": "code",
   "execution_count": 137,
   "metadata": {},
   "outputs": [],
   "source": [
    "e7 = pd.DataFrame(values6g)\n",
    "e7['PR'] = 'RR'\n",
    "e7['distance (km)'] = titles"
   ]
  },
  {
   "cell_type": "code",
   "execution_count": 138,
   "metadata": {},
   "outputs": [],
   "source": [
    "d7 = pd.concat([a7, b7, c7, e7])\n",
    "d7.columns = ['degree ratio', 'commute_type', 'distance (km)']"
   ]
  },
  {
   "cell_type": "code",
   "execution_count": 139,
   "metadata": {
    "scrolled": false
   },
   "outputs": [
    {
     "data": {
      "image/png": "[encoded data removed]",
      "text/plain": [
       "<Figure size 864x432 with 1 Axes>"
      ]
     },
     "metadata": {
      "needs_background": "light"
     },
     "output_type": "display_data"
    }
   ],
   "source": [
    "fig, ax = plt.subplots(1,1, figsize=(12, 6))\n",
    "sns.lineplot('distance (km)', 'degree ratio', hue = 'commute_type', style = 'commute_type', data= d7, dashes=False, ax = ax, markers=True)\n",
    "#plt.savefig('../figures/PR_plot_h.jpg')"
   ]
  },
  {
   "cell_type": "markdown",
   "metadata": {},
   "source": [
    "If we break down the ties around home by commute type (e.g. PR = from poor tract to rich), we can see that the highest ratio is for those living and working in poor tracts and the gravitation rule is pretty weak for them, also there is an upstring at the beginning. For those living in poor tract, but working in rich, they also make more of their ties around home, but the gravitation rule is stronger for them. For those living and working in rich tracts, the gravitation rule does not apply basically, they make as much of their ties close as far basically. For thise living in rich tracts, but working in poor, distance also does not seem to matter much, they make more of ther friends  in the direct neighborhood than a bit farther away."
   ]
  }
 ],
 "metadata": {
  "kernelspec": {
   "display_name": "Python 3",
   "language": "python",
   "name": "python3"
  },
  "language_info": {
   "codemirror_mode": {
    "name": "ipython",
    "version": 3
   },
   "file_extension": ".py",
   "mimetype": "text/x-python",
   "name": "python",
   "nbconvert_exporter": "python",
   "pygments_lexer": "ipython3",
   "version": "3.8.5"
  }
 },
 "nbformat": 4,
 "nbformat_minor": 2
}

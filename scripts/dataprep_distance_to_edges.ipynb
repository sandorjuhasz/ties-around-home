{
 "cells": [
  {
   "source": [
    "# edgelist w/ home-home distance\n",
    "data preparation for top 50 US metros"
   ],
   "cell_type": "markdown",
   "metadata": {}
  },
  {
   "cell_type": "code",
   "execution_count": 1,
   "metadata": {},
   "outputs": [],
   "source": [
    "%matplotlib inline\n",
    "import pandas as pd\n",
    "import numpy as np\n",
    "import seaborn as sns\n",
    "\n",
    "import matplotlib.pyplot as plt\n",
    "%matplotlib inline\n",
    "import matplotlib.gridspec as gridspec\n",
    "\n",
    "import geopandas as gpd\n",
    "import shapely\n",
    "from shapely.geometry import Point,Polygon,LineString\n",
    "\n",
    "import json\n",
    "import time\n",
    "from copy import deepcopy"
   ]
  },
  {
   "cell_type": "code",
   "execution_count": 11,
   "metadata": {},
   "outputs": [],
   "source": [
    "# follower network -- data\n",
    "edgelist = pd.read_csv('../data/usageousers_city_follower_networks.rpt.gz')\n",
    "\n",
    "# read in data about individuals -- data2\n",
    "userinfo = pd.read_csv('../data/usageousers_data_export_with_tract_geoid_top50.csv.gz', index_col=0)\n",
    "user_geo = userinfo.loc[:,[\"user_id\", \"lat_home\", \"lon_home\", \"lat_work\", \"lon_work\"]]"
   ]
  },
  {
   "cell_type": "raw",
   "metadata": {},
   "source": [
    "# remove bots\n",
    "bot_flags = json.load(open(\"../data/bot_flags.json\"))\n",
    "userdata['drop'] = userdata['user_id'].map(int).map(str).map(bot_flags)\n",
    "userdata = userdata[userdata['drop']==0]"
   ]
  },
  {
   "cell_type": "code",
   "execution_count": 12,
   "metadata": {},
   "outputs": [],
   "source": [
    "# edgelist with geoinfo\n",
    "edgelist = pd.merge(pd.merge(edgelist, user_geo, left_on=\"user_id1\", right_on=\"user_id\", how=\"left\"),\\\n",
    "               user_geo, left_on=\"user_id2\", right_on=\"user_id\", how=\"left\", suffixes=(\"1\", \"2\"))\n",
    "\n",
    "# remove duplicate columns\n",
    "edgelist = edgelist.loc[:,~edgelist.columns.duplicated()]"
   ]
  },
  {
   "cell_type": "code",
   "execution_count": 13,
   "metadata": {},
   "outputs": [
    {
     "name": "stderr",
     "output_type": "stream",
     "text": [
      "/usr/local/lib/python3.8/site-packages/pyproj/crs/crs.py:53: FutureWarning: '+init=<authority>:<code>' syntax is deprecated. '<authority>:<code>' is the preferred initialization method. When making the change, be mindful of axis order changes: https://pyproj4.github.io/pyproj/stable/gotchas.html#axis-order-changes-in-proj-6\n",
      "  return _prepare_from_string(\" \".join(pjargs))\n"
     ]
    },
    {
     "name": "stdout",
     "output_type": "stream",
     "text": [
      "--- 390.20663619041443 seconds ---\n"
     ]
    }
   ],
   "source": [
    "# DISTANCE - home-home part\n",
    "\n",
    "start_time = time.time()\n",
    "\n",
    "# geometry cols\n",
    "edgelist[\"geometry1\"] = edgelist.apply(lambda r: Point(r[\"lon_home1\"],r[\"lat_home1\"]), axis=1)\n",
    "edgelist[\"geometry2\"] = edgelist.apply(lambda r: Point(r[\"lon_home2\"],r[\"lat_home2\"]), axis=1)\n",
    "\n",
    "geo_edgelist = gpd.GeoDataFrame(edgelist)\n",
    "\n",
    "# change crs\n",
    "geo_edgelist = geo_edgelist.set_geometry('geometry2')\n",
    "geo_edgelist.crs = {'init': 'epsg:4326'}\n",
    "geo_edgelist = geo_edgelist.to_crs({'init': 'epsg:3857'})\n",
    "\n",
    "geo_edgelist = geo_edgelist.set_geometry('geometry1')\n",
    "geo_edgelist.crs = {'init': 'epsg:4326'}\n",
    "geo_edgelist = geo_edgelist.to_crs({'init': 'epsg:3857'})\n",
    "\n",
    "# set geometry\n",
    "geo_edgelist = geo_edgelist.set_geometry('geometry1')\n",
    "\n",
    "# home-home distance calculation\n",
    "geo_edgelist['dist_hh'] = geo_edgelist['geometry1'].distance(geo_edgelist['geometry2'])\n",
    "\n",
    "print(\"--- %s seconds ---\" % (time.time() - start_time))"
   ]
  },
  {
   "cell_type": "code",
   "execution_count": 5,
   "metadata": {},
   "outputs": [
    {
     "name": "stderr",
     "output_type": "stream",
     "text": [
      "/usr/local/lib/python3.8/site-packages/pyproj/crs/crs.py:53: FutureWarning: '+init=<authority>:<code>' syntax is deprecated. '<authority>:<code>' is the preferred initialization method. When making the change, be mindful of axis order changes: https://pyproj4.github.io/pyproj/stable/gotchas.html#axis-order-changes-in-proj-6\n",
      "  return _prepare_from_string(\" \".join(pjargs))\n"
     ]
    },
    {
     "name": "stdout",
     "output_type": "stream",
     "text": [
      "--- 428.23562598228455 seconds ---\n"
     ]
    }
   ],
   "source": [
    "# DISTANCE - work-work part\n",
    "\n",
    "start_time = time.time()\n",
    "\n",
    "# geometry cols\n",
    "edgelist[\"geometry1\"] = edgelist.apply(lambda r: Point(r[\"lon_work1\"],r[\"lat_work1\"]), axis=1)\n",
    "edgelist[\"geometry2\"] = edgelist.apply(lambda r: Point(r[\"lon_work2\"],r[\"lat_work2\"]), axis=1)\n",
    "\n",
    "geo_edgelist2 = gpd.GeoDataFrame(edgelist)\n",
    "\n",
    "# change crs\n",
    "geo_edgelist2 = geo_edgelist2.set_geometry('geometry2')\n",
    "geo_edgelist2.crs = {'init': 'epsg:4326'}\n",
    "geo_edgelist2 = geo_edgelist2.to_crs({'init': 'epsg:3857'})\n",
    "\n",
    "geo_edgelist2 = geo_edgelist2.set_geometry('geometry1')\n",
    "geo_edgelist2.crs = {'init': 'epsg:4326'}\n",
    "geo_edgelist2 = geo_edgelist2.to_crs({'init': 'epsg:3857'})\n",
    "\n",
    "# set geometry\n",
    "geo_edgelist2 = geo_edgelist2.set_geometry('geometry1')\n",
    "\n",
    "# home-home distance calculation\n",
    "geo_edgelist2['dist_ww'] = geo_edgelist2['geometry1'].distance(geo_edgelist2['geometry2'])\n",
    "\n",
    "print(\"--- %s seconds ---\" % (time.time() - start_time))"
   ]
  },
  {
   "cell_type": "code",
   "execution_count": 18,
   "metadata": {},
   "outputs": [],
   "source": [
    "# combine..\n",
    "temp = geo_edgelist2.loc[:,[\"cbsacode\", \"user_id1\", \"user_id2\", \"dist_ww\"]]\n",
    "geo_edgelist = pd.merge(geo_edgelist, temp, on=[\"cbsacode\", \"user_id1\", \"user_id2\"], how=\"left\")"
   ]
  },
  {
   "cell_type": "code",
   "execution_count": 22,
   "metadata": {},
   "outputs": [],
   "source": [
    "# at this point, save the data!!\n",
    "export = geo_edgelist.drop(columns=['geometry1', 'geometry2'])\n",
    "export.to_csv(\"../data/geo_edgelist_top50.csv.gz\", compression=\"gzip\", index=False)"
   ]
  }
 ],
 "metadata": {
  "kernelspec": {
   "display_name": "Python 3",
   "language": "python",
   "name": "python3"
  },
  "language_info": {
   "codemirror_mode": {
    "name": "ipython",
    "version": 3
   },
   "file_extension": ".py",
   "mimetype": "text/x-python",
   "name": "python",
   "nbconvert_exporter": "python",
   "pygments_lexer": "ipython3",
   "version": "3.9.1-final"
  }
 },
 "nbformat": 4,
 "nbformat_minor": 2
}
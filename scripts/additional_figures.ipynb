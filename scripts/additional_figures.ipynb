{
 "cells": [
  {
   "cell_type": "code",
   "execution_count": 1,
   "metadata": {},
   "outputs": [],
   "source": [
    "import pandas as pd\n",
    "import numpy as np\n",
    "import seaborn as sns\n",
    "import matplotlib.pyplot as plt\n",
    "from matplotlib.ticker import FormatStrFormatter\n",
    "from matplotlib.lines import Line2D\n",
    "from matplotlib.gridspec import GridSpec\n",
    "from matplotlib.patches import Patch\n",
    "\n",
    "import json\n",
    "import geopandas as gpd\n",
    "from copy import deepcopy\n",
    "import shapely\n",
    "from shapely.geometry import Point,Polygon,LineString\n",
    "import pyproj"
   ]
  },
  {
   "cell_type": "markdown",
   "metadata": {},
   "source": [
    "### map of the 50 metro areas"
   ]
  },
  {
   "cell_type": "code",
   "execution_count": 2,
   "metadata": {},
   "outputs": [],
   "source": [
    "# shape file for US metro areas\n",
    "metromap = gpd.read_file(\"../data/shapes/tl_2019_us_cbsa/tl_2019_us_cbsa.shp\")"
   ]
  },
  {
   "cell_type": "code",
   "execution_count": 3,
   "metadata": {},
   "outputs": [],
   "source": [
    "# manipulations\n",
    "metromap.set_geometry(\"geometry\",inplace=True)\n",
    "\n",
    "metromap[\"GEOID\"] = metromap[\"GEOID\"].astype(int)"
   ]
  },
  {
   "cell_type": "code",
   "execution_count": 4,
   "metadata": {},
   "outputs": [],
   "source": [
    "# cbsa info table\n",
    "cbsa_info = pd.read_csv(\"../data/cbsacode_shortname_tracts.csv\", sep=\";\", index_col=0)"
   ]
  },
  {
   "cell_type": "code",
   "execution_count": 5,
   "metadata": {},
   "outputs": [],
   "source": [
    "# manipulations\n",
    "cbsa_info = cbsa_info.loc[:,[\"cbsacode\", \"short_name\"]].drop_duplicates()\n",
    "cbsa_info[\"selected\"] = 1\n",
    "cbsa_info[\"color\"] = \"darkblue\""
   ]
  },
  {
   "cell_type": "code",
   "execution_count": 10,
   "metadata": {},
   "outputs": [],
   "source": [
    "# merge for plot\n",
    "metromap = pd.merge(metromap, cbsa_info, left_on=\"GEOID\", right_on=\"cbsacode\", how=\"left\")"
   ]
  },
  {
   "cell_type": "code",
   "execution_count": 11,
   "metadata": {},
   "outputs": [],
   "source": [
    "# correction on the final dataframe\n",
    "metromap[\"selected\"] = metromap[\"selected\"].fillna(0)\n",
    "metromap[\"color\"] = metromap[\"color\"].fillna(\"lightgray\")"
   ]
  },
  {
   "cell_type": "code",
   "execution_count": 12,
   "metadata": {},
   "outputs": [],
   "source": [
    "# shape file for US states\n",
    "usmap = gpd.read_file(\"../data/shapes/tl_2017_us_state/tl_2017_us_state.shp\")\n",
    "\n",
    "# manipulations\n",
    "usmap.set_geometry(\"geometry\",inplace=True)"
   ]
  },
  {
   "cell_type": "markdown",
   "metadata": {},
   "source": [
    "### user numbers"
   ]
  },
  {
   "cell_type": "code",
   "execution_count": 89,
   "metadata": {},
   "outputs": [],
   "source": [
    "# data IN -- edges are present both ways\n",
    "geo_edgelist = pd.read_csv(\"../data/geo_edgelist_top50.csv.gz\")\n",
    "\n",
    "# degree\n",
    "degree_tab = geo_edgelist.groupby(\"user_id1\")[\"user_id2\"].count().reset_index()\n",
    "degree_tab.columns = [\"user_id\", \"degree\"]\n",
    "\n",
    "# remove users with less than 10 ties (!!!) AND replace NANs\n",
    "degree_tab = degree_tab[degree_tab[\"degree\"]>=10] \n",
    "degree_tab = degree_tab.fillna(0)\n",
    "\n",
    "# user and cbsa\n",
    "users = geo_edgelist[[\"cbsacode\", \"user_id1\"]].drop_duplicates()\n",
    "\n",
    "# merge\n",
    "degree_tab = pd.merge(degree_tab, users, left_on=\"user_id\", right_on=\"user_id1\", how=\"left\")\n",
    "\n",
    "# user count per cbsa\n",
    "users_cbsa = degree_tab.groupby(\"cbsacode\")[\"user_id\"].count().reset_index()"
   ]
  },
  {
   "cell_type": "code",
   "execution_count": 90,
   "metadata": {},
   "outputs": [],
   "source": [
    "# METRODATA\n",
    "\n",
    "metrodata = pd.read_csv('../data/cbsa-est2018-alldata.csv', encoding = \"ISO-8859-1\")\n",
    "metrodata = metrodata.drop_duplicates(subset=[\"CBSA\"])\n",
    "\n",
    "# keep relevant cbsacodes ONLY - sort by 2010 population\n",
    "metrodata = metrodata.set_index(\"CBSA\").loc[users_cbsa[\"cbsacode\"].unique()].reset_index().sort_values(by=\"CENSUS2010POP\",ascending=False)\n",
    "metrodata = metrodata.reset_index().reset_index()[[\"level_0\",\"CBSA\",\"NAME\",\"CENSUS2010POP\"]]\n",
    "metrodata.rename({\"level_0\":\"rank\",\"CBSA\":\"cbsacode\",\"NAME\":\"name\",\"CENSUS2010POP\":\"population\"},axis=1,inplace=True)\n",
    "\n",
    "# create short name for CBSAs\n",
    "metrodata[\"short_name\"] = metrodata[\"name\"].map(lambda s: s.split(\"-\")[0].split(\",\")[0])\n",
    "\n",
    "metrodata.loc[metrodata.short_name == \"Louisville/Jefferson County\", \"short_name\"] = \"Louisville\"\n",
    "\n",
    "# merge user counts\n",
    "metrodata = pd.merge(users_cbsa, metrodata, on=\"cbsacode\")\n",
    "metrodata = metrodata.sort_values(by=['rank'])"
   ]
  },
  {
   "cell_type": "code",
   "execution_count": null,
   "metadata": {},
   "outputs": [],
   "source": [
    "### combination\n",
    "\n",
    "# general\n",
    "import matplotlib.patches as mpatches\n",
    "plt.rcParams['font.size']=16\n",
    "plt.rc('legend',fontsize=22)\n",
    "fig, ax = plt.subplots(2,1, figsize = (15,15), constrained_layout=True)\n",
    "\n",
    "\n",
    "# MAP\n",
    "usmap.plot(ax=ax[0], color=\"white\", edgecolor='dimgray')\n",
    "metromap.plot(ax=ax[0], column=\"selected\", color=metromap[\"color\"], edgecolor='dimgray')\n",
    "ax[0].set_xlim([-127,-66])\n",
    "ax[0].set_ylim([24,50])\n",
    "ax[0].axis('off')\n",
    "\n",
    "top50metro = mpatches.Patch(color='darkblue', label='Top 50 metro areas')\n",
    "allmetro = mpatches.Patch(color='lightgray', label='Metro areas')\n",
    "ax[0].legend(handles=[top50metro, allmetro], loc='lower left')\n",
    "\n",
    "\n",
    "# distribution\n",
    "ax[1].bar(metrodata[\"short_name\"], metrodata[\"user_id\"], color=\"darkblue\")\n",
    "ax[1].set_xticklabels(labels=\"\", rotation=90)\n",
    "ax[1].grid()\n",
    "# ax[1].semilogy()\n",
    "ax[1].set_xticklabels(labels=metrodata['short_name'], rotation=90)\n",
    "ax[1].set_ylabel(\"Observed users\", size=22)\n",
    "\n",
    "plt.show()\n",
    "# plt.savefig('../fig/map_users_top50.png', dpi=300, bbox_inches='tight')"
   ]
  },
  {
   "cell_type": "markdown",
   "metadata": {},
   "source": [
    "### data representativity -- users / population"
   ]
  },
  {
   "cell_type": "code",
   "execution_count": 9,
   "metadata": {},
   "outputs": [],
   "source": [
    "# data IN -- edges are present both ways\n",
    "geo_edgelist = pd.read_csv(\"../data/original_files/geo_edgelist_top50.csv.gz\")\n",
    "\n",
    "# degree\n",
    "degree_tab = geo_edgelist.groupby(\"user_id1\")[\"user_id2\"].count().reset_index()\n",
    "degree_tab.columns = [\"user_id\", \"degree\"]\n",
    "\n",
    "# remove users with less than 10 ties (!!!) AND replace NANs\n",
    "degree_tab = degree_tab[degree_tab[\"degree\"]>=10] \n",
    "degree_tab = degree_tab.fillna(0)\n",
    "\n",
    "# user and cbsa\n",
    "users = geo_edgelist[[\"cbsacode\", \"user_id1\"]].drop_duplicates()\n",
    "\n",
    "# merge\n",
    "degree_tab = pd.merge(degree_tab, users, left_on=\"user_id\", right_on=\"user_id1\", how=\"left\")\n",
    "\n",
    "# user count per cbsa\n",
    "user_df = degree_tab.groupby(\"cbsacode\")[\"user_id\"].count().reset_index()\n",
    "user_df.columns = [\"cbsacode\", \"nr_users\"]"
   ]
  },
  {
   "cell_type": "code",
   "execution_count": 10,
   "metadata": {},
   "outputs": [],
   "source": [
    "# add observed users to metrodata\n",
    "metrodata = pd.read_csv('../data/original_files/cbsa-est2018-alldata.csv', encoding = \"ISO-8859-1\")\n",
    "metrodata = metrodata.drop_duplicates(subset=[\"CBSA\"])\n",
    "\n",
    "# keep relevant cbsacodes ONLY - sort by 2010 population\n",
    "metrodata = metrodata.set_index(\"CBSA\").loc[user_df[\"cbsacode\"].unique()].reset_index().sort_values(by=\"CENSUS2010POP\",ascending=False)\n",
    "metrodata = metrodata.reset_index().reset_index()[[\"level_0\",\"CBSA\",\"NAME\",\"CENSUS2010POP\"]]\n",
    "metrodata.rename({\"level_0\":\"rank\",\"CBSA\":\"cbsacode\",\"NAME\":\"name\",\"CENSUS2010POP\":\"population\"},axis=1,inplace=True)\n",
    "\n",
    "# create short name for CBSAs\n",
    "metrodata[\"short_name\"] = metrodata[\"name\"].map(lambda s: s.split(\"-\")[0].split(\",\")[0])\n",
    "\n",
    "metrodata.loc[metrodata.short_name == \"Louisville/Jefferson County\", \"short_name\"] = \"Louisville\"\n",
    "\n",
    "metrodata.set_index(\"cbsacode\",inplace=True)\n",
    "metrodata = metrodata.reset_index()\n",
    "\n",
    "# user counts\n",
    "metrodata = pd.merge(metrodata, user_df, on=\"cbsacode\", how=\"left\")"
   ]
  },
  {
   "cell_type": "code",
   "execution_count": 13,
   "metadata": {},
   "outputs": [
    {
     "data": {
      "image/png": "[encoded data removed]",
      "text/plain": [
       "<Figure size 432x360 with 1 Axes>"
      ]
     },
     "metadata": {
      "needs_background": "light"
     },
     "output_type": "display_data"
    }
   ],
   "source": [
    "# SCATTER\n",
    "plt.rcParams['font.size']=18\n",
    "fig, ax = plt.subplots(figsize = (6,5))\n",
    "\n",
    "from sklearn.linear_model import LinearRegression\n",
    "from sklearn.metrics import r2_score\n",
    "\n",
    "X = (metrodata[\"population\"]).values.reshape(-1, 1) \n",
    "Y = (metrodata[\"nr_users\"]).values.reshape(-1, 1) \n",
    "linear_regressor = LinearRegression()  # create object for the class\n",
    "linear_regressor.fit(X, Y)  # perform linear regression\n",
    "Y_pred = linear_regressor.predict(X)  # make predictions\n",
    "\n",
    "plt.scatter(metrodata.population, metrodata.nr_users, s=120, color='grey', alpha=0.85)\n",
    "plt.plot(X, Y_pred, color='darkblue', linewidth=3)\n",
    "plt.xlabel(\"Population of metro areas\")\n",
    "plt.ylabel(\"Observed users\")\n",
    "plt.loglog()\n",
    "#plt.xlim([10**5.95, 10**7.3])\n",
    "#plt.ylim([10**2.95, 10**4.5])\n",
    "\n",
    "#slope = str(\"slope = \" + linear_regressor.coef_)\n",
    "plt.text(10**6.7, 10**2.5, (\"slope = \" + str(linear_regressor.coef_[0][0])[:7]), style='italic')\n",
    "plt.text(10**6.7, 10**2.25, (\"R2 = \" + str(r2_score(Y, Y_pred))[:5]), style='italic')\n",
    "\n",
    "plt.grid()\n",
    "plt.show()\n",
    "#plt.savefig('../fig/revision_SI_population_users.png',density=300,bbox_inches='tight')"
   ]
  },
  {
   "cell_type": "markdown",
   "metadata": {},
   "source": [
    "### data representativity -- income / BA"
   ]
  },
  {
   "cell_type": "code",
   "execution_count": 2,
   "metadata": {},
   "outputs": [],
   "source": [
    "# population in diff income deciles\n",
    "censusdata2012 = pd.read_csv(\"../data/original_files/censusdata_top50_2012.csv\")\n",
    "\n",
    "# function to create tract geoids\n",
    "def create_geoid(row):\n",
    "    state = str(int(row[\"state\"])).zfill(2)\n",
    "    county = str(int(row[\"county\"])).zfill(3)\n",
    "    tract = str(int(row[\"tract\"])).zfill(6)\n",
    "    return \"14000US\" +state+county+tract\n",
    "\n",
    "censusdata2012['geoid'] = censusdata2012.apply(create_geoid,axis=1)\n",
    "\n",
    "# keep interesting columns\n",
    "censusdata2012 = censusdata2012[['geoid', 'population', 'education_bachelor', 'income']]\n",
    "\n",
    "# cleaning\n",
    "censusdata2012 = censusdata2012[censusdata2012[\"income\"]>1500]\n",
    "censusdata2012[\"BA_share\"] = censusdata2012[\"education_bachelor\"] / censusdata2012[\"population\"]\n",
    "\n",
    "\n",
    "# add cbsacode to censusdata\n",
    "userdata = pd.read_csv('../data/original_files/usageousers_data_export_with_tract_geoid_top50.csv.gz', index_col=0)\n",
    "user_tract = userdata[[\"user_id\", \"tract_home\"]]\n",
    "\n",
    "temp1 = userdata[[\"cbsacode\", \"tract_home\"]].rename(columns={\"tract_home\":\"tract_id\"})\n",
    "temp2 = userdata[[\"cbsacode\", \"tract_work\"]].rename(columns={\"tract_work\":\"tract_id\"})\n",
    "temp = pd.concat([temp1, temp2]).drop_duplicates()\n",
    "censusdata2012 = pd.merge(censusdata2012, temp, left_on=\"geoid\", right_on=\"tract_id\", how=\"left\")"
   ]
  },
  {
   "cell_type": "code",
   "execution_count": 3,
   "metadata": {},
   "outputs": [
    {
     "name": "stdout",
     "output_type": "stream",
     "text": [
      "(86821, 2)\n",
      "(86821, 11)\n"
     ]
    }
   ],
   "source": [
    "# data IN -- edges are present both ways\n",
    "geo_edgelist = pd.read_csv(\"../data/original_files/geo_edgelist_top50.csv.gz\")\n",
    "\n",
    "# degree\n",
    "degree_tab = geo_edgelist.groupby(\"user_id1\")[\"user_id2\"].count().reset_index()\n",
    "degree_tab.columns = [\"user_id\", \"degree\"]\n",
    "\n",
    "# remove users with less than 10 ties (!!!) AND replace NANs\n",
    "degree_tab = degree_tab[degree_tab[\"degree\"]>=10] \n",
    "degree_tab = degree_tab.fillna(0)\n",
    "print(degree_tab.shape)\n",
    "\n",
    "# user and cbsa\n",
    "users = geo_edgelist[[\"cbsacode\", \"user_id1\"]].drop_duplicates()\n",
    "\n",
    "# add census info to users\n",
    "users = pd.merge(degree_tab, users, left_on=\"user_id\", right_on=\"user_id1\", how=\"left\")\n",
    "users = pd.merge(users, user_tract, on=\"user_id\", how=\"left\")\n",
    "users = pd.merge(users, censusdata2012, left_on=[\"tract_home\", \"cbsacode\"], right_on=[\"tract_id\", \"cbsacode\"], how=\"left\")\n",
    "print(users.shape)"
   ]
  },
  {
   "cell_type": "code",
   "execution_count": 9,
   "metadata": {},
   "outputs": [
    {
     "name": "stdout",
     "output_type": "stream",
     "text": [
      "(38492, 8)\n",
      "(86211, 12)\n"
     ]
    }
   ],
   "source": [
    "# log transfer\n",
    "censusdata2012[\"log_income\"] = np.log10(censusdata2012[\"income\"] +1)\n",
    "users[\"log_income\"] = np.log10(users[\"income\"] +1)\n",
    "users = users.dropna()\n",
    "\n",
    "print(censusdata2012.shape)\n",
    "print(users.shape)"
   ]
  },
  {
   "cell_type": "code",
   "execution_count": 5,
   "metadata": {},
   "outputs": [
    {
     "name": "stdout",
     "output_type": "stream",
     "text": [
      "(173139696, 3)\n",
      "(173139696, 3)\n"
     ]
    }
   ],
   "source": [
    "# not so elegant way to population weight the prepared plot\n",
    "multi = np.array(censusdata2012[\"population\"])\n",
    "\n",
    "x = censusdata2012[[\"tract_id\", \"log_income\"]].values\n",
    "census_multi_income = pd.DataFrame(np.repeat(x, multi, axis=0))\n",
    "census_multi_income.columns = [\"tract_id\", \"log_income\"]\n",
    "census_multi_income = pd.merge(census_multi_income, temp, on=\"tract_id\", how=\"left\")\n",
    "print(census_multi_income.shape)\n",
    "\n",
    "x2 = censusdata2012[[\"tract_id\", \"BA_share\"]].values\n",
    "census_multi_BA = pd.DataFrame(np.repeat(x2, multi, axis=0))\n",
    "census_multi_BA.columns = [\"tract_id\", \"BA_share\"]\n",
    "census_multi_BA = pd.merge(census_multi_BA, temp, on=\"tract_id\", how=\"left\")\n",
    "print(census_multi_BA.shape)"
   ]
  },
  {
   "cell_type": "code",
   "execution_count": null,
   "metadata": {},
   "outputs": [],
   "source": [
    "# plot construction -- 820sec..\n",
    "\n",
    "fig = plt.figure(figsize=(16,8), constrained_layout=True)\n",
    "plt.rcParams['font.size'] = 15\n",
    "\n",
    "ax = [0]*8\n",
    "gs = GridSpec(2,6,figure=fig, height_ratios = [0.5,0.5]) # height_ratios = [0.2,0.2,0.3,0.2]\n",
    "\n",
    "# grids\n",
    "ax[0] = fig.add_subplot(gs[0,0:3])\n",
    "ax[1] = fig.add_subplot(gs[0,3:6])\n",
    "ax[2] = fig.add_subplot(gs[1,0])\n",
    "ax[3] = fig.add_subplot(gs[1,1])\n",
    "ax[4] = fig.add_subplot(gs[1,2])\n",
    "ax[5] = fig.add_subplot(gs[1,3])\n",
    "ax[6] = fig.add_subplot(gs[1,4])\n",
    "ax[7] = fig.add_subplot(gs[1,5])\n",
    "\n",
    "\n",
    "# income -- all cbsas\n",
    "sns.distplot(census_multi_income['log_income'], hist=False, kde=True,  color = 'grey',  kde_kws={'shade': True, 'linewidth': 3}, ax=ax[0])\n",
    "sns.distplot(users['log_income'], hist=False, kde=True,  color = 'darkblue', kde_kws={'shade': True, 'linewidth': 3}, ax=ax[0])\n",
    "# ax[0].set_xlabel(\"Income (log10)\")\n",
    "ax[0].set_xlabel(\"Income (log10) in census tract\")\n",
    "ax[0].set_ylabel(\"Probability density\")\n",
    "\n",
    "# BA -- all cbsas\n",
    "sns.distplot(census_multi_BA['BA_share'], hist=False, kde=True,  color = 'grey',  kde_kws={'shade': True, 'linewidth': 3}, ax=ax[1])\n",
    "sns.distplot(users['BA_share'], hist=False, kde=True,  color = 'darkblue', kde_kws={'shade': True, 'linewidth': 3}, ax=ax[1])\n",
    "ax[1].set_xlabel(\"Share of BA holders\")\n",
    "ax[1].set_xlabel(\"Share of BA holders in census tract\")\n",
    "ax[1].set_ylabel(\"Probability density\")\n",
    "\n",
    "# Detroit 19820\n",
    "sns.distplot(census_multi_income[census_multi_income[\"cbsacode\"]==19820][\"log_income\"], hist=False, kde=True,  color = 'grey',  kde_kws={'shade': True, 'linewidth': 3}, ax=ax[2])\n",
    "sns.distplot(users[users[\"cbsacode\"]==19820]['log_income'], hist=False, kde=True,  color = 'darkblue', kde_kws={'shade': True, 'linewidth': 3}, ax=ax[2])\n",
    "ax[2].set_xlabel(\"Income (log10)\")\n",
    "ax[2].set_ylabel(\"Probability density\")\n",
    "ax[2].set_title(\"Detroit\")\n",
    "\n",
    "sns.distplot(census_multi_BA[census_multi_BA[\"cbsacode\"]==19820][\"BA_share\"], hist=False, kde=True,  color = 'grey',  kde_kws={'shade': True, 'linewidth': 3}, ax=ax[5])\n",
    "sns.distplot(users[users[\"cbsacode\"]==19820]['BA_share'], hist=False, kde=True,  color = 'darkblue', kde_kws={'shade': True, 'linewidth': 3}, ax=ax[5])\n",
    "ax[5].set_xlabel(\"Share of BA holders\")\n",
    "ax[5].set_ylabel(\"Probability density\")\n",
    "ax[5].set_title(\"Detroit\")\n",
    "\n",
    "# New York 35620\n",
    "sns.distplot(census_multi_income[census_multi_income[\"cbsacode\"]==35620][\"log_income\"], hist=False, kde=True,  color = 'grey',  kde_kws={'shade': True, 'linewidth': 3}, ax=ax[3])\n",
    "sns.distplot(users[users[\"cbsacode\"]==35620]['log_income'], hist=False, kde=True,  color = 'darkblue', kde_kws={'shade': True, 'linewidth': 3}, ax=ax[3])\n",
    "ax[3].set_xlabel(\"Income (log10)\")\n",
    "ax[3].set_ylabel(\"Probability density\")\n",
    "ax[3].set_title(\"New York\")\n",
    "\n",
    "sns.distplot(census_multi_BA[census_multi_BA[\"cbsacode\"]==35620][\"BA_share\"], hist=False, kde=True,  color = 'grey',  kde_kws={'shade': True, 'linewidth': 3}, ax=ax[6])\n",
    "sns.distplot(users[users[\"cbsacode\"]==35620]['BA_share'], hist=False, kde=True,  color = 'darkblue', kde_kws={'shade': True, 'linewidth': 3}, ax=ax[6])\n",
    "ax[6].set_xlabel(\"Share of BA holders\")\n",
    "ax[6].set_ylabel(\"Probability density\")\n",
    "ax[6].set_title(\"New York\")\n",
    "\n",
    "# Boston 14460\n",
    "sns.distplot(census_multi_income[census_multi_income[\"cbsacode\"]==14460][\"log_income\"], hist=False, kde=True,  color = 'grey',  kde_kws={'shade': True, 'linewidth': 3}, ax=ax[4])\n",
    "sns.distplot(users[users[\"cbsacode\"]==14460]['log_income'], hist=False, kde=True,  color = 'darkblue', kde_kws={'shade': True, 'linewidth': 3}, ax=ax[4])\n",
    "ax[4].set_xlabel(\"Income (log10)\")\n",
    "ax[4].set_ylabel(\"Probability density\")\n",
    "ax[4].set_title(\"Boston\")\n",
    "\n",
    "sns.distplot(census_multi_BA[census_multi_BA[\"cbsacode\"]==14460][\"BA_share\"], hist=False, kde=True,  color = 'grey',  kde_kws={'shade': True, 'linewidth': 3}, ax=ax[7])\n",
    "sns.distplot(users[users[\"cbsacode\"]==14460]['BA_share'], hist=False, kde=True,  color = 'darkblue', kde_kws={'shade': True, 'linewidth': 3}, ax=ax[7])\n",
    "ax[7].set_xlabel(\"Share of BA holders\")\n",
    "ax[7].set_ylabel(\"Probability density\")\n",
    "ax[7].set_title(\"Boston\")\n",
    "\n",
    "\n",
    "# legend\n",
    "custom_lines = [Line2D([0], [0], color='grey',  lw=8),Line2D([0], [0], color='darkblue', lw=8)]\n",
    "labels = [ 'Census data', 'Observed users']\n",
    "\n",
    "plt.figlegend(custom_lines, labels, loc='upper center',\n",
    "    bbox_to_anchor=(0.5, 1.05),\n",
    "    ncol=2, frameon=False, fontsize=15)\n",
    "\n",
    "\n",
    "#plt.show()\n",
    "plt.savefig('../fig/si_income_ba_repr.png',density=300,bbox_inches=\"tight\")\n",
    "# plt.savefig('../fig/si_income_ba_repr2.png',density=300,bbox_inches=\"tight\")"
   ]
  },
  {
   "cell_type": "code",
   "execution_count": 10,
   "metadata": {},
   "outputs": [
    {
     "name": "stderr",
     "output_type": "stream",
     "text": [
      "/usr/local/lib/python3.9/site-packages/seaborn/distributions.py:2557: FutureWarning: `distplot` is a deprecated function and will be removed in a future version. Please adapt your code to use either `displot` (a figure-level function with similar flexibility) or `kdeplot` (an axes-level function for kernel density plots).\n",
      "  warnings.warn(msg, FutureWarning)\n",
      "/usr/local/lib/python3.9/site-packages/seaborn/distributions.py:2557: FutureWarning: `distplot` is a deprecated function and will be removed in a future version. Please adapt your code to use either `displot` (a figure-level function with similar flexibility) or `kdeplot` (an axes-level function for kernel density plots).\n",
      "  warnings.warn(msg, FutureWarning)\n"
     ]
    },
    {
     "data": {
      "image/png": "[encoded data removed]",
      "text/plain": [
       "<Figure size 1152x576 with 8 Axes>"
      ]
     },
     "metadata": {
      "needs_background": "light"
     },
     "output_type": "display_data"
    }
   ],
   "source": [
    "# plot construction -- test\n",
    "\n",
    "fig = plt.figure(figsize=(16,8), constrained_layout=True)\n",
    "plt.rcParams['font.size'] = 15\n",
    "\n",
    "ax = [0]*8\n",
    "gs = GridSpec(2,6,figure=fig, height_ratios = [0.5,0.5]) # height_ratios = [0.2,0.2,0.3,0.2]\n",
    "\n",
    "# grids\n",
    "ax[0] = fig.add_subplot(gs[0,0:3])\n",
    "ax[1] = fig.add_subplot(gs[0,3:6])\n",
    "ax[2] = fig.add_subplot(gs[1,0])\n",
    "ax[3] = fig.add_subplot(gs[1,1])\n",
    "ax[4] = fig.add_subplot(gs[1,2])\n",
    "ax[5] = fig.add_subplot(gs[1,3])\n",
    "ax[6] = fig.add_subplot(gs[1,4])\n",
    "ax[7] = fig.add_subplot(gs[1,5])\n",
    "\n",
    "\n",
    "# income -- all cbsas\n",
    "sns.distplot(census_multi_income['log_income'], hist=False, kde=True,  color = 'grey', kde_kws={'shade': True, 'linewidth': 3}, ax=ax[0])\n",
    "sns.distplot(users['log_income'], hist=False, kde=True,  color = 'darkblue', kde_kws={'shade': True, 'linewidth': 3}, ax=ax[0])\n",
    "# ax[0].set_xlabel(\"Income (log10)\")\n",
    "ax[0].set_xlabel(\"Income (log10) in census tract\")\n",
    "ax[0].set_ylabel(\"Probability density\")\n",
    "\n",
    "\n",
    "\n",
    "# legend\n",
    "custom_lines = [Line2D([0], [0], color='grey',  lw=8),Line2D([0], [0], color='darkblue', lw=8)]\n",
    "labels = [ 'Census data', 'Observed users']\n",
    "\n",
    "plt.figlegend(custom_lines, labels, loc='upper center',\n",
    "    bbox_to_anchor=(0.5, 1.05),\n",
    "    ncol=2, frameon=False, fontsize=15)\n",
    "\n",
    "\n",
    "plt.show()\n",
    "# plt.savefig('../fig/si_income_ba_repr.png',density=300,bbox_inches=\"tight\")\n",
    "# plt.savefig('../fig/si_income_ba_repr2.png',density=300,bbox_inches=\"tight\")"
   ]
  },
  {
   "cell_type": "code",
   "execution_count": 9,
   "metadata": {},
   "outputs": [
    {
     "name": "stdout",
     "output_type": "stream",
     "text": [
      "(982459, 13)\n"
     ]
    }
   ],
   "source": [
    "# population in diff income deciles\n",
    "censusdata2012 = pd.read_csv(\"../data/original_files/censusdata_top50_2012.csv\")\n",
    "\n",
    "# function to create tract geoids\n",
    "def create_geoid(row):\n",
    "    state = str(int(row[\"state\"])).zfill(2)\n",
    "    county = str(int(row[\"county\"])).zfill(3)\n",
    "    tract = str(int(row[\"tract\"])).zfill(6)\n",
    "    return \"14000US\" +state+county+tract\n",
    "\n",
    "censusdata2012['geoid'] = censusdata2012.apply(create_geoid,axis=1)\n",
    "\n",
    "# keep interesting columns\n",
    "censusdata2012 = censusdata2012[['geoid', 'population', 'education_bachelor', 'income']]\n",
    "\n",
    "# cleaning\n",
    "censusdata2012 = censusdata2012[censusdata2012[\"income\"]>1500]\n",
    "censusdata2012[\"BA_share\"] = censusdata2012[\"education_bachelor\"] / censusdata2012[\"population\"]\n",
    "\n",
    "\n",
    "# add cbsacode to censusdata\n",
    "userdata = pd.read_csv('../data/original_files/usageousers_data_export_with_tract_geoid_top50.csv.gz', index_col=0)\n",
    "print(userdata.shape)\n",
    "temp1 = userdata[[\"cbsacode\", \"tract_home\"]].rename(columns={\"tract_home\":\"tract_id\"})\n",
    "temp2 = userdata[[\"cbsacode\", \"tract_work\"]].rename(columns={\"tract_work\":\"tract_id\"})\n",
    "temp = pd.concat([temp1, temp2]).drop_duplicates()\n",
    "censusdata2012 = pd.merge(censusdata2012, temp, left_on=\"geoid\", right_on=\"tract_id\", how=\"left\")\n"
   ]
  },
  {
   "cell_type": "code",
   "execution_count": 10,
   "metadata": {},
   "outputs": [
    {
     "data": {
      "text/html": [
       "<div>\n",
       "<style scoped>\n",
       "    .dataframe tbody tr th:only-of-type {\n",
       "        vertical-align: middle;\n",
       "    }\n",
       "\n",
       "    .dataframe tbody tr th {\n",
       "        vertical-align: top;\n",
       "    }\n",
       "\n",
       "    .dataframe thead th {\n",
       "        text-align: right;\n",
       "    }\n",
       "</style>\n",
       "<table border=\"1\" class=\"dataframe\">\n",
       "  <thead>\n",
       "    <tr style=\"text-align: right;\">\n",
       "      <th></th>\n",
       "      <th>geoid</th>\n",
       "      <th>population</th>\n",
       "      <th>education_bachelor</th>\n",
       "      <th>income</th>\n",
       "      <th>BA_share</th>\n",
       "      <th>cbsacode</th>\n",
       "      <th>tract_id</th>\n",
       "    </tr>\n",
       "  </thead>\n",
       "  <tbody>\n",
       "    <tr>\n",
       "      <th>0</th>\n",
       "      <td>14000US34003001000</td>\n",
       "      <td>6549</td>\n",
       "      <td>1689</td>\n",
       "      <td>55598.0</td>\n",
       "      <td>0.257902</td>\n",
       "      <td>35620.0</td>\n",
       "      <td>14000US34003001000</td>\n",
       "    </tr>\n",
       "    <tr>\n",
       "      <th>1</th>\n",
       "      <td>14000US34003002100</td>\n",
       "      <td>2006</td>\n",
       "      <td>584</td>\n",
       "      <td>100874.0</td>\n",
       "      <td>0.291127</td>\n",
       "      <td>35620.0</td>\n",
       "      <td>14000US34003002100</td>\n",
       "    </tr>\n",
       "    <tr>\n",
       "      <th>2</th>\n",
       "      <td>14000US34003002200</td>\n",
       "      <td>5151</td>\n",
       "      <td>930</td>\n",
       "      <td>36357.0</td>\n",
       "      <td>0.180547</td>\n",
       "      <td>35620.0</td>\n",
       "      <td>14000US34003002200</td>\n",
       "    </tr>\n",
       "    <tr>\n",
       "      <th>3</th>\n",
       "      <td>14000US34003002300</td>\n",
       "      <td>5729</td>\n",
       "      <td>1343</td>\n",
       "      <td>37859.0</td>\n",
       "      <td>0.234421</td>\n",
       "      <td>35620.0</td>\n",
       "      <td>14000US34003002300</td>\n",
       "    </tr>\n",
       "    <tr>\n",
       "      <th>4</th>\n",
       "      <td>14000US34003003100</td>\n",
       "      <td>5068</td>\n",
       "      <td>940</td>\n",
       "      <td>34507.0</td>\n",
       "      <td>0.185478</td>\n",
       "      <td>35620.0</td>\n",
       "      <td>14000US34003003100</td>\n",
       "    </tr>\n",
       "  </tbody>\n",
       "</table>\n",
       "</div>"
      ],
      "text/plain": [
       "                geoid  population  education_bachelor    income  BA_share  \\\n",
       "0  14000US34003001000        6549                1689   55598.0  0.257902   \n",
       "1  14000US34003002100        2006                 584  100874.0  0.291127   \n",
       "2  14000US34003002200        5151                 930   36357.0  0.180547   \n",
       "3  14000US34003002300        5729                1343   37859.0  0.234421   \n",
       "4  14000US34003003100        5068                 940   34507.0  0.185478   \n",
       "\n",
       "   cbsacode            tract_id  \n",
       "0   35620.0  14000US34003001000  \n",
       "1   35620.0  14000US34003002100  \n",
       "2   35620.0  14000US34003002200  \n",
       "3   35620.0  14000US34003002300  \n",
       "4   35620.0  14000US34003003100  "
      ]
     },
     "execution_count": 10,
     "metadata": {},
     "output_type": "execute_result"
    }
   ],
   "source": [
    "censusdata2012.head()"
   ]
  },
  {
   "cell_type": "code",
   "execution_count": 7,
   "metadata": {},
   "outputs": [
    {
     "data": {
      "text/html": [
       "<div>\n",
       "<style scoped>\n",
       "    .dataframe tbody tr th:only-of-type {\n",
       "        vertical-align: middle;\n",
       "    }\n",
       "\n",
       "    .dataframe tbody tr th {\n",
       "        vertical-align: top;\n",
       "    }\n",
       "\n",
       "    .dataframe thead th {\n",
       "        text-align: right;\n",
       "    }\n",
       "</style>\n",
       "<table border=\"1\" class=\"dataframe\">\n",
       "  <thead>\n",
       "    <tr style=\"text-align: right;\">\n",
       "      <th></th>\n",
       "      <th>user_id</th>\n",
       "      <th>degree</th>\n",
       "      <th>cbsacode</th>\n",
       "      <th>user_id1</th>\n",
       "    </tr>\n",
       "  </thead>\n",
       "  <tbody>\n",
       "    <tr>\n",
       "      <th>0</th>\n",
       "      <td>12</td>\n",
       "      <td>351</td>\n",
       "      <td>41860</td>\n",
       "      <td>12</td>\n",
       "    </tr>\n",
       "    <tr>\n",
       "      <th>1</th>\n",
       "      <td>21</td>\n",
       "      <td>49</td>\n",
       "      <td>41860</td>\n",
       "      <td>21</td>\n",
       "    </tr>\n",
       "    <tr>\n",
       "      <th>2</th>\n",
       "      <td>47</td>\n",
       "      <td>59</td>\n",
       "      <td>35620</td>\n",
       "      <td>47</td>\n",
       "    </tr>\n",
       "    <tr>\n",
       "      <th>3</th>\n",
       "      <td>293</td>\n",
       "      <td>10</td>\n",
       "      <td>41860</td>\n",
       "      <td>293</td>\n",
       "    </tr>\n",
       "    <tr>\n",
       "      <th>4</th>\n",
       "      <td>294</td>\n",
       "      <td>11</td>\n",
       "      <td>42660</td>\n",
       "      <td>294</td>\n",
       "    </tr>\n",
       "    <tr>\n",
       "      <th>...</th>\n",
       "      <td>...</td>\n",
       "      <td>...</td>\n",
       "      <td>...</td>\n",
       "      <td>...</td>\n",
       "    </tr>\n",
       "    <tr>\n",
       "      <th>86816</th>\n",
       "      <td>994290314</td>\n",
       "      <td>10</td>\n",
       "      <td>19740</td>\n",
       "      <td>994290314</td>\n",
       "    </tr>\n",
       "    <tr>\n",
       "      <th>86817</th>\n",
       "      <td>994365709</td>\n",
       "      <td>24</td>\n",
       "      <td>35620</td>\n",
       "      <td>994365709</td>\n",
       "    </tr>\n",
       "    <tr>\n",
       "      <th>86818</th>\n",
       "      <td>998305572</td>\n",
       "      <td>23</td>\n",
       "      <td>15380</td>\n",
       "      <td>998305572</td>\n",
       "    </tr>\n",
       "    <tr>\n",
       "      <th>86819</th>\n",
       "      <td>1000525465</td>\n",
       "      <td>18</td>\n",
       "      <td>13820</td>\n",
       "      <td>1000525465</td>\n",
       "    </tr>\n",
       "    <tr>\n",
       "      <th>86820</th>\n",
       "      <td>1003203037</td>\n",
       "      <td>13</td>\n",
       "      <td>37980</td>\n",
       "      <td>1003203037</td>\n",
       "    </tr>\n",
       "  </tbody>\n",
       "</table>\n",
       "<p>86821 rows × 4 columns</p>\n",
       "</div>"
      ],
      "text/plain": [
       "          user_id  degree  cbsacode    user_id1\n",
       "0              12     351     41860          12\n",
       "1              21      49     41860          21\n",
       "2              47      59     35620          47\n",
       "3             293      10     41860         293\n",
       "4             294      11     42660         294\n",
       "...           ...     ...       ...         ...\n",
       "86816   994290314      10     19740   994290314\n",
       "86817   994365709      24     35620   994365709\n",
       "86818   998305572      23     15380   998305572\n",
       "86819  1000525465      18     13820  1000525465\n",
       "86820  1003203037      13     37980  1003203037\n",
       "\n",
       "[86821 rows x 4 columns]"
      ]
     },
     "execution_count": 7,
     "metadata": {},
     "output_type": "execute_result"
    }
   ],
   "source": [
    "# data IN -- edges are present both ways\n",
    "geo_edgelist = pd.read_csv(\"../data/original_files/geo_edgelist_top50.csv.gz\")\n",
    "\n",
    "# degree\n",
    "degree_tab = geo_edgelist.groupby(\"user_id1\")[\"user_id2\"].count().reset_index()\n",
    "degree_tab.columns = [\"user_id\", \"degree\"]\n",
    "\n",
    "# remove users with less than 10 ties (!!!) AND replace NANs\n",
    "degree_tab = degree_tab[degree_tab[\"degree\"]>=10] \n",
    "degree_tab = degree_tab.fillna(0)\n",
    "\n",
    "# user and cbsa\n",
    "users = geo_edgelist[[\"cbsacode\", \"user_id1\"]].drop_duplicates()\n",
    "\n",
    "# merge\n",
    "degree_tab = pd.merge(degree_tab, users, left_on=\"user_id\", right_on=\"user_id1\", how=\"left\")\n",
    "\n",
    "degree_tab"
   ]
  },
  {
   "cell_type": "code",
   "execution_count": 8,
   "metadata": {},
   "outputs": [
    {
     "data": {
      "text/plain": [
       "86821"
      ]
     },
     "execution_count": 8,
     "metadata": {},
     "output_type": "execute_result"
    }
   ],
   "source": [
    "degree_tab.user_id.nunique()"
   ]
  }
 ],
 "metadata": {
  "interpreter": {
   "hash": "aee8b7b246df8f9039afb4144a1f6fd8d2ca17a180786b69acc140d282b71a49"
  },
  "kernelspec": {
   "display_name": "Python 3.9.1 64-bit",
   "name": "python3"
  },
  "language_info": {
   "codemirror_mode": {
    "name": "ipython",
    "version": 3
   },
   "file_extension": ".py",
   "mimetype": "text/x-python",
   "name": "python",
   "nbconvert_exporter": "python",
   "pygments_lexer": "ipython3",
   "version": "3.9.9"
  }
 },
 "nbformat": 4,
 "nbformat_minor": 4
}

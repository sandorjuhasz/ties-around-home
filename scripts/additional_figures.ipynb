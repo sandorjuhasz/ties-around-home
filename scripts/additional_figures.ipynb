{
 "cells": [
  {
   "cell_type": "code",
   "execution_count": 1,
   "metadata": {},
   "outputs": [],
   "source": [
    "import pandas as pd\n",
    "import numpy as np\n",
    "import matplotlib.pyplot as plt\n",
    "\n",
    "\n",
    "import json\n",
    "import geopandas as gpd\n",
    "from copy import deepcopy\n",
    "import shapely\n",
    "from shapely.geometry import Point,Polygon,LineString\n",
    "import pyproj"
   ]
  },
  {
   "cell_type": "markdown",
   "metadata": {},
   "source": [
    "### map of the 50 metro areas"
   ]
  },
  {
   "cell_type": "code",
   "execution_count": 2,
   "metadata": {},
   "outputs": [],
   "source": [
    "# shape file for US metro areas\n",
    "metromap = gpd.read_file(\"../data/shapes/tl_2019_us_cbsa/tl_2019_us_cbsa.shp\")"
   ]
  },
  {
   "cell_type": "code",
   "execution_count": 3,
   "metadata": {},
   "outputs": [],
   "source": [
    "# manipulations\n",
    "metromap.set_geometry(\"geometry\",inplace=True)\n",
    "\n",
    "metromap[\"GEOID\"] = metromap[\"GEOID\"].astype(int)"
   ]
  },
  {
   "cell_type": "code",
   "execution_count": 4,
   "metadata": {},
   "outputs": [],
   "source": [
    "# cbsa info table\n",
    "cbsa_info = pd.read_csv(\"../data/cbsacode_shortname_tracts.csv\", sep=\";\", index_col=0)"
   ]
  },
  {
   "cell_type": "code",
   "execution_count": 5,
   "metadata": {},
   "outputs": [],
   "source": [
    "# manipulations\n",
    "cbsa_info = cbsa_info.loc[:,[\"cbsacode\", \"short_name\"]].drop_duplicates()\n",
    "cbsa_info[\"selected\"] = 1\n",
    "cbsa_info[\"color\"] = \"darkblue\""
   ]
  },
  {
   "cell_type": "code",
   "execution_count": 10,
   "metadata": {},
   "outputs": [],
   "source": [
    "# merge for plot\n",
    "metromap = pd.merge(metromap, cbsa_info, left_on=\"GEOID\", right_on=\"cbsacode\", how=\"left\")"
   ]
  },
  {
   "cell_type": "code",
   "execution_count": 11,
   "metadata": {},
   "outputs": [],
   "source": [
    "# correction on the final dataframe\n",
    "metromap[\"selected\"] = metromap[\"selected\"].fillna(0)\n",
    "metromap[\"color\"] = metromap[\"color\"].fillna(\"lightgray\")"
   ]
  },
  {
   "cell_type": "code",
   "execution_count": 12,
   "metadata": {},
   "outputs": [],
   "source": [
    "# shape file for US states\n",
    "usmap = gpd.read_file(\"../data/shapes/tl_2017_us_state/tl_2017_us_state.shp\")\n",
    "\n",
    "# manipulations\n",
    "usmap.set_geometry(\"geometry\",inplace=True)"
   ]
  },
  {
   "cell_type": "markdown",
   "metadata": {},
   "source": [
    "### user numbers"
   ]
  },
  {
   "cell_type": "code",
   "execution_count": 89,
   "metadata": {},
   "outputs": [],
   "source": [
    "# data IN -- edges are present both ways\n",
    "geo_edgelist = pd.read_csv(\"../data/geo_edgelist_top50.csv.gz\")\n",
    "\n",
    "# degree\n",
    "degree_tab = geo_edgelist.groupby(\"user_id1\")[\"user_id2\"].count().reset_index()\n",
    "degree_tab.columns = [\"user_id\", \"degree\"]\n",
    "\n",
    "# remove users with less than 10 ties (!!!) AND replace NANs\n",
    "degree_tab = degree_tab[degree_tab[\"degree\"]>=10] \n",
    "degree_tab = degree_tab.fillna(0)\n",
    "\n",
    "# user and cbsa\n",
    "users = geo_edgelist[[\"cbsacode\", \"user_id1\"]].drop_duplicates()\n",
    "\n",
    "# merge\n",
    "degree_tab = pd.merge(degree_tab, users, left_on=\"user_id\", right_on=\"user_id1\", how=\"left\")\n",
    "\n",
    "# user count per cbsa\n",
    "users_cbsa = degree_tab.groupby(\"cbsacode\")[\"user_id\"].count().reset_index()"
   ]
  },
  {
   "cell_type": "code",
   "execution_count": 90,
   "metadata": {},
   "outputs": [],
   "source": [
    "# METRODATA\n",
    "\n",
    "metrodata = pd.read_csv('../data/cbsa-est2018-alldata.csv', encoding = \"ISO-8859-1\")\n",
    "metrodata = metrodata.drop_duplicates(subset=[\"CBSA\"])\n",
    "\n",
    "# keep relevant cbsacodes ONLY - sort by 2010 population\n",
    "metrodata = metrodata.set_index(\"CBSA\").loc[users_cbsa[\"cbsacode\"].unique()].reset_index().sort_values(by=\"CENSUS2010POP\",ascending=False)\n",
    "metrodata = metrodata.reset_index().reset_index()[[\"level_0\",\"CBSA\",\"NAME\",\"CENSUS2010POP\"]]\n",
    "metrodata.rename({\"level_0\":\"rank\",\"CBSA\":\"cbsacode\",\"NAME\":\"name\",\"CENSUS2010POP\":\"population\"},axis=1,inplace=True)\n",
    "\n",
    "# create short name for CBSAs\n",
    "metrodata[\"short_name\"] = metrodata[\"name\"].map(lambda s: s.split(\"-\")[0].split(\",\")[0])\n",
    "\n",
    "metrodata.loc[metrodata.short_name == \"Louisville/Jefferson County\", \"short_name\"] = \"Louisville\"\n",
    "\n",
    "# merge user counts\n",
    "metrodata = pd.merge(users_cbsa, metrodata, on=\"cbsacode\")\n",
    "metrodata = metrodata.sort_values(by=['rank'])"
   ]
  },
  {
   "cell_type": "code",
   "execution_count": null,
   "metadata": {},
   "outputs": [],
   "source": [
    "### combination\n",
    "\n",
    "# general\n",
    "import matplotlib.patches as mpatches\n",
    "plt.rcParams['font.size']=16\n",
    "plt.rc('legend',fontsize=22)\n",
    "fig, ax = plt.subplots(2,1, figsize = (15,15), constrained_layout=True)\n",
    "\n",
    "\n",
    "# MAP\n",
    "usmap.plot(ax=ax[0], color=\"white\", edgecolor='dimgray')\n",
    "metromap.plot(ax=ax[0], column=\"selected\", color=metromap[\"color\"], edgecolor='dimgray')\n",
    "ax[0].set_xlim([-127,-66])\n",
    "ax[0].set_ylim([24,50])\n",
    "ax[0].axis('off')\n",
    "\n",
    "top50metro = mpatches.Patch(color='darkblue', label='Top 50 metro areas')\n",
    "allmetro = mpatches.Patch(color='lightgray', label='Metro areas')\n",
    "ax[0].legend(handles=[top50metro, allmetro], loc='lower left')\n",
    "\n",
    "\n",
    "# distribution\n",
    "ax[1].bar(metrodata[\"short_name\"], metrodata[\"user_id\"], color=\"darkblue\")\n",
    "ax[1].set_xticklabels(labels=\"\", rotation=90)\n",
    "ax[1].grid()\n",
    "# ax[1].semilogy()\n",
    "ax[1].set_xticklabels(labels=metrodata['short_name'], rotation=90)\n",
    "ax[1].set_ylabel(\"Observed users\", size=22)\n",
    "\n",
    "plt.show()\n",
    "# plt.savefig('../fig/map_users_top50.png', dpi=300, bbox_inches='tight')"
   ]
  },
  {
   "cell_type": "markdown",
   "metadata": {},
   "source": [
    "### data representativity"
   ]
  },
  {
   "cell_type": "code",
   "execution_count": 19,
   "metadata": {},
   "outputs": [],
   "source": [
    "# data IN -- edges are present both ways\n",
    "geo_edgelist = pd.read_csv(\"../data/original_files/geo_edgelist_top50.csv.gz\")\n",
    "\n",
    "# degree\n",
    "degree_tab = geo_edgelist.groupby(\"user_id1\")[\"user_id2\"].count().reset_index()\n",
    "degree_tab.columns = [\"user_id\", \"degree\"]\n",
    "\n",
    "# remove users with less than 10 ties (!!!) AND replace NANs\n",
    "degree_tab = degree_tab[degree_tab[\"degree\"]>=10] \n",
    "degree_tab = degree_tab.fillna(0)\n",
    "\n",
    "# user and cbsa\n",
    "users = geo_edgelist[[\"cbsacode\", \"user_id1\"]].drop_duplicates()\n",
    "\n",
    "# merge\n",
    "degree_tab = pd.merge(degree_tab, users, left_on=\"user_id\", right_on=\"user_id1\", how=\"left\")\n",
    "\n",
    "# user count per cbsa\n",
    "user_df = degree_tab.groupby(\"cbsacode\")[\"user_id\"].count().reset_index()\n",
    "user_df.columns = [\"cbsacode\", \"nr_users\"]"
   ]
  },
  {
   "cell_type": "code",
   "execution_count": 26,
   "metadata": {},
   "outputs": [],
   "source": [
    "# add observed users to metrodata\n",
    "metrodata = pd.read_csv('../data/original_files/cbsa-est2018-alldata.csv', encoding = \"ISO-8859-1\")\n",
    "metrodata = metrodata.drop_duplicates(subset=[\"CBSA\"])\n",
    "\n",
    "# keep relevant cbsacodes ONLY - sort by 2010 population\n",
    "metrodata = metrodata.set_index(\"CBSA\").loc[user_df[\"cbsacode\"].unique()].reset_index().sort_values(by=\"CENSUS2010POP\",ascending=False)\n",
    "metrodata = metrodata.reset_index().reset_index()[[\"level_0\",\"CBSA\",\"NAME\",\"CENSUS2010POP\"]]\n",
    "metrodata.rename({\"level_0\":\"rank\",\"CBSA\":\"cbsacode\",\"NAME\":\"name\",\"CENSUS2010POP\":\"population\"},axis=1,inplace=True)\n",
    "\n",
    "# create short name for CBSAs\n",
    "metrodata[\"short_name\"] = metrodata[\"name\"].map(lambda s: s.split(\"-\")[0].split(\",\")[0])\n",
    "\n",
    "metrodata.loc[metrodata.short_name == \"Louisville/Jefferson County\", \"short_name\"] = \"Louisville\"\n",
    "\n",
    "metrodata.set_index(\"cbsacode\",inplace=True)\n",
    "metrodata = metrodata.reset_index()\n",
    "\n",
    "# user counts\n",
    "metrodata = pd.merge(metrodata, user_df, on=\"cbsacode\", how=\"left\")"
   ]
  },
  {
   "cell_type": "code",
   "execution_count": 131,
   "metadata": {},
   "outputs": [
    {
     "data": {
      "image/png": "[encoded data removed]",
      "text/plain": [
       "<Figure size 432x360 with 1 Axes>"
      ]
     },
     "metadata": {
      "needs_background": "light"
     },
     "output_type": "display_data"
    }
   ],
   "source": [
    "# SCATTER\n",
    "plt.rcParams['font.size']=18\n",
    "fig, ax = plt.subplots(figsize = (6,5))\n",
    "\n",
    "from sklearn.linear_model import LinearRegression\n",
    "from sklearn.metrics import r2_score\n",
    "\n",
    "X = (metrodata[\"population\"]).values.reshape(-1, 1) \n",
    "Y = (metrodata[\"nr_users\"]).values.reshape(-1, 1) \n",
    "linear_regressor = LinearRegression()  # create object for the class\n",
    "linear_regressor.fit(X, Y)  # perform linear regression\n",
    "Y_pred = linear_regressor.predict(X)  # make predictions\n",
    "\n",
    "plt.scatter(metrodata.population, metrodata.nr_users, s=120, color='#e9c46a', alpha=0.85)\n",
    "plt.plot(X, Y_pred, color='#264653', linewidth=3)\n",
    "plt.xlabel(\"Population of metro areas\")\n",
    "plt.ylabel(\"Observed users\")\n",
    "plt.loglog()\n",
    "#plt.xlim([10**5.95, 10**7.3])\n",
    "#plt.ylim([10**2.95, 10**4.5])\n",
    "\n",
    "#slope = str(\"slope = \" + linear_regressor.coef_)\n",
    "plt.text(10**6.7, 10**2.5, (\"slope = \" + str(linear_regressor.coef_[0][0])[:7]), style='italic')\n",
    "plt.text(10**6.7, 10**2.25, (\"R2 = \" + str(r2_score(Y, Y_pred))[:5]), style='italic')\n",
    "\n",
    "plt.grid()\n",
    "plt.show()\n",
    "#plt.savefig('../fig/revision_SI_population_users.png',density=300,bbox_inches='tight')"
   ]
  }
 ],
 "metadata": {
  "interpreter": {
   "hash": "aee8b7b246df8f9039afb4144a1f6fd8d2ca17a180786b69acc140d282b71a49"
  },
  "kernelspec": {
   "display_name": "Python 3.9.1 64-bit",
   "name": "python3"
  },
  "language_info": {
   "codemirror_mode": {
    "name": "ipython",
    "version": 3
   },
   "file_extension": ".py",
   "mimetype": "text/x-python",
   "name": "python",
   "nbconvert_exporter": "python",
   "pygments_lexer": "ipython3",
   "version": "3.9.9"
  }
 },
 "nbformat": 4,
 "nbformat_minor": 4
}
